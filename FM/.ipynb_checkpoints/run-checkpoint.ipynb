{
 "cells": [
  {
   "cell_type": "raw",
   "metadata": {},
   "source": [
    "# 洗数据，从原始label 表 拿到跟x.npy 排序一致的label.csv\n",
    "gps = y.groupby('loanid')\n",
    "\n",
    "dic ={}\n",
    "error = []\n",
    "for loan, gp in gps:\n",
    "    if gp.shape[0] == 3:\n",
    "        dic[loan] = gp[gp.installnum==2].default_10.tolist()[0]\n",
    "    elif gp.shape[0] == 1:\n",
    "        dic[loan] = gp.default_10.tolist()[0]\n",
    "    else:\n",
    "        error.append(loan)\n",
    "\n",
    "new = pd.DataFrame.from_dict(dic,orient='index')\n",
    "new.columns = ['label']\n",
    "new = new[~new.label.isnull()]\n",
    "\n",
    "feat_order_loanid = x[:, -1]\n",
    "FINAL = new.loc[feat_order_loanid.astype(np.int32)]\n",
    "\n",
    "# \n",
    "FINAL.to_csv(root_dir+'really_final_label_with_x_order.csv', index=True)\n",
    "yy = pd.read_csv(root_dir+'really_final_label_with_x_order.csv')\n",
    "yy.columns = ['loanid', 'label']\n",
    "train_idx, val_idx, test_idx = get_split_idx(yy[~yy.label.isnull()].index.tolist(), 0.75, 0.85)"
   ]
  },
  {
   "cell_type": "code",
   "execution_count": 1,
   "metadata": {},
   "outputs": [],
   "source": [
    "import sys\n",
    "sys.path.append('/home/qibo/all_project/ctr')\n",
    "\n",
    "from FM_modules.main import Main\n",
    "from FM_modules.layers import WideDeep, DeepFM, NFM, DeepCross, AFM, xDeepFM\n",
    "from FM_modules.data import CbDataNew\n",
    "from FM_modules.utils import roc_auc_compute\n",
    "from torch.utils.data import DataLoader\n",
    "from torch.utils.data import Dataset\n",
    "from sklearn.metrics import roc_auc_score\n",
    "import pandas as pd\n",
    "import numpy as np\n",
    "import torch.nn as nn\n",
    "import lightgbm as lgb\n",
    "import torch\n",
    "import pickle\n",
    "from tqdm import tqdm\n",
    "import warnings\n",
    "import time\n",
    "warnings.filterwarnings(\"ignore\")"
   ]
  },
  {
   "cell_type": "code",
   "execution_count": 2,
   "metadata": {},
   "outputs": [],
   "source": [
    "\n",
    "gbm = lgb.Booster(model_file = '/home/qibo/all_project/ctr/modules/lgb_model_auc_68_new.lgb')\n",
    "with open('/home/qibo/all_project/ctr/modules/lgb_model/pre_defined_idx_new.txt', 'rb') as f:  # Python 3: open(..., 'rb')\n",
    "    train_idx, val_idx, test_idx = pickle.load(f)\n",
    "\n",
    "root_dir='/data-0/qibo/ctx_6W_data/'\n"
   ]
  },
  {
   "cell_type": "code",
   "execution_count": 3,
   "metadata": {},
   "outputs": [
    {
     "name": "stdout",
     "output_type": "stream",
     "text": [
      "x shape:(41906, 1426), num_trees:1426, leaf_num_per_tree:21\n",
      "x shape:(5587, 1426), num_trees:1426, leaf_num_per_tree:21\n",
      "x shape:(8382, 1426), num_trees:1426, leaf_num_per_tree:21\n"
     ]
    }
   ],
   "source": [
    "train_dataset = CbDataNew(root_dir = root_dir, \n",
    "                       add_cls = False, \n",
    "                       gbdt_model = gbm,\n",
    "                       data_idx = train_idx)\n",
    "\n",
    "val_dataset = CbDataNew(root_dir = root_dir, \n",
    "                       add_cls = False, \n",
    "                       gbdt_model = gbm,\n",
    "                       data_idx = val_idx)\n",
    "\n",
    "test_dataset = CbDataNew(root_dir = root_dir, \n",
    "                       add_cls = False, \n",
    "                       gbdt_model = gbm,\n",
    "                       data_idx = test_idx)"
   ]
  },
  {
   "cell_type": "code",
   "execution_count": 4,
   "metadata": {},
   "outputs": [
    {
     "name": "stdout",
     "output_type": "stream",
     "text": [
      "use given dataset\n",
      "NFM(\n",
      "  (Emb): Embedding(29946, 50)\n",
      "  (deep1): Linear(in_features=50, out_features=25, bias=True)\n",
      "  (deep2): Linear(in_features=25, out_features=12, bias=True)\n",
      "  (ffn): Linear(in_features=71312, out_features=1, bias=True)\n",
      ")\n"
     ]
    }
   ],
   "source": [
    "CB = Main(gbdt_model = gbm, \n",
    "          pre_defined_idx = (train_idx, val_idx), \n",
    "          device='cpu', \n",
    "          data_or_dataroot = (train_dataset, val_dataset), \n",
    "          emb_size = 50, \n",
    "          model_save_dir='/home/qibo/all_project/ctr/model_save/',\n",
    "          model_name='NFM')"
   ]
  },
  {
   "cell_type": "code",
   "execution_count": 5,
   "metadata": {},
   "outputs": [
    {
     "name": "stdout",
     "output_type": "stream",
     "text": [
      "start training ......\n",
      "\n",
      "--------------------------------batch_num:0/139----------------------------------------\n",
      "train_loss:0.8770986795425415  valid:loss:0.5859582424163818\n",
      "train_auc:0.44850931677018635 valid_auc:0.522744697592984\n",
      "\n",
      "--------------------------------batch_num:10/139----------------------------------------\n",
      "train_loss:0.6032882576639002  valid:loss:0.5965126156806946\n",
      "train_auc:0.5919478043017393 valid_auc:0.6082994635383157\n",
      "\n",
      "--------------------------------batch_num:20/139----------------------------------------\n",
      "train_loss:0.5424779483250209  valid:loss:0.5511807203292847\n",
      "train_auc:0.6660618366196085 valid_auc:0.6335684229640572\n",
      "\n",
      "--------------------------------batch_num:30/139----------------------------------------\n",
      "train_loss:0.49108219915820706  valid:loss:0.5723404884338379\n",
      "train_auc:0.7139631291442127 valid_auc:0.6368360268507332\n",
      "\n",
      "--------------------------------batch_num:40/139----------------------------------------\n",
      "train_loss:0.4572997296728739  valid:loss:0.5613539218902588\n",
      "train_auc:0.7533332689471606 valid_auc:0.6330975524823028\n",
      "\n",
      "--------------------------------batch_num:50/139----------------------------------------\n",
      "train_loss:0.43482235249351053  valid:loss:0.5604465007781982\n",
      "train_auc:0.7815302479486987 valid_auc:0.6366602327133274\n",
      "\n",
      "--------------------------------batch_num:60/139----------------------------------------\n",
      "train_loss:0.4167242724387372  valid:loss:0.5649714469909668\n",
      "train_auc:0.7991921350287722 valid_auc:0.6337485138763411\n",
      "\n",
      "--------------------------------batch_num:70/139----------------------------------------\n",
      "train_loss:0.3991463774106872  valid:loss:0.5595600605010986\n",
      "train_auc:0.8176211056106417 valid_auc:0.6292237297052112\n",
      "\n",
      "--------------------------------batch_num:80/139----------------------------------------\n",
      "train_loss:0.3839537091093299  valid:loss:0.5634551644325256\n",
      "train_auc:0.8317540485224006 valid_auc:0.6341434435325319\n",
      "\n",
      "--------------------------------batch_num:90/139----------------------------------------\n",
      "train_loss:0.3706705241085409  valid:loss:0.5616545677185059\n",
      "train_auc:0.8436331946779232 valid_auc:0.6396595683945681\n",
      "\n",
      "--------------------------------batch_num:100/139----------------------------------------\n",
      "train_loss:0.3606806465304724  valid:loss:0.5647322535514832\n",
      "train_auc:0.8532252263325804 valid_auc:0.6402797985074125\n",
      "\n",
      "--------------------------------batch_num:110/139----------------------------------------\n",
      "train_loss:0.3519344540598156  valid:loss:0.562167763710022\n",
      "train_auc:0.8617084900779524 valid_auc:0.6363181720697676\n",
      "\n",
      "--------------------------------batch_num:120/139----------------------------------------\n",
      "train_loss:0.3424509111022161  valid:loss:0.5677195191383362\n",
      "train_auc:0.8691059298322874 valid_auc:0.6339938036769931\n",
      "\n",
      "--------------------------------batch_num:130/139----------------------------------------\n",
      "train_loss:0.33605579974997135  valid:loss:0.574968159198761\n",
      "train_auc:0.8741848952559691 valid_auc:0.6350274582596342\n",
      "\n",
      "--------------------------------batch_num:139/139----------------------------------------\n",
      "train_loss:0.33605579974997135  valid:loss:0.5755313038825989\n",
      "train_auc:0.8741848952559691 valid_auc:0.6344524376911598\n",
      "\n",
      "model saved in /home/qibo/all_project/ctr/model_save/NFM_epoch_0_auc_0.6344524376911598\n"
     ]
    }
   ],
   "source": [
    "CB.train(1, 300, 0.00008, 0.23, verbose = 0, save_model=True)"
   ]
  },
  {
   "cell_type": "code",
   "execution_count": 6,
   "metadata": {},
   "outputs": [
    {
     "data": {
      "text/plain": [
       "0.6392331062212872"
      ]
     },
     "execution_count": 6,
     "metadata": {},
     "output_type": "execute_result"
    }
   ],
   "source": [
    "CB.eval_(test_dataset.x, test_dataset.y, \n",
    "         load_path='/home/qibo/all_project/ctr/model_save/NFM_epoch_0_auc_0.6303686333939366')"
   ]
  },
  {
   "cell_type": "code",
   "execution_count": 7,
   "metadata": {},
   "outputs": [
    {
     "data": {
      "text/plain": [
       "'/home/qibo/all_project/ctr'"
      ]
     },
     "execution_count": 7,
     "metadata": {},
     "output_type": "execute_result"
    }
   ],
   "source": [
    "pwd"
   ]
  },
  {
   "cell_type": "code",
   "execution_count": 8,
   "metadata": {},
   "outputs": [],
   "source": [
    "import glob"
   ]
  },
  {
   "cell_type": "code",
   "execution_count": 9,
   "metadata": {},
   "outputs": [
    {
     "data": {
      "text/plain": [
       "['/home/qibo/all_project/ctr/DIN.ipynb',\n",
       " '/home/qibo/all_project/ctr/5. final_train.ipynb',\n",
       " '/home/qibo/all_project/ctr/4. modules.ipynb',\n",
       " '/home/qibo/all_project/ctr/6. other nn_fm.ipynb',\n",
       " '/home/qibo/all_project/ctr/test.ipynb',\n",
       " '/home/qibo/all_project/ctr/2. lgb.ipynb',\n",
       " '/home/qibo/all_project/ctr/3. data_set & emb.ipynb',\n",
       " '/home/qibo/all_project/ctr/FM_modules',\n",
       " '/home/qibo/all_project/ctr/modules',\n",
       " '/home/qibo/all_project/ctr/lgb_model.lgb',\n",
       " '/home/qibo/all_project/ctr/数据预处理.ipynb',\n",
       " '/home/qibo/all_project/ctr/model_save']"
      ]
     },
     "execution_count": 9,
     "metadata": {},
     "output_type": "execute_result"
    }
   ],
   "source": [
    "glob.glob('/home/qibo/all_project/ctr/*')"
   ]
  },
  {
   "cell_type": "code",
   "execution_count": 19,
   "metadata": {},
   "outputs": [],
   "source": [
    "bs=2\n",
    "ts = 4\n",
    "x = torch.randint(3,(bs,ts,3))\n",
    "def _get_tri_idx(rank):\n",
    "    assert rank >= 2\n",
    "    aa = torch.range(0, rank * rank - 1).view(rank, rank).type(torch.long)\n",
    "    bb = torch.triu(aa, 1)\n",
    "    return torch.unique(bb)[1:]"
   ]
  },
  {
   "cell_type": "code",
   "execution_count": 27,
   "metadata": {},
   "outputs": [
    {
     "name": "stdout",
     "output_type": "stream",
     "text": [
      "tensor([[[1, 1, 2, 0],\n",
      "         [1, 2, 2, 2],\n",
      "         [2, 2, 8, 0],\n",
      "         [0, 2, 0, 4]],\n",
      "\n",
      "        [[9, 2, 5, 2],\n",
      "         [2, 1, 0, 0],\n",
      "         [5, 0, 5, 2],\n",
      "         [2, 0, 2, 4]]])\n",
      "tensor([[[1, 1, 2, 0],\n",
      "         [0, 2, 2, 2],\n",
      "         [0, 0, 8, 0],\n",
      "         [0, 0, 0, 4]],\n",
      "\n",
      "        [[9, 2, 5, 2],\n",
      "         [0, 1, 0, 0],\n",
      "         [0, 0, 5, 2],\n",
      "         [0, 0, 0, 4]]])\n",
      "tensor([ 1,  2,  3,  6,  7, 11])\n"
     ]
    },
    {
     "name": "stderr",
     "output_type": "stream",
     "text": [
      "/Users/cashbus/anaconda3/lib/python3.7/site-packages/ipykernel_launcher.py:3: UserWarning: torch.range is deprecated in favor of torch.arange and will be removed in 0.5. Note that arange generates values in [start; end), not [start; end].\n",
      "  This is separate from the ipykernel package so we can avoid doing imports until\n"
     ]
    },
    {
     "data": {
      "text/plain": [
       "tensor([[1, 1, 2, 0, 0, 2, 2, 2, 0, 0, 8, 0, 0, 0, 0, 4],\n",
       "        [9, 2, 5, 2, 0, 1, 0, 0, 0, 0, 5, 2, 0, 0, 0, 4]])"
      ]
     },
     "execution_count": 27,
     "metadata": {},
     "output_type": "execute_result"
    }
   ],
   "source": [
    "fm_part1 = torch.einsum('btf,byf->bty', x, x)\n",
    "print(fm_part1)\n",
    "fm_part = torch.triu(fm_part1, diagonal=0)  # bs,ts,ty\n",
    "print(fm_part)\n",
    "select_idx = _get_tri_idx(ts)\n",
    "print(select_idx)\n",
    "fm_part.view(bs, -1)"
   ]
  }
 ],
 "metadata": {
  "kernelspec": {
   "display_name": "Python 3",
   "language": "python",
   "name": "python3"
  },
  "language_info": {
   "codemirror_mode": {
    "name": "ipython",
    "version": 3
   },
   "file_extension": ".py",
   "mimetype": "text/x-python",
   "name": "python",
   "nbconvert_exporter": "python",
   "pygments_lexer": "ipython3",
   "version": "3.7.3"
  }
 },
 "nbformat": 4,
 "nbformat_minor": 2
}
