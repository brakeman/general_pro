{
 "cells": [
  {
   "cell_type": "code",
   "execution_count": 1,
   "metadata": {},
   "outputs": [],
   "source": [
    "import json\n",
    "import glob\n",
    "import numpy as np\n",
    "root ='/home/tigergraph/GraphProject/OneMonthGraph/Querys/pyG/data/raw/'\n"
   ]
  },
  {
   "cell_type": "code",
   "execution_count": null,
   "metadata": {},
   "outputs": [],
   "source": [
    "with open(glob.glob(root+'/*')[1]) as json_file:\n",
    "    x = json.load(json_file)\n",
    "    \n",
    "with open(glob.glob(root+'/*')[5]) as json_file:\n",
    "    y = json.load(json_file)\n",
    "\n",
    "with open(glob.glob(root+'/*')[0]) as json_file:\n",
    "    edge = json.load(json_file)"
   ]
  },
  {
   "cell_type": "code",
   "execution_count": 3,
   "metadata": {},
   "outputs": [],
   "source": [
    "# x_set = set(x.keys())\n",
    "\n",
    "y_set = set(y.keys())\n",
    "\n",
    "a1 = np.array(edge).transpose()[0]\n",
    "a2 = np.array(edge).transpose()[1]\n",
    "edge_set = set(a1).union(set(a2))"
   ]
  },
  {
   "cell_type": "code",
   "execution_count": null,
   "metadata": {},
   "outputs": [],
   "source": [
    "x_set - y_set"
   ]
  },
  {
   "cell_type": "code",
   "execution_count": null,
   "metadata": {},
   "outputs": [],
   "source": [
    "y_set - x_set"
   ]
  },
  {
   "cell_type": "code",
   "execution_count": null,
   "metadata": {},
   "outputs": [],
   "source": []
  },
  {
   "cell_type": "raw",
   "metadata": {},
   "source": [
    "# get feats;\n",
    "\n",
    "test_st='20190601'\n",
    "test_et='20190604'\n",
    "\n",
    "res = pyG_prepare(test_st, test_et, \"PhoneNumber\")\n",
    "\n",
    "for temp_dic in tqdm(res['results'][0]['vv']):\n",
    "    if 'attributes' in temp_dic:\n",
    "        dic2 = temp_dic['attributes']['vv.@node_date_calls']\n",
    "    lis.append(temp_dic.update(dic2))\n",
    "    if 'attributes' in temp_dic:\n",
    "        temp_dic.pop('attributes')\n",
    "    if 'vv.@node_date_calls' in temp_dic:\n",
    "        temp_dic.pop('vv.@node_date_calls')\n",
    "            \n",
    "final = pd.DataFrame.from_dict(res['results'][0]['vv'])\n",
    "\n",
    "final2df = final.iloc[:,:4].applymap(lambda x: len(x) if type(x)==list else 0)\n",
    "\n",
    "col_names = ['new_{}'.format(i) for i in final2df.columns]\n",
    "\n",
    "final[col_names] = final.iloc[:,:4].applymap(lambda x: len(x) if type(x)==list else 0)\n",
    "\n",
    "final['num_phone'] = final[['v_id']].applymap(lambda x: len(str(x)))\n",
    "\n",
    "final2 = final[['v_id', 'new_20190601','new_20190602','new_20190603','new_20190604']]\n",
    "\n",
    "\n",
    "final2.to_csv('/home/tigergraph/GraphProject/OneMonthGraph/Querys/pyG/data/feat.csv', index=False)"
   ]
  },
  {
   "cell_type": "code",
   "execution_count": null,
   "metadata": {},
   "outputs": [],
   "source": []
  },
  {
   "cell_type": "code",
   "execution_count": 10,
   "metadata": {},
   "outputs": [
    {
     "name": "stdout",
     "output_type": "stream",
     "text": [
      "0 0 0\n",
      "100000 100000 -99991\n",
      "200000 200000 -199987\n",
      "300000 300000 -299981\n",
      "400000 400000 -399976\n",
      "500000 500000 -499965\n",
      "600000 600000 -599953\n",
      "700000 700000 -699939\n",
      "800000 800000 -799913\n",
      "900000 900000 -899887\n",
      "1000000 1000000 -999854\n",
      "1100000 1100000 -1099811\n",
      "1200000 1200000 -1199777\n",
      "1300000 1300000 -1299727\n",
      "1400000 1400000 -1399666\n",
      "1500000 1500000 -1499593\n",
      "1600000 1600000 -1599565\n",
      "1700000 1700000 -1699548\n",
      "1800000 1800000 -1799544\n",
      "1900000 1900000 -1899540\n",
      "2000000 2000000 -1999538\n",
      "2100000 2100000 -2099529\n",
      "2200000 2200000 -2199523\n",
      "2300000 2300000 -2299514\n",
      "2400000 2400000 -2399508\n",
      "2500000 2500000 -2499505\n",
      "2600000 2600000 -2599494\n",
      "2700000 2700000 -2699477\n",
      "2800000 2800000 -2799399\n",
      "2900000 2900000 -2898995\n",
      "3000000 3000000 -2997711\n",
      "3100000 3100000 -3096877\n",
      "3200000 3200000 -3196718\n",
      "3300000 3300000 -3296677\n",
      "3400000 3400000 -3396664\n",
      "3500000 3500000 -3496644\n",
      "3600000 3600000 -3596635\n",
      "3700000 3700000 -3696628\n",
      "3800000 3800000 -3796623\n",
      "3900000 3900000 -3896614\n",
      "4000000 4000000 -3996206\n",
      "4100000 4100000 -4094973\n",
      "4200000 4200000 -4194026\n",
      "4300000 4300000 -4293794\n",
      "4400000 4400000 -4393747\n",
      "4500000 4500000 -4493713\n",
      "4600000 4600000 -4593694\n",
      "4700000 4700000 -4693683\n",
      "4800000 4800000 -4793660\n",
      "4900000 4900000 -4893653\n",
      "5000000 5000000 -4993580\n",
      "5100000 5100000 -5093022\n",
      "5200000 5200000 -5191880\n",
      "5300000 5300000 -5291340\n",
      "5400000 5400000 -5391246\n",
      "5500000 5500000 -5491231\n",
      "5600000 5600000 -5591223\n",
      "5700000 5700000 -5691221\n",
      "5800000 5800000 -5791217\n",
      "5900000 5900000 -5891216\n"
     ]
    }
   ],
   "source": [
    "# get labels；\n",
    "\n",
    "labels = pd.read_csv('/home/tigergraph/GraphProject/OneMonthGraph/Querys/pyG/data/temp1.csv')\n",
    "labels1 = labels[['default_now', 'username']]\n",
    "label_dict = labels1.set_index('username').to_dict()\n",
    "\n",
    "# 序号按照 feat序号；\n",
    "lis = []\n",
    "labeled_phone = labels1.username.astype(str).to_list()\n",
    "for i, phone in enumerate(final2.v_id):\n",
    "    if i %100000==0:\n",
    "        print(i, len(lis), sum(lis))\n",
    "    if phone in labeled_phone:\n",
    "        lis.append(label_dict['default_now'][int(phone)])\n",
    "    else:\n",
    "        lis.append(-1)\n",
    "\n",
    "label_df = pd.DataFrame(lis, columns=['label'])\n",
    "\n",
    "label_df.to_csv('/home/tigergraph/GraphProject/OneMonthGraph/Querys/pyG/data/label.csv', index=False)"
   ]
  },
  {
   "cell_type": "code",
   "execution_count": null,
   "metadata": {},
   "outputs": [],
   "source": []
  },
  {
   "cell_type": "code",
   "execution_count": 11,
   "metadata": {},
   "outputs": [
    {
     "name": "stdout",
     "output_type": "stream",
     "text": [
      "query:pyG_pre\n",
      "paras:['start_t=20190601', 'end_t=20190604', 'node=PhoneNumber']\n",
      "request for url: http://192.168.20.241:9000/query/OneMonthNet/pyG_pre?start_t=20190601&end_t=20190604&node=PhoneNumber\n",
      "---------------------------------------------------------------------------------------------------\n"
     ]
    },
    {
     "name": "stderr",
     "output_type": "stream",
     "text": [
      "  4%|▍         | 229088/5938366 [00:00<00:05, 1126679.20it/s]"
     ]
    },
    {
     "name": "stdout",
     "output_type": "stream",
     "text": [
      "run query finish, use 107.84895515441895 seconds\n",
      "\n",
      "\n"
     ]
    },
    {
     "name": "stderr",
     "output_type": "stream",
     "text": [
      "100%|██████████| 5938366/5938366 [00:03<00:00, 1526486.96it/s]\n",
      "100%|██████████| 5938366/5938366 [00:14<00:00, 399058.52it/s]\n"
     ]
    }
   ],
   "source": [
    "# get edges;\n",
    "res = pyG_prepare(test_st, test_et, \"PhoneNumber\")\n",
    "\n",
    "for dic in tqdm(res['results'][0]['vv']):\n",
    "    dic.update(dic['attributes']['vv.@node_date_calls'])\n",
    "\n",
    "for dic in res['results'][0]['vv']:\n",
    "    dic['lis'] = []\n",
    "    for i,v in dic.items():\n",
    "        if i in ['20190601','20190602','20190603','20190604']:\n",
    "            dic['lis'].extend(v)\n",
    "            \n",
    "edges = pd.DataFrame.from_dict(res['results'][0]['vv'])\n",
    "\n",
    "EDGES = []\n",
    "for a, b in tqdm(edges[['lis','v_id']].values):\n",
    "    bb=len(a)*[b]\n",
    "    EDGES.extend(list(zip(a, bb)))\n",
    "\n",
    "pd.DataFrame(EDGES, columns=['source', 'target']).to_csv('/home/tigergraph/GraphProject/OneMonthGraph/Querys/pyG/data/edge.csv',\n",
    "index=False)\n"
   ]
  },
  {
   "cell_type": "code",
   "execution_count": null,
   "metadata": {},
   "outputs": [],
   "source": []
  },
  {
   "cell_type": "code",
   "execution_count": 13,
   "metadata": {},
   "outputs": [
    {
     "name": "stderr",
     "output_type": "stream",
     "text": [
      "/usr/local/lib/python3.6/dist-packages/IPython/core/interactiveshell.py:2785: DtypeWarning: Columns (0,1) have mixed types. Specify dtype option on import or set low_memory=False.\n",
      "  interactivity=interactivity, compiler=compiler, result=result)\n"
     ]
    }
   ],
   "source": [
    "# get feats; torch;\n",
    "final2 = pd.read_csv('/home/tigergraph/GraphProject/OneMonthGraph/Querys/pyG/data/feat.csv')\n",
    "idx2phone = dict(enumerate(final2.v_id))\n",
    "phone2idx = {v:k for k,v in idx2phone.items()}\n",
    "x = torch.tensor(final2.iloc[:,1:].values, dtype=torch.float)\n",
    "\n",
    "# get edges; \n",
    "edges_df = pd.read_csv('/home/tigergraph/GraphProject/OneMonthGraph/Querys/pyG/data/edge.csv')\n",
    "\n",
    "# get labels; \n",
    "label_df = pd.read_csv('/home/tigergraph/GraphProject/OneMonthGraph/Querys/pyG/data/label.csv')\n"
   ]
  },
  {
   "cell_type": "code",
   "execution_count": 26,
   "metadata": {},
   "outputs": [],
   "source": [
    "with open(root + 'phone2idx.json', 'w') as json_file:\n",
    "    json.dump(phone2idx, json_file)"
   ]
  },
  {
   "cell_type": "code",
   "execution_count": null,
   "metadata": {},
   "outputs": [],
   "source": []
  },
  {
   "cell_type": "code",
   "execution_count": 18,
   "metadata": {},
   "outputs": [],
   "source": [
    "root ='/home/tigergraph/GraphProject/OneMonthGraph/Querys/pyG/data/'"
   ]
  },
  {
   "cell_type": "code",
   "execution_count": 19,
   "metadata": {},
   "outputs": [],
   "source": [
    "import glob"
   ]
  },
  {
   "cell_type": "code",
   "execution_count": 20,
   "metadata": {},
   "outputs": [
    {
     "data": {
      "text/plain": [
       "['/home/tigergraph/GraphProject/OneMonthGraph/Querys/pyG/data/temp1.csv',\n",
       " '/home/tigergraph/GraphProject/OneMonthGraph/Querys/pyG/data/edge.csv',\n",
       " '/home/tigergraph/GraphProject/OneMonthGraph/Querys/pyG/data/2019-06-01 00:00:00_2019-06-04 00:00:00.csv',\n",
       " '/home/tigergraph/GraphProject/OneMonthGraph/Querys/pyG/data/feat.csv',\n",
       " '/home/tigergraph/GraphProject/OneMonthGraph/Querys/pyG/data/label.csv']"
      ]
     },
     "execution_count": 20,
     "metadata": {},
     "output_type": "execute_result"
    }
   ],
   "source": [
    "glob.glob(root + '/*')"
   ]
  },
  {
   "cell_type": "code",
   "execution_count": null,
   "metadata": {},
   "outputs": [],
   "source": []
  },
  {
   "cell_type": "code",
   "execution_count": 6,
   "metadata": {},
   "outputs": [
    {
     "ename": "ModuleNotFoundError",
     "evalue": "No module named 'torch_geometric'",
     "output_type": "error",
     "traceback": [
      "\u001b[0;31m------\u001b[0m",
      "\u001b[0;31mModuleNotFoundError\u001b[0mTraceback (most recent call last)",
      "\u001b[0;32m<ipython-input-6-1fd7fcac8677>\u001b[0m in \u001b[0;36m<module>\u001b[0;34m()\u001b[0m\n\u001b[1;32m      7\u001b[0m \u001b[0;32mimport\u001b[0m \u001b[0mpickle\u001b[0m\u001b[0;34m\u001b[0m\u001b[0;34m\u001b[0m\u001b[0m\n\u001b[1;32m      8\u001b[0m \u001b[0;32mimport\u001b[0m \u001b[0mtorch\u001b[0m\u001b[0;34m\u001b[0m\u001b[0;34m\u001b[0m\u001b[0m\n\u001b[0;32m----> 9\u001b[0;31m \u001b[0;32mfrom\u001b[0m \u001b[0mtorch_geometric\u001b[0m\u001b[0;34m.\u001b[0m\u001b[0mdata\u001b[0m \u001b[0;32mimport\u001b[0m \u001b[0mData\u001b[0m\u001b[0;34m\u001b[0m\u001b[0;34m\u001b[0m\u001b[0m\n\u001b[0m\u001b[1;32m     10\u001b[0m \u001b[0;32mimport\u001b[0m \u001b[0mtorch\u001b[0m\u001b[0;34m\u001b[0m\u001b[0;34m\u001b[0m\u001b[0m\n\u001b[1;32m     11\u001b[0m \u001b[0;32mimport\u001b[0m \u001b[0mtorch\u001b[0m\u001b[0;34m.\u001b[0m\u001b[0mnn\u001b[0m\u001b[0;34m.\u001b[0m\u001b[0mfunctional\u001b[0m \u001b[0;32mas\u001b[0m \u001b[0mF\u001b[0m\u001b[0;34m\u001b[0m\u001b[0;34m\u001b[0m\u001b[0m\n",
      "\u001b[0;31mModuleNotFoundError\u001b[0m: No module named 'torch_geometric'"
     ]
    }
   ],
   "source": [
    "import json\n",
    "import scipy\n",
    "import pandas as pd\n",
    "import numpy as np\n",
    "from scipy.sparse import csr_matrix\n",
    "from scipy import sparse\n",
    "import pickle\n",
    "import torch\n",
    "from torch_geometric.data import Data\n",
    "import torch\n",
    "import torch.nn.functional as F\n",
    "# from torch_geometric.datasets import Planetoid\n",
    "import torch_geometric.transforms as T\n",
    "from torch_geometric.nn import SplineConv,GCNConv\n",
    "\n",
    "\n",
    "import torch\n",
    "from torch_geometric.data import InMemoryDataset, download_url"
   ]
  },
  {
   "cell_type": "code",
   "execution_count": null,
   "metadata": {},
   "outputs": [],
   "source": [
    "class CashBus(InMemoryDataset):\n",
    "    r\"\"\"The citation network datasets \"Cora\", \"CiteSeer\" and \"PubMed\" from the\n",
    "    \"Revisiting Semi-Supervised Learning with Graph Embeddings\"\n",
    "    <https://arxiv.org/abs/1603.08861>`_ paper.\n",
    "    Nodes represent documents and edges represent citation links.\n",
    "    Training, validation and test splits are given by binary masks.\n",
    "    Args:\n",
    "        root (string): Root directory where the dataset should be saved.\n",
    "        name (string): The name of the dataset (:obj:`\"Cora\"`,\n",
    "            :obj:`\"CiteSeer\"`, :obj:`\"PubMed\"`).\n",
    "        transform (callable, optional): A function/transform that takes in an\n",
    "            :obj:`torch_geometric.data.Data` object and returns a transformed\n",
    "            version. The data object will be transformed before every access.\n",
    "            (default: :obj:`None`)\n",
    "        pre_transform (callable, optional): A function/transform that takes in\n",
    "            an :obj:`torch_geometric.data.Data` object and returns a\n",
    "            transformed version. The data object will be transformed before\n",
    "            being saved to disk. (default: :obj:`None`)\n",
    "    \"\"\"\n",
    "\n",
    "\n",
    "    def __init__(self, root, transform=None, pre_transform=None):\n",
    "        super(CashBus, self).__init__(root, transform, pre_transform)\n",
    "        print('processed_path:{}'.format(self.processed_paths))\n",
    "        self.data, self.slices = torch.load(self.processed_paths[0])\n",
    "\n",
    "    @property\n",
    "    def raw_file_names(self):\n",
    "        return ['col_4_dict', 'feat.npz', 'y.npz', 'edges.npz', 'col_name.pkl']\n",
    "\n",
    "    @property\n",
    "    def processed_file_names(self):\n",
    "        return 'data.pt'\n",
    "    \n",
    "    def download(self):\n",
    "        pass\n",
    "\n",
    "    def process(self):\n",
    "        print('go pl, raw_dir:{}'.format(self.raw_dir))\n",
    "        data = read_cashbus_data(self.raw_dir)\n",
    "        data = data if self.pre_transform is None else self.pre_transform(data)\n",
    "        data, slices = self.collate([data])\n",
    "        torch.save((data, slices), self.processed_paths[0])\n",
    "\n",
    "    def __repr__(self):\n",
    "        return '{}()'.format(self.name)"
   ]
  },
  {
   "cell_type": "code",
   "execution_count": null,
   "metadata": {},
   "outputs": [],
   "source": []
  }
 ],
 "metadata": {
  "kernelspec": {
   "display_name": "Python 3",
   "language": "python",
   "name": "python3"
  },
  "language_info": {
   "codemirror_mode": {
    "name": "ipython",
    "version": 3
   },
   "file_extension": ".py",
   "mimetype": "text/x-python",
   "name": "python",
   "nbconvert_exporter": "python",
   "pygments_lexer": "ipython3",
   "version": "3.6.7"
  }
 },
 "nbformat": 4,
 "nbformat_minor": 2
}
