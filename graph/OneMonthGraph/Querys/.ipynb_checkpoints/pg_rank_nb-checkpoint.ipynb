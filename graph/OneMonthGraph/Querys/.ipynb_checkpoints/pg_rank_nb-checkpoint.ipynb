{
 "cells": [
  {
   "cell_type": "code",
   "execution_count": 8,
   "metadata": {},
   "outputs": [],
   "source": [
    "import requests\n",
    "import json\n",
    "import pandas as pd\n",
    "import numpy as np\n",
    "from urllib.parse import urljoin\n",
    "import time\n",
    "import logging\n",
    "import csv\n",
    "from tqdm import tqdm\n",
    "import glob\n",
    "\n",
    "GRAPHSQL_URL = \"http://192.168.20.241:9000/query/OneMonthNet/\"\n",
    "\n",
    "############################ util functions ############################\n",
    "def query_graphsql_ori(query_name, para_string):\n",
    "    remaining_url = \"{}?{}\".format(query_name, para_string)\n",
    "    url=urljoin(GRAPHSQL_URL, remaining_url)\n",
    "    print('query:{}\\nparas:{}\\nrequest for url: {}'.format(query_name, para_string.split('&'), url))\n",
    "    print('---------------------------------------------------------------------------------------------------')\n",
    "    result = requests.get(url)\n",
    "    result_json = json.loads(result.text)\n",
    "    return result_json\n",
    "\n",
    "\n",
    "def query_graphsql(query_name, para_string):\n",
    "    remaining_url = \"{}?{}\".format(query_name, para_string)\n",
    "    url=urljoin(GRAPHSQL_URL, remaining_url)\n",
    "    st = time.time()\n",
    "    print('query:{}\\nparas:{}\\nrequest for url: {}'.format(query_name, para_string.split('&'), url))\n",
    "    print('---------------------------------------------------------------------------------------------------')\n",
    "    try:\n",
    "        result = requests.get(url)\n",
    "        result_json = json.loads(result.text)\n",
    "        if result_json['error']:\n",
    "            logging.error(result_json['message'])\n",
    "            print('run query failed')\n",
    "            return None\n",
    "        print('run query finish, use {} seconds\\n\\n'.format(time.time() - st))\n",
    "        return result_json\n",
    "    except Exception as e:\n",
    "        print('failed')\n",
    "        \n",
    "        \n",
    "def _update_max_min_date(node_name):\n",
    "    '''\n",
    "    get the max & min date for the given node type based on its history update dates;\n",
    "    para: node_name: 'Device'; check all the node_name type in gsql graph schema: OneMonthNet;\n",
    "    '''\n",
    "    query_name = 'update_max_min_date'\n",
    "    paras = 'node={}'.format(node_name)\n",
    "    return query_graphsql(query_name, paras)\n",
    "\n",
    "\n",
    "def _node_cutoff_filter(start_time, end_time, node_type):\n",
    "    '''\n",
    "    note that call _update_max_min_date before run this query;\n",
    "    select those nodes with given node_type exist between start_time and end_time;\n",
    "    paras:start_time:'2019-06-01 18:42:22'\n",
    "    paras:end_time:'2019-07-01 18:42:22'\n",
    "    paras:node_type:'User'; check all the node_name type in gsql graph schema: OneMonthNet;\n",
    "    '''\n",
    "    query_name = 'node_cutoff_filter'\n",
    "    paras = 'start_t={}&end_t={}&node={}'.format(start_time, end_time, node_type) \n",
    "    return query_graphsql(query_name, paras)\n",
    "    \n",
    "    \n",
    "########################################################################\n",
    "\n",
    "# def label_get(start_date):\n",
    "#     'old version and has been deprecated now, pls use label_get2 query;'\n",
    "#     query_name = 'label_get'\n",
    "#     paras = 'start_date={}'.format(start_date) \n",
    "#     return query_graphsql(query_name, paras)\n",
    "\n",
    "\n",
    "def label_get2(start_date, end_date, loanstyle):\n",
    "    '''\n",
    "    get loans with the given loanstyle whose fundtime between start_date & end_date;\n",
    "    paras: start_date: '2019-06-01 00:00:00'\n",
    "    paras: end_date: '2019-07-01 00:00:00'\n",
    "    paras: loanstyle: '绿卡30天1期'\n",
    "    '''\n",
    "    query_name = 'label_get2'\n",
    "    paras = 'start_date={}&end_date={}&loan_type={}'.format(start_date, end_date, loanstyle) \n",
    "    return query_graphsql(query_name, paras)['results'][0]['loanlabelSHOW']\n",
    "\n",
    "#1\n",
    "def reset(node):\n",
    "    '''\n",
    "    '''\n",
    "    query_name = 'reset'\n",
    "    paras = 'node={}'.format(node) \n",
    "    return query_graphsql(query_name, paras)\n",
    "\n",
    "#2\n",
    "def pageRank_train(start_t, end_t, node, maxChange, maxIter, damping, query_name):\n",
    "    '''\n",
    "    '''\n",
    "    paras = 'start_t={}&end_t={}&node={}&maxChange={}&maxIter={}&damping={}'.format(start_t, end_t, node, maxChange,maxIter,damping) \n",
    "    return query_graphsql(query_name, paras)\n",
    "\n",
    "#3\n",
    "def pageRank_appr_files(file_abs_path, query_name):\n",
    "    '''\n",
    "    draft 1 for pageRank in cashbus graph; \n",
    "    Only works for user-device relationship(single edge type & double vertex type);\n",
    "    Only output nodes(type: user or device) with pg_score !=0;\n",
    "    '''\n",
    "    paras = 'file_path={}'.format(file_abs_path) \n",
    "    return query_graphsql(query_name, paras) \n",
    "\n",
    "\n",
    "def train(st, et, node_type, reset_bool):\n",
    "    \"\"\"\n",
    "    paras: st: start time of a period, only node within the restriction will be trained and given a pgscore;\n",
    "    paras: et: end time of the period;\n",
    "    paras: node_type: determine which nodetype will be trained;\n",
    "    \"\"\"\n",
    "    \n",
    "    assert node_type in [\"Device\", \"PhoneNumber\"]\n",
    "    \n",
    "    if reset_bool:\n",
    "        reset(node_type)\n",
    "    pageRank_train(st, \n",
    "                   et, \n",
    "                   node_type, \n",
    "                   10, 3, 0.6,\n",
    "                   \"pageRank_train_{}\".format(node_type.lower()))\n",
    "    return None\n",
    "\n",
    "\n",
    "\n",
    "def test_with_local_files(nodetype, file_path):\n",
    "    \"\"\"\n",
    "    paras: node_type: determine which nodetype will be test;\n",
    "    paras: file_path: only provide a path to save test nodes id;\n",
    "    \"\"\"\n",
    "    test_res2 = pageRank_appr_files(file_path, \n",
    "                                    \"pageRank_appr_files_{}\".format(nodetype.lower()))\n",
    "    user_pg_res = [i['attributes'] for i in test_res2['results'][0]['test_set']]\n",
    "    user_pg_df2 = pd.DataFrame.from_dict(user_pg_res)\n",
    "    user_pg_df2.rename(columns={'prim_id': 'username'}, inplace=True)\n",
    "    return test_res2, user_pg_df2\n"
   ]
  },
  {
   "cell_type": "raw",
   "metadata": {},
   "source": [
    "train(st=\"2019-05-16 00:00:00\", et=\"2019-06-15 00:00:00\", node_type=\"Device\", reset_bool=False)\n",
    "\n",
    "RES = test(st= \"2019-06-16 00:00:00\", et= \"2019-06-17 00:00:00\", \n",
    "     nodetype = \"Device\", dir_path = \"/home/tigergraph/GraphProject/OneMonthGraph/Querys/G_algorithm/pagerank/dir_device/\")\n"
   ]
  },
  {
   "cell_type": "code",
   "execution_count": 5,
   "metadata": {},
   "outputs": [],
   "source": [
    "label1 = pd.read_csv('/data-0/gsm/qb_one_month/loan_label_1_1901_1907.csv')\n",
    "label2 = pd.read_csv('/data-0/gsm/qb_one_month/loan_label_2_new_1901_1907.csv')\n",
    "label2.columns = list(label1.columns)+['nouse']\n",
    "\n",
    "# xiaomajie 给的表；\n",
    "loan_detail_08_09_df = pd.read_csv('/data-0/qibo/Gdata/oneMonth/qb_temp_loan_detail_08_09.csv')\n",
    "loan_detail_08_09_df.username = loan_detail_08_09_df.username.astype(str)\n",
    "\n",
    "# device 表；\n",
    "device_log = pd.read_csv('/data-0/qibo/Gdata/oneMonth/device/device_log_1901_1907.csv')\n",
    "\n",
    "\n",
    "\n",
    "def test_loan_info(loanstyle, st, et):\n",
    "    # 给定两个时间范围，给出所在时间内的 funded loan 信息；\n",
    "    temp1 = label1[(label1.funddate<et)&(label1.funddate>=st)]\n",
    "    temp2 = label2[(label2.funddate<et)&(label2.funddate>=st)]\n",
    "    final = temp1.append(temp2)\n",
    "    if loanstyle == 'all':\n",
    "        return final\n",
    "    return final[final.loanstyle == loanstyle]\n",
    "\n",
    "\n",
    "def source_table(loanstyle, st, et):\n",
    "    #xiaomajie biao;\n",
    "    test_funded_loans = loan_detail_08_09_df[(loan_detail_08_09_df.fundtime>=st)&(loan_detail_08_09_df.fundtime<et)]\n",
    "    \n",
    "    #label 表;\n",
    "    test_label = test_loan_info(loanstyle, st, et)\n",
    "    \n",
    "    #merge;\n",
    "    table3 = pd.merge(test_funded_loans, test_label, on='loanid')\n",
    "    return table3\n",
    "\n",
    "def final_process(source_df, save_path=None):\n",
    "    ori, RES_phone = test_with_local_files(nodetype = \"PhoneNumber\", file_path = test_day_file)\n",
    "    final = pd.merge(source_df, RES_phone, on='username')\n",
    "    final = final[~final.default_now.isnull()]\n",
    "    if save_dir is not None:\n",
    "        final.to_csv(save_path)\n",
    "    return final\n",
    "\n",
    "def analysis(final_save_path):\n",
    "    temp = pd.read_csv(final_save_path)[['default_now','@received_score','temp_save_bool']]\n",
    "    temp['score_box'] = pd.qcut(temp['@received_score'].values, 5, labels=[\"very_low\",\"low\", \"mid\", \"high\",\"very_high\"])\n",
    "    temp['flag']=1\n",
    "    temp1 = temp[temp.temp_save_bool==True]\n",
    "    zz1 = pd.pivot_table(temp1,index=['score_box'], values=['@received_score','default_now','flag'], aggfunc=[np.sum,np.mean])\n",
    "\n",
    "    temp2 = temp[temp.temp_save_bool==False]\n",
    "    zz2 = pd.pivot_table(temp2,index=['score_box'], values=['@received_score','default_now','flag'], aggfunc=[np.sum,np.mean])\n",
    "    return zz1, zz2, temp\n",
    "\n",
    "def cal_ks(y, yhat):\n",
    "    ks_dict = {}\n",
    "    df = pd.DataFrame(columns=['label', 'score'])\n",
    "    df.label = y\n",
    "    df.score = yhat\n",
    "    cross_freq = pd.crosstab(df.score, df.label)\n",
    "    cross_dens = cross_freq.cumsum(axis=0)/(cross_freq.sum()+np.finfo(float).eps)\n",
    "    cross_dens['gap'] = abs(cross_dens[0]-cross_dens[1])\n",
    "    ks = cross_dens[cross_dens['gap'] == cross_dens['gap'].max()]\n",
    "    return ks, cross_dens"
   ]
  },
  {
   "cell_type": "code",
   "execution_count": null,
   "metadata": {},
   "outputs": [],
   "source": []
  },
  {
   "cell_type": "code",
   "execution_count": null,
   "metadata": {},
   "outputs": [],
   "source": []
  },
  {
   "cell_type": "raw",
   "metadata": {},
   "source": [
    "# ###################### paras: #####################\n",
    "train_st = '20190516'\n",
    "train_et = '20190615'   \n",
    "test_st='2019-06-16 00:00:00'\n",
    "test_et='2019-06-17 00:00:00'\n",
    "save_dir = '/home/tigergraph/GraphProject/OneMonthGraph/Querys/G_algorithm/pagerank/dir_phone/save_df/'\n",
    "final_save_path = save_dir + \"{}_{}.csv\".format(test_st, test_et)\n",
    "# ###################### train step: #####################\n",
    "train(st=train_st, et=train_et, node_type=\"PhoneNumber\", reset_bool=True)\n",
    "\n",
    "###################### test step: #####################\n",
    "source_df = source_table('绿卡30天1期', test_st, test_et)\n",
    "test_day_file = '/home/tigergraph/GraphProject/OneMonthGraph/Querys/G_algorithm/pagerank/dir_phone/test_{}_{}.txt'.format(test_st, test_et)\n",
    "with open(test_day_file, 'w') as f1:\n",
    "    csv_out = csv.writer(f1)\n",
    "    for i in tqdm(source_df.username.unique()):\n",
    "        csv_out.writerow([i])\n",
    "        \n",
    "###################### final step: #####################   \n",
    "result = final_process(source_df, final_save_path)"
   ]
  },
  {
   "cell_type": "raw",
   "metadata": {},
   "source": [
    "####################### paras:      #####################\n",
    "train_st = \"2019-05-16 00:00:00\"\n",
    "train_et = \"2019-06-15 00:00:00\" \n",
    "test_st='2019-06-16 00:00:00'\n",
    "test_et='2019-06-17 00:00:00'\n",
    "save_dir = '/home/tigergraph/GraphProject/OneMonthGraph/Querys/G_algorithm/pagerank/dir_device/save_df/'\n",
    "final_save_path = save_dir + \"{}_{}.csv\".format(test_st, test_et)\n",
    "\n",
    "####################### train step: #####################\n",
    "train(st=train_st, et=train_et, node_type=\"Device\", reset_bool=True)\n",
    "\n",
    "####################### test step:   #####################\n",
    "source_df = source_table('绿卡30天1期', test_st, test_et)\n",
    "test_day_file = '/home/tigergraph/GraphProject/OneMonthGraph/Querys/G_algorithm/pagerank/dir_device/save_test_txt/test_{}_{}.txt'.format(test_st, test_et)\n",
    "with open(test_day_file, 'w') as f1:\n",
    "    csv_out = csv.writer(f1)\n",
    "    for i in tqdm(source_df.username.unique()):\n",
    "        csv_out.writerow([i])\n",
    "        \n",
    "####################### final step: ######################   \n",
    "result = final_process(source_df, final_save_path)"
   ]
  },
  {
   "cell_type": "code",
   "execution_count": 183,
   "metadata": {},
   "outputs": [
    {
     "name": "stdout",
     "output_type": "stream",
     "text": [
      "query:reset\n",
      "paras:['node=Device']\n",
      "request for url: http://192.168.20.241:9000/query/OneMonthNet/reset?node=Device\n",
      "---------------------------------------------------------------------------------------------------\n",
      "run query finish, use 28.163514375686646 seconds\n",
      "\n",
      "\n",
      "query:pageRank_train_device\n",
      "paras:['start_t=2019-05-15 00:00:00', 'end_t=2019-06-14 00:00:00', 'node=Device', 'maxChange=10', 'maxIter=3', 'damping=0.6']\n",
      "request for url: http://192.168.20.241:9000/query/OneMonthNet/pageRank_train_device?start_t=2019-05-15 00:00:00&end_t=2019-06-14 00:00:00&node=Device&maxChange=10&maxIter=3&damping=0.6\n",
      "---------------------------------------------------------------------------------------------------\n"
     ]
    },
    {
     "name": "stderr",
     "output_type": "stream",
     "text": [
      "/usr/local/lib/python3.6/dist-packages/pandas/core/frame.py:6692: FutureWarning: Sorting because non-concatenation axis is not aligned. A future version\n",
      "of pandas will change to not sort by default.\n",
      "\n",
      "To accept the future behavior, pass 'sort=False'.\n",
      "\n",
      "To retain the current behavior and silence the warning, pass 'sort=True'.\n",
      "\n",
      "  sort=sort)\n",
      "100%|██████████| 4072/4072 [00:00<00:00, 940277.80it/s]"
     ]
    },
    {
     "name": "stdout",
     "output_type": "stream",
     "text": [
      "run query finish, use 7.754087686538696 seconds\n",
      "\n",
      "\n",
      "query:pageRank_appr_files_phonenumber\n",
      "paras:['file_path=/home/tigergraph/GraphProject/OneMonthGraph/Querys/G_algorithm/pagerank/dir_device/save_test_txt/test_2019-06-15 00:00:00_2019-06-16 00:00:00.txt']\n",
      "request for url: http://192.168.20.241:9000/query/OneMonthNet/pageRank_appr_files_phonenumber?file_path=/home/tigergraph/GraphProject/OneMonthGraph/Querys/G_algorithm/pagerank/dir_device/save_test_txt/test_2019-06-15 00:00:00_2019-06-16 00:00:00.txt\n",
      "---------------------------------------------------------------------------------------------------\n"
     ]
    },
    {
     "name": "stderr",
     "output_type": "stream",
     "text": [
      "\n"
     ]
    },
    {
     "name": "stdout",
     "output_type": "stream",
     "text": [
      "run query finish, use 0.8891208171844482 seconds\n",
      "\n",
      "\n"
     ]
    }
   ],
   "source": [
    "####################### paras:      #####################\n",
    "train_st = \"2019-05-15 00:00:00\"\n",
    "train_et = \"2019-06-14 00:00:00\" \n",
    "test_st='2019-06-15 00:00:00'\n",
    "test_et='2019-06-16 00:00:00'\n",
    "save_dir = '/home/tigergraph/GraphProject/OneMonthGraph/Querys/G_algorithm/pagerank/dir_device/save_df/'\n",
    "final_save_path = save_dir + \"{}_{}.csv\".format(test_st, test_et)\n",
    "\n",
    "####################### train step: #####################\n",
    "train(st=train_st, et=train_et, node_type=\"Device\", reset_bool=True)\n",
    "\n",
    "####################### test step:   #####################\n",
    "source_df = source_table('绿卡30天1期', test_st, test_et)\n",
    "test_day_file = '/home/tigergraph/GraphProject/OneMonthGraph/Querys/G_algorithm/pagerank/dir_device/save_test_txt/test_{}_{}.txt'.format(test_st, test_et)\n",
    "with open(test_day_file, 'w') as f1:\n",
    "    csv_out = csv.writer(f1)\n",
    "    for i in tqdm(source_df.username.unique()):\n",
    "        csv_out.writerow([i])\n",
    "        \n",
    "####################### final step: ######################   \n",
    "result = final_process(source_df, final_save_path)"
   ]
  },
  {
   "cell_type": "code",
   "execution_count": 184,
   "metadata": {},
   "outputs": [
    {
     "name": "stdout",
     "output_type": "stream",
     "text": [
      "query:reset\n",
      "paras:['node=Device']\n",
      "request for url: http://192.168.20.241:9000/query/OneMonthNet/reset?node=Device\n",
      "---------------------------------------------------------------------------------------------------\n",
      "run query finish, use 27.317282676696777 seconds\n",
      "\n",
      "\n",
      "query:pageRank_train_device\n",
      "paras:['start_t=2019-05-14 00:00:00', 'end_t=2019-06-13 00:00:00', 'node=Device', 'maxChange=10', 'maxIter=3', 'damping=0.6']\n",
      "request for url: http://192.168.20.241:9000/query/OneMonthNet/pageRank_train_device?start_t=2019-05-14 00:00:00&end_t=2019-06-13 00:00:00&node=Device&maxChange=10&maxIter=3&damping=0.6\n",
      "---------------------------------------------------------------------------------------------------\n",
      "run query finish, use 7.400910377502441 seconds\n",
      "\n",
      "\n"
     ]
    },
    {
     "name": "stderr",
     "output_type": "stream",
     "text": [
      "/usr/local/lib/python3.6/dist-packages/pandas/core/frame.py:6692: FutureWarning: Sorting because non-concatenation axis is not aligned. A future version\n",
      "of pandas will change to not sort by default.\n",
      "\n",
      "To accept the future behavior, pass 'sort=False'.\n",
      "\n",
      "To retain the current behavior and silence the warning, pass 'sort=True'.\n",
      "\n",
      "  sort=sort)\n",
      "100%|██████████| 4342/4342 [00:00<00:00, 794852.83it/s]\n"
     ]
    },
    {
     "name": "stdout",
     "output_type": "stream",
     "text": [
      "query:pageRank_appr_files_phonenumber\n",
      "paras:['file_path=/home/tigergraph/GraphProject/OneMonthGraph/Querys/G_algorithm/pagerank/dir_device/save_test_txt/test_2019-06-14 00:00:00_2019-06-15 00:00:00.txt']\n",
      "request for url: http://192.168.20.241:9000/query/OneMonthNet/pageRank_appr_files_phonenumber?file_path=/home/tigergraph/GraphProject/OneMonthGraph/Querys/G_algorithm/pagerank/dir_device/save_test_txt/test_2019-06-14 00:00:00_2019-06-15 00:00:00.txt\n",
      "---------------------------------------------------------------------------------------------------\n",
      "run query finish, use 0.8797504901885986 seconds\n",
      "\n",
      "\n"
     ]
    }
   ],
   "source": [
    "####################### paras:       #####################\n",
    "train_st = \"2019-05-14 00:00:00\"\n",
    "train_et = \"2019-06-13 00:00:00\" \n",
    "test_st='2019-06-14 00:00:00'\n",
    "test_et='2019-06-15 00:00:00'\n",
    "save_dir = '/home/tigergraph/GraphProject/OneMonthGraph/Querys/G_algorithm/pagerank/dir_device/save_df/'\n",
    "final_save_path = save_dir + \"{}_{}.csv\".format(test_st, test_et)\n",
    "\n",
    "####################### train step:  #####################\n",
    "train(st=train_st, et=train_et, node_type=\"Device\", reset_bool=True)\n",
    "\n",
    "####################### test step:   #####################\n",
    "source_df = source_table('绿卡30天1期', test_st, test_et)\n",
    "test_day_file = '/home/tigergraph/GraphProject/OneMonthGraph/Querys/G_algorithm/pagerank/dir_device/save_test_txt/test_{}_{}.txt'.format(test_st, test_et)\n",
    "with open(test_day_file, 'w') as f1:\n",
    "    csv_out = csv.writer(f1)\n",
    "    for i in tqdm(source_df.username.unique()):\n",
    "        csv_out.writerow([i])\n",
    "        \n",
    "####################### final step:  ######################   \n",
    "result = final_process(source_df, final_save_path)"
   ]
  },
  {
   "cell_type": "code",
   "execution_count": 185,
   "metadata": {},
   "outputs": [
    {
     "name": "stdout",
     "output_type": "stream",
     "text": [
      "query:reset\n",
      "paras:['node=Device']\n",
      "request for url: http://192.168.20.241:9000/query/OneMonthNet/reset?node=Device\n",
      "---------------------------------------------------------------------------------------------------\n",
      "run query finish, use 26.456817388534546 seconds\n",
      "\n",
      "\n",
      "query:pageRank_train_device\n",
      "paras:['start_t=2019-05-13 00:00:00', 'end_t=2019-06-12 00:00:00', 'node=Device', 'maxChange=10', 'maxIter=3', 'damping=0.6']\n",
      "request for url: http://192.168.20.241:9000/query/OneMonthNet/pageRank_train_device?start_t=2019-05-13 00:00:00&end_t=2019-06-12 00:00:00&node=Device&maxChange=10&maxIter=3&damping=0.6\n",
      "---------------------------------------------------------------------------------------------------\n"
     ]
    },
    {
     "name": "stderr",
     "output_type": "stream",
     "text": [
      "/usr/local/lib/python3.6/dist-packages/pandas/core/frame.py:6692: FutureWarning: Sorting because non-concatenation axis is not aligned. A future version\n",
      "of pandas will change to not sort by default.\n",
      "\n",
      "To accept the future behavior, pass 'sort=False'.\n",
      "\n",
      "To retain the current behavior and silence the warning, pass 'sort=True'.\n",
      "\n",
      "  sort=sort)\n",
      "\r",
      "  0%|          | 0/4339 [00:00<?, ?it/s]"
     ]
    },
    {
     "name": "stdout",
     "output_type": "stream",
     "text": [
      "run query finish, use 7.5084922313690186 seconds\n",
      "\n",
      "\n"
     ]
    },
    {
     "name": "stderr",
     "output_type": "stream",
     "text": [
      "100%|██████████| 4339/4339 [00:00<00:00, 812096.61it/s]\n"
     ]
    },
    {
     "name": "stdout",
     "output_type": "stream",
     "text": [
      "query:pageRank_appr_files_phonenumber\n",
      "paras:['file_path=/home/tigergraph/GraphProject/OneMonthGraph/Querys/G_algorithm/pagerank/dir_device/save_test_txt/test_2019-06-13 00:00:00_2019-06-14 00:00:00.txt']\n",
      "request for url: http://192.168.20.241:9000/query/OneMonthNet/pageRank_appr_files_phonenumber?file_path=/home/tigergraph/GraphProject/OneMonthGraph/Querys/G_algorithm/pagerank/dir_device/save_test_txt/test_2019-06-13 00:00:00_2019-06-14 00:00:00.txt\n",
      "---------------------------------------------------------------------------------------------------\n",
      "run query finish, use 1.0216853618621826 seconds\n",
      "\n",
      "\n"
     ]
    }
   ],
   "source": [
    "####################### paras:      #####################\n",
    "train_st = \"2019-05-13 00:00:00\"\n",
    "train_et = \"2019-06-12 00:00:00\" \n",
    "test_st='2019-06-13 00:00:00'\n",
    "test_et='2019-06-14 00:00:00'\n",
    "save_dir = '/home/tigergraph/GraphProject/OneMonthGraph/Querys/G_algorithm/pagerank/dir_device/save_df/'\n",
    "final_save_path = save_dir + \"{}_{}.csv\".format(test_st, test_et)\n",
    "\n",
    "####################### train step: #####################\n",
    "train(st=train_st, et=train_et, node_type=\"Device\", reset_bool=True)\n",
    "\n",
    "####################### test step:   #####################\n",
    "source_df = source_table('绿卡30天1期', test_st, test_et)\n",
    "test_day_file = '/home/tigergraph/GraphProject/OneMonthGraph/Querys/G_algorithm/pagerank/dir_device/save_test_txt/test_{}_{}.txt'.format(test_st, test_et)\n",
    "with open(test_day_file, 'w') as f1:\n",
    "    csv_out = csv.writer(f1)\n",
    "    for i in tqdm(source_df.username.unique()):\n",
    "        csv_out.writerow([i])\n",
    "        \n",
    "####################### final step: ######################   \n",
    "result = final_process(source_df, final_save_path)"
   ]
  },
  {
   "cell_type": "code",
   "execution_count": 186,
   "metadata": {},
   "outputs": [
    {
     "name": "stdout",
     "output_type": "stream",
     "text": [
      "query:reset\n",
      "paras:['node=Device']\n",
      "request for url: http://192.168.20.241:9000/query/OneMonthNet/reset?node=Device\n",
      "---------------------------------------------------------------------------------------------------\n",
      "run query finish, use 28.58446741104126 seconds\n",
      "\n",
      "\n",
      "query:pageRank_train_device\n",
      "paras:['start_t=2019-05-12 00:00:00', 'end_t=2019-06-11 00:00:00', 'node=Device', 'maxChange=10', 'maxIter=3', 'damping=0.6']\n",
      "request for url: http://192.168.20.241:9000/query/OneMonthNet/pageRank_train_device?start_t=2019-05-12 00:00:00&end_t=2019-06-11 00:00:00&node=Device&maxChange=10&maxIter=3&damping=0.6\n",
      "---------------------------------------------------------------------------------------------------\n",
      "run query finish, use 7.5029051303863525 seconds\n",
      "\n",
      "\n"
     ]
    },
    {
     "name": "stderr",
     "output_type": "stream",
     "text": [
      "/usr/local/lib/python3.6/dist-packages/pandas/core/frame.py:6692: FutureWarning: Sorting because non-concatenation axis is not aligned. A future version\n",
      "of pandas will change to not sort by default.\n",
      "\n",
      "To accept the future behavior, pass 'sort=False'.\n",
      "\n",
      "To retain the current behavior and silence the warning, pass 'sort=True'.\n",
      "\n",
      "  sort=sort)\n",
      "100%|██████████| 4383/4383 [00:00<00:00, 890421.12it/s]\n"
     ]
    },
    {
     "name": "stdout",
     "output_type": "stream",
     "text": [
      "query:pageRank_appr_files_phonenumber\n",
      "paras:['file_path=/home/tigergraph/GraphProject/OneMonthGraph/Querys/G_algorithm/pagerank/dir_device/save_test_txt/test_2019-06-12 00:00:00_2019-06-13 00:00:00.txt']\n",
      "request for url: http://192.168.20.241:9000/query/OneMonthNet/pageRank_appr_files_phonenumber?file_path=/home/tigergraph/GraphProject/OneMonthGraph/Querys/G_algorithm/pagerank/dir_device/save_test_txt/test_2019-06-12 00:00:00_2019-06-13 00:00:00.txt\n",
      "---------------------------------------------------------------------------------------------------\n",
      "run query finish, use 0.7591190338134766 seconds\n",
      "\n",
      "\n"
     ]
    }
   ],
   "source": [
    "####################### paras:       #####################\n",
    "train_st = \"2019-05-12 00:00:00\"\n",
    "train_et = \"2019-06-11 00:00:00\" \n",
    "test_st='2019-06-12 00:00:00'\n",
    "test_et='2019-06-13 00:00:00'\n",
    "save_dir = '/home/tigergraph/GraphProject/OneMonthGraph/Querys/G_algorithm/pagerank/dir_device/save_df/'\n",
    "final_save_path = save_dir + \"{}_{}.csv\".format(test_st, test_et)\n",
    "\n",
    "####################### train step:  #####################\n",
    "train(st=train_st, et=train_et, node_type=\"Device\", reset_bool=True)\n",
    "\n",
    "####################### test step:   #####################\n",
    "source_df = source_table('绿卡30天1期', test_st, test_et)\n",
    "test_day_file = '/home/tigergraph/GraphProject/OneMonthGraph/Querys/G_algorithm/pagerank/dir_device/save_test_txt/test_{}_{}.txt'.format(test_st, test_et)\n",
    "with open(test_day_file, 'w') as f1:\n",
    "    csv_out = csv.writer(f1)\n",
    "    for i in tqdm(source_df.username.unique()):\n",
    "        csv_out.writerow([i])\n",
    "        \n",
    "####################### final step:  ######################   \n",
    "result = final_process(source_df, final_save_path)"
   ]
  },
  {
   "cell_type": "code",
   "execution_count": null,
   "metadata": {},
   "outputs": [],
   "source": [
    "t"
   ]
  },
  {
   "cell_type": "code",
   "execution_count": null,
   "metadata": {},
   "outputs": [],
   "source": []
  },
  {
   "cell_type": "code",
   "execution_count": 63,
   "metadata": {},
   "outputs": [
    {
     "data": {
      "text/plain": [
       "['/home/tigergraph/GraphProject/OneMonthGraph/Querys/G_algorithm/pagerank/dir_phone/save_df/2019-06-11 00:00:00_2019-06-12 00:00:00.csv',\n",
       " '/home/tigergraph/GraphProject/OneMonthGraph/Querys/G_algorithm/pagerank/dir_phone/save_df/2019-06-15 00:00:00_2019-06-16 00:00:00.csv',\n",
       " '/home/tigergraph/GraphProject/OneMonthGraph/Querys/G_algorithm/pagerank/dir_phone/save_df/2019-06-14 00:00:00_2019-06-15 00:00:00.csv',\n",
       " '/home/tigergraph/GraphProject/OneMonthGraph/Querys/G_algorithm/pagerank/dir_phone/save_df/2019-06-16 00:00:00_2019-06-17 00:00:00.csv',\n",
       " '/home/tigergraph/GraphProject/OneMonthGraph/Querys/G_algorithm/pagerank/dir_phone/save_df/2019-06-13 00:00:00_2019-06-14 00:00:00.csv',\n",
       " '/home/tigergraph/GraphProject/OneMonthGraph/Querys/G_algorithm/pagerank/dir_phone/save_df/2019-06-12 00:00:00_2019-06-13 00:00:00.csv']"
      ]
     },
     "execution_count": 63,
     "metadata": {},
     "output_type": "execute_result"
    }
   ],
   "source": [
    "glob.glob('/home/tigergraph/GraphProject/OneMonthGraph/Querys/G_algorithm/pagerank/dir_phone/save_df/*')"
   ]
  },
  {
   "cell_type": "code",
   "execution_count": 190,
   "metadata": {},
   "outputs": [],
   "source": [
    "res_lis = glob.glob('/home/tigergraph/GraphProject/OneMonthGraph/Querys/G_algorithm/pagerank/dir_phone/save_df/*')\n",
    "\n",
    "# zz1, zz2, temp = analysis(res_lis[2])\n",
    "\n",
    "# cal_ks(temp['default_now'].values, temp['@received_score'].values)[0]\n"
   ]
  },
  {
   "cell_type": "code",
   "execution_count": 178,
   "metadata": {},
   "outputs": [],
   "source": [
    "final_save_path = res_lis[4]"
   ]
  },
  {
   "cell_type": "code",
   "execution_count": 179,
   "metadata": {},
   "outputs": [
    {
     "name": "stdout",
     "output_type": "stream",
     "text": [
      "0.09134157944814462\n",
      "2102\n"
     ]
    },
    {
     "data": {
      "text/plain": [
       "<matplotlib.axes._subplots.AxesSubplot at 0x7fe35217f6a0>"
      ]
     },
     "execution_count": 179,
     "metadata": {},
     "output_type": "execute_result"
    },
    {
     "data": {
      "image/png": "[encoded data removed]",
      "text/plain": [
       "<Figure size 432x288 with 1 Axes>"
      ]
     },
     "metadata": {},
     "output_type": "display_data"
    }
   ],
   "source": [
    "temp = pd.read_csv(final_save_path)[['default_now','@received_score','temp_save_bool']]\n",
    "temp = temp[temp.temp_save_bool==False]\n",
    "temp['score_box_ori'] = pd.qcut(temp['@received_score'].values, 6)\n",
    "temp['score_box'] = pd.qcut(temp['@received_score'].values, 5, labels=[\"very_low\",\"low\", \"mid\", \"high\",\"very_high\"])\n",
    "temp['flag']=1\n",
    "\n",
    "groups = temp.groupby('score_box_ori')\n",
    "print(temp.default_now.sum()/temp.shape[0])\n",
    "print(temp.shape[0])\n",
    "DF = pd.DataFrame()\n",
    "DF['group_idx'] = [idx for idx, gp in groups]\n",
    "DF['group_default_ratio'] = [gp.default_now.sum()/gp.shape[0] for idx, gp in groups]\n",
    "DF['group_size'] = [gp.shape[0] for idx, gp in groups]\n",
    "DF.group_default_ratio.plot()"
   ]
  },
  {
   "cell_type": "code",
   "execution_count": null,
   "metadata": {},
   "outputs": [],
   "source": []
  },
  {
   "cell_type": "code",
   "execution_count": null,
   "metadata": {},
   "outputs": [],
   "source": []
  },
  {
   "cell_type": "code",
   "execution_count": 328,
   "metadata": {},
   "outputs": [
    {
     "data": {
      "text/plain": [
       "0.46040655339805825"
      ]
     },
     "execution_count": 328,
     "metadata": {},
     "output_type": "execute_result"
    }
   ],
   "source": [
    "from sklearn.metrics import roc_auc_score\n",
    "# AUC 无意义原因在于， 它强调单调性，每一刀切下去，好坏两分;\n",
    "# 可是如果 pg_score 意义非单调呢？ 即很高的不代表坏，很低的不代表坏，中间的坏；\n",
    "roc_auc_score(MERGE['default_now'].values, MERGE['@received_score'].values)"
   ]
  },
  {
   "cell_type": "code",
   "execution_count": null,
   "metadata": {
    "collapsed": true
   },
   "outputs": [],
   "source": []
  },
  {
   "cell_type": "code",
   "execution_count": null,
   "metadata": {
    "collapsed": true
   },
   "outputs": [],
   "source": []
  },
  {
   "cell_type": "code",
   "execution_count": null,
   "metadata": {
    "collapsed": true
   },
   "outputs": [],
   "source": []
  },
  {
   "cell_type": "code",
   "execution_count": null,
   "metadata": {
    "collapsed": true
   },
   "outputs": [],
   "source": []
  },
  {
   "cell_type": "code",
   "execution_count": null,
   "metadata": {
    "collapsed": true
   },
   "outputs": [],
   "source": []
  },
  {
   "cell_type": "code",
   "execution_count": null,
   "metadata": {
    "collapsed": true
   },
   "outputs": [],
   "source": []
  },
  {
   "cell_type": "code",
   "execution_count": null,
   "metadata": {
    "collapsed": true
   },
   "outputs": [],
   "source": []
  },
  {
   "cell_type": "code",
   "execution_count": null,
   "metadata": {},
   "outputs": [],
   "source": []
  },
  {
   "cell_type": "code",
   "execution_count": 123,
   "metadata": {},
   "outputs": [],
   "source": [
    "from itertools import combinations\n",
    "import csv\n",
    "from tqdm import tqdm\n",
    "\n",
    "\n",
    "device_log = pd.read_csv('/data-0/qibo/Gdata/oneMonth/device/device_log_1901_1907.csv')\n",
    "\n",
    "dic = {}\n",
    "for index, row in tqdm(device_log.iterrows()):\n",
    "    if row['userid'] not in dic:\n",
    "        dic[row['userid']] = []\n",
    "        dic[row['userid']].append(row['deviceid'])\n",
    "    else:\n",
    "        dic[row['userid']].append(row['deviceid'])\n",
    "\n",
    "DIC = {}\n",
    "for k,v in tqdm(dic.items()):\n",
    "    DIC[k] = list(set(v))\n",
    "\n",
    "with open('dict.txt', 'w') as f1:\n",
    "    csv_out = csv.writer(f1)\n",
    "    for k, v in tqdm(DIC.items()):\n",
    "        temp = list(combinations(v, 2))\n",
    "        if len(temp) != 0:\n",
    "            for i in temp:\n",
    "                csv_out.writerow(i)"
   ]
  },
  {
   "cell_type": "code",
   "execution_count": 194,
   "metadata": {},
   "outputs": [],
   "source": [
    "device_log = pd.read_csv('/data-0/qibo/Gdata/oneMonth/device/device_log_1901_1907.csv')\n",
    "\n",
    "\n",
    "device_log"
   ]
  },
  {
   "cell_type": "code",
   "execution_count": null,
   "metadata": {
    "collapsed": true
   },
   "outputs": [],
   "source": []
  },
  {
   "cell_type": "code",
   "execution_count": null,
   "metadata": {
    "collapsed": true
   },
   "outputs": [],
   "source": []
  },
  {
   "cell_type": "code",
   "execution_count": null,
   "metadata": {
    "collapsed": true
   },
   "outputs": [],
   "source": []
  },
  {
   "cell_type": "code",
   "execution_count": null,
   "metadata": {
    "collapsed": true
   },
   "outputs": [],
   "source": []
  }
 ],
 "metadata": {
  "kernelspec": {
   "display_name": "Python 3",
   "language": "python",
   "name": "python3"
  },
  "language_info": {
   "codemirror_mode": {
    "name": "ipython",
    "version": 3
   },
   "file_extension": ".py",
   "mimetype": "text/x-python",
   "name": "python",
   "nbconvert_exporter": "python",
   "pygments_lexer": "ipython3",
   "version": "3.6.7"
  }
 },
 "nbformat": 4,
 "nbformat_minor": 2
}
