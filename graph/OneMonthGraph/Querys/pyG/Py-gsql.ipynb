{
 "cells": [
  {
   "cell_type": "markdown",
   "metadata": {},
   "source": [
    "1. 通过python 执行 gsql 文件；"
   ]
  },
  {
   "cell_type": "code",
   "execution_count": 1,
   "metadata": {},
   "outputs": [],
   "source": [
    "import subprocess"
   ]
  },
  {
   "cell_type": "code",
   "execution_count": null,
   "metadata": {},
   "outputs": [],
   "source": [
    "# 所有点边拿到， 然后跑pagerank"
   ]
  },
  {
   "cell_type": "code",
   "execution_count": null,
   "metadata": {},
   "outputs": [],
   "source": [
    "print(1)"
   ]
  },
  {
   "cell_type": "code",
   "execution_count": 1,
   "metadata": {},
   "outputs": [
    {
     "name": "stdout",
     "output_type": "stream",
     "text": [
      "/home/tigergraph/GraphProject/OneMonthGraph/Querys\r\n"
     ]
    }
   ],
   "source": [
    "!pwd"
   ]
  },
  {
   "cell_type": "code",
   "execution_count": null,
   "metadata": {},
   "outputs": [],
   "source": [
    "Use graph workNet                                                                                                                                                                                       \n",
    "\n",
    "# sub query\n",
    "CREATE OR REPLACE QUERY sub_query() FOR GRAPH workNet                                                                                                    \n",
    "RETURNS(SetAccum<VERTEx>){\n",
    "SETAccum @@unique_nodes;                                                                                                                                                                               \n",
    "select s from init:s -(worksFor:e)->:t                                                                                                                                                                   \n",
    "ACCUM @@unique_nodes+=t;                                                                                                                                                                                \n",
    "POST-ACCUm @@unique_nodes+=s;                                                                                                                                                                           \n",
    "}\n",
    "\n",
    "\n",
    "# main query\n",
    "\n",
    "CREATE QUERY pageRank_attr (FLOAT maxChange, INT maxIter, FLOAT damping) FOR GRAPH workNet\n",
    "{\n",
    "    MaxAccum<float> @@maxDiff = 9999; # max score change in an iteration\n",
    "    SumAccum<float> @received_score = 0; # sum of scores each vertex receives FROM neighbors\n",
    "    SumAccum<float> @score = 1;   # Initial score for every vertex is 1.\n",
    "\n",
    "    Start = sub_query();   #  Start with all vertices of specified type(s)\n",
    "    WHILE @@maxDiff > maxChange LIMIT maxIter DO\n",
    "            @@maxDiff = 0;\n",
    "            V = SELECT s\n",
    "                FROM Start:s -(Friend:e)-> :t\n",
    "                ACCUM t.@received_score += s.@score/(s.outdegree(\"Friend\")) \n",
    "                POST-ACCUM s.@score = (1.0-damping) + damping * s.@received_score,\n",
    "                           s.@received_score = 0,\n",
    "                           @@maxDiff += abs(s.@score - s.@score');\n",
    "    END; # END WHILE loop\n",
    "    V = SELECT s FROM Start:s\n",
    "    POST-ACCUM s.score = s.@score;\n",
    "}\n",
    "                                     \n",
    "INSTALL QUERY pageRank_attr                                                                                                                                                                                   \n",
    "RUN QUERY pageRank_attr(10, 4, 0.6)                    \n",
    "                                            "
   ]
  },
  {
   "cell_type": "code",
   "execution_count": 8,
   "metadata": {},
   "outputs": [],
   "source": [
    "a = '''person1,company1,2016,1,1\n",
    "person1,company2,2014,3,0\n",
    "person2,company1,2015,7,1\n",
    "person2,company2,2012,6,0\n",
    "person3,company1,2016,6,1\n",
    "person4,company2,2013,2,1\n",
    "person5,company2,2016,4,0\n",
    "person6,company1,2015,1,1\n",
    "person7,company2,2016,3,0\n",
    "person7,company3,2014,1,0\n",
    "person8,company1,2013,2,1\n",
    "person9,company2,2015,12,1\n",
    "person9,company3,2016,11,1\n",
    "person10,company1,2016,2,1\n",
    "person10,company3,2014,5,0\n",
    "person11,company5,2016,5,1\n",
    "person12,company4,2014,1,1'''"
   ]
  },
  {
   "cell_type": "code",
   "execution_count": 14,
   "metadata": {},
   "outputs": [],
   "source": [
    "res = [i.split(\",\")[:2] for i in a.split(\"\\n\")]"
   ]
  },
  {
   "cell_type": "code",
   "execution_count": 13,
   "metadata": {},
   "outputs": [],
   "source": [
    "import networkx as nx"
   ]
  },
  {
   "cell_type": "code",
   "execution_count": 15,
   "metadata": {},
   "outputs": [],
   "source": [
    ">>> G = nx.Graph()   # or DiGraph, MultiGraph, MultiDiGraph, etc\n",
    ">>> G.add_edges_from(res) # using a list of edge tuples"
   ]
  },
  {
   "cell_type": "code",
   "execution_count": 17,
   "metadata": {},
   "outputs": [],
   "source": [
    ">>> pr = nx.pagerank(G, alpha=0.6)"
   ]
  },
  {
   "cell_type": "code",
   "execution_count": 27,
   "metadata": {},
   "outputs": [
    {
     "data": {
      "text/plain": [
       "[('person4', 0.036209774589269564),\n",
       " ('person5', 0.036209774589269564),\n",
       " ('person3', 0.03706268219671062),\n",
       " ('person6', 0.03706268219671062),\n",
       " ('person8', 0.03706268219671062),\n",
       " ('person1', 0.0497430450212743),\n",
       " ('person2', 0.0497430450212743),\n",
       " ('person7', 0.04995965612902013),\n",
       " ('person9', 0.04995965612902013),\n",
       " ('person10', 0.05081256373646119),\n",
       " ('person11', 0.058823529411764705),\n",
       " ('company5', 0.058823529411764705),\n",
       " ('person12', 0.058823529411764705),\n",
       " ('company4', 0.058823529411764705),\n",
       " ('company3', 0.06874832448720235),\n",
       " ('company2', 0.1268014618050533),\n",
       " ('company1', 0.13533053425496439)]"
      ]
     },
     "execution_count": 27,
     "metadata": {},
     "output_type": "execute_result"
    }
   ],
   "source": [
    "sorted(pr.items(), key=lambda kv: kv[1])"
   ]
  },
  {
   "cell_type": "code",
   "execution_count": null,
   "metadata": {},
   "outputs": [],
   "source": [
    "# 根据两个cutoff 筛选所有点；"
   ]
  },
  {
   "cell_type": "code",
   "execution_count": null,
   "metadata": {},
   "outputs": [],
   "source": [
    "Use graph workNet                                                                                                                                                                                       \n",
    "CREATE OR REPLACE QUERY qb_test(vertex<person> ps, uint cut1, uint cut2) FOR GRAPH workNet{                                                                                                             \n",
    "SetAccum<DATETIME> @@group;                                                                                                                                                                             \n",
    "OrAccum @@inCutoff;                                                                                                                                                                                     \n",
    "    \n",
    "init = {ps};                                                                                                                                                                                            \n",
    "res = select s from init:s                                                                                                                                                                              \n",
    "ACCUM                                                                                                                                                                                                   \n",
    "@@group += s.skillSet;                                                                                                                                                                                  \n",
    "FOREACH g IN @@group DO                                                                                                                                                                                 \n",
    "if g between cut1 and cut2 then @@inCutoff += True; END;END;                                                                                                                                            \n",
    "print @@group;                                                                                                                                                                                          \n",
    "print @@inCutoff;                                                                                                                                                                                       \n",
    "}                                                                                                                                                                                                       \n",
    "INSTALL QUERY qb_test                                                                                                                                                                                   \n",
    "RUN QUERY qb_test(\"person1\",4,8) "
   ]
  }
 ],
 "metadata": {
  "kernelspec": {
   "display_name": "Python 3",
   "language": "python",
   "name": "python3"
  },
  "language_info": {
   "codemirror_mode": {
    "name": "ipython",
    "version": 3
   },
   "file_extension": ".py",
   "mimetype": "text/x-python",
   "name": "python",
   "nbconvert_exporter": "python",
   "pygments_lexer": "ipython3",
   "version": "3.6.7"
  }
 },
 "nbformat": 4,
 "nbformat_minor": 2
}
