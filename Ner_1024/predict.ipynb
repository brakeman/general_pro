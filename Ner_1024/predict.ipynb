{
 "cells": [
  {
   "cell_type": "code",
   "execution_count": 9,
   "metadata": {},
   "outputs": [],
   "source": [
    "import sys\n",
    "sys.path.append('/home/qibo/all_project/')\n",
    "\n",
    "from Ner_1024.models import IndiaSms, SmsRuleClf, generate_clf_ner\n",
    "from Ner_1024.data import create_fake_label, fake2real\n",
    "\n",
    "import pandas as pd\n",
    "import numpy as np\n",
    "import json\n",
    "\n",
    "model_root = './saved_model/'"
   ]
  },
  {
   "cell_type": "markdown",
   "metadata": {},
   "source": [
    "##  用训练好的模型做预测"
   ]
  },
  {
   "cell_type": "code",
   "execution_count": 24,
   "metadata": {},
   "outputs": [],
   "source": [
    "para_path = './saved_model/para_10_22.json'\n",
    "model_path = './saved_model/model_10_22.h5'\n",
    "\n",
    "# para_path = './saved_model/paradict_0517.json'\n",
    "# model_path = './saved_model/model_0517.h5'"
   ]
  },
  {
   "cell_type": "code",
   "execution_count": 25,
   "metadata": {},
   "outputs": [],
   "source": [
    "# 读模型配置文件\n",
    "lines = []\n",
    "with open(para_path, 'r') as f:\n",
    "    for line in f:\n",
    "        lines.append(json.loads(line))\n",
    "para_dict = lines[0]\n",
    "\n",
    "# 样例短信\n",
    "gsm_templates_df = pd.read_csv('./data/gsm_templates_df.csv')\n",
    "example = gsm_templates_df.sample(n=5).sms.tolist()\n"
   ]
  },
  {
   "cell_type": "code",
   "execution_count": 26,
   "metadata": {},
   "outputs": [],
   "source": [
    "# 预测结果\n",
    "df = generate_clf_ner(example, gsm_templates_df, model_path, para_dict, False)"
   ]
  },
  {
   "cell_type": "code",
   "execution_count": 27,
   "metadata": {},
   "outputs": [
    {
     "data": {
      "text/plain": [
       "[{'sms': 'your a/c xx0112 credited inr 3,401.00 on 04-aug-18 12:38:23 * cash withdrawl at cdm-s1ecd188601 * avl bal is inr 1,047.40',\n",
       "  'class': '交易流水＿转账',\n",
       "  'class_score': 0.889671895156942,\n",
       "  'ner_result': [{'账户账号＿自己': 'xx0112'},\n",
       "   {'金额＿转入': '3,401.00'},\n",
       "   {'金额＿余额': '1,047.40'}]}]"
      ]
     },
     "execution_count": 27,
     "metadata": {},
     "output_type": "execute_result"
    }
   ],
   "source": [
    "df"
   ]
  },
  {
   "cell_type": "code",
   "execution_count": 8,
   "metadata": {},
   "outputs": [],
   "source": [
    "t1 = ['your request for the payment rs. 1100 has been executed successfully. ref no: 377868. from corpbank']\n",
    "\n",
    "t2 = ['your a/c xx0112 credited inr 3,401.00 on 04-aug-18 12:38:23 * cash withdrawl at cdm-s1ecd188601 * avl bal is inr 1,047.40']"
   ]
  },
  {
   "cell_type": "code",
   "execution_count": null,
   "metadata": {},
   "outputs": [],
   "source": [
    "# 预测结果\n",
    "df = generate_clf_ner(t2, gsm_templates_df, model_path, para_dict, False)"
   ]
  }
 ],
 "metadata": {
  "kernelspec": {
   "display_name": "Python 3",
   "language": "python",
   "name": "python3"
  },
  "language_info": {
   "codemirror_mode": {
    "name": "ipython",
    "version": 3
   },
   "file_extension": ".py",
   "mimetype": "text/x-python",
   "name": "python",
   "nbconvert_exporter": "python",
   "pygments_lexer": "ipython3",
   "version": "3.6.7"
  }
 },
 "nbformat": 4,
 "nbformat_minor": 2
}
