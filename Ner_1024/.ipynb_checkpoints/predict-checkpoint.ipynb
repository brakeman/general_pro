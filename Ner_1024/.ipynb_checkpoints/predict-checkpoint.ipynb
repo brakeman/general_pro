{
 "cells": [
  {
   "cell_type": "code",
   "execution_count": 1,
   "metadata": {},
   "outputs": [
    {
     "name": "stderr",
     "output_type": "stream",
     "text": [
      "Using TensorFlow backend.\n"
     ]
    }
   ],
   "source": [
    "import sys\n",
    "sys.path.append('/home/qibo/all_project/')\n",
    "\n",
    "from Ner_1024.models import IndiaSms, SmsRuleClf, generate_clf_ner\n",
    "from Ner_1024.data import create_fake_label, fake2real\n",
    "\n",
    "import pandas as pd\n",
    "import numpy as np\n",
    "import json\n",
    "\n",
    "model_root = './saved_model/'"
   ]
  },
  {
   "cell_type": "markdown",
   "metadata": {},
   "source": [
    "##  用训练好的模型做预测"
   ]
  },
  {
   "cell_type": "code",
   "execution_count": 18,
   "metadata": {},
   "outputs": [],
   "source": [
    "para_path = './saved_model/para_10_22.json'\n",
    "model_path = './saved_model/model_10_22.h5'\n",
    "\n",
    "# para_path = './saved_model/paradict_0517.json'\n",
    "# model_path = './saved_model/model_0517.h5'"
   ]
  },
  {
   "cell_type": "code",
   "execution_count": 19,
   "metadata": {},
   "outputs": [],
   "source": [
    "# 读模型配置文件\n",
    "lines = []\n",
    "with open(para_path, 'r') as f:\n",
    "    for line in f:\n",
    "        lines.append(json.loads(line))\n",
    "para_dict = lines[0]\n",
    "\n",
    "# 样例短信\n",
    "gsm_templates_df = pd.read_csv('./data/gsm_templates_df.csv')\n",
    "example = gsm_templates_df.sample(n=5).sms.tolist()\n"
   ]
  },
  {
   "cell_type": "code",
   "execution_count": 20,
   "metadata": {},
   "outputs": [],
   "source": [
    "# 预测结果\n",
    "df = generate_clf_ner(example1, gsm_templates_df, model_path, para_dict)"
   ]
  },
  {
   "cell_type": "code",
   "execution_count": 21,
   "metadata": {},
   "outputs": [
    {
     "data": {
      "text/html": [
       "<div>\n",
       "<style scoped>\n",
       "    .dataframe tbody tr th:only-of-type {\n",
       "        vertical-align: middle;\n",
       "    }\n",
       "\n",
       "    .dataframe tbody tr th {\n",
       "        vertical-align: top;\n",
       "    }\n",
       "\n",
       "    .dataframe thead th {\n",
       "        text-align: right;\n",
       "    }\n",
       "</style>\n",
       "<table border=\"1\" class=\"dataframe\">\n",
       "  <thead>\n",
       "    <tr style=\"text-align: right;\">\n",
       "      <th></th>\n",
       "      <th>sms</th>\n",
       "      <th>class</th>\n",
       "      <th>class_score</th>\n",
       "      <th>ner_result</th>\n",
       "    </tr>\n",
       "  </thead>\n",
       "  <tbody>\n",
       "    <tr>\n",
       "      <th>0</th>\n",
       "      <td>installment of rs 833.33 for a/c ...2973 at bo...</td>\n",
       "      <td>贷后提醒＿到期提醒</td>\n",
       "      <td>1.0</td>\n",
       "      <td>[{'金额＿转出': '833.33'}, {'账户账号＿自己': '...2973'}, ...</td>\n",
       "    </tr>\n",
       "    <tr>\n",
       "      <th>1</th>\n",
       "      <td>dear customer emi of rs 11253 shall be represe...</td>\n",
       "      <td>贷后提醒＿到期提醒</td>\n",
       "      <td>1.0</td>\n",
       "      <td>[{'金额＿应还金额': '11253'}, {'账号＿借款编号': 'xx227016'}...</td>\n",
       "    </tr>\n",
       "    <tr>\n",
       "      <th>2</th>\n",
       "      <td>you have exceeded the assigned total credit li...</td>\n",
       "      <td>信用卡＿还款提醒</td>\n",
       "      <td>1.0</td>\n",
       "      <td>[{'账户账号＿自己': 'xxxx-6164.'}, {'金额＿信用额度': '5.00....</td>\n",
       "    </tr>\n",
       "    <tr>\n",
       "      <th>3</th>\n",
       "      <td>rs. 5000.00 debited from a/c **1262 on 16-11-1...</td>\n",
       "      <td>交易流水＿转账</td>\n",
       "      <td>1.0</td>\n",
       "      <td>[{'账户账号＿自己': '**1262'}, {'日期＿交易时间': '16-11-18'...</td>\n",
       "    </tr>\n",
       "    <tr>\n",
       "      <th>4</th>\n",
       "      <td>dear diners cardmember, payment of rs 15000 wa...</td>\n",
       "      <td>交易流水＿转账</td>\n",
       "      <td>1.0</td>\n",
       "      <td>[{'银行卡号＿自己': '8176'}, {'日期＿交易时间': '27/sep/2017...</td>\n",
       "    </tr>\n",
       "  </tbody>\n",
       "</table>\n",
       "</div>"
      ],
      "text/plain": [
       "                                                 sms      class  class_score  \\\n",
       "0  installment of rs 833.33 for a/c ...2973 at bo...  贷后提醒＿到期提醒          1.0   \n",
       "1  dear customer emi of rs 11253 shall be represe...  贷后提醒＿到期提醒          1.0   \n",
       "2  you have exceeded the assigned total credit li...   信用卡＿还款提醒          1.0   \n",
       "3  rs. 5000.00 debited from a/c **1262 on 16-11-1...    交易流水＿转账          1.0   \n",
       "4  dear diners cardmember, payment of rs 15000 wa...    交易流水＿转账          1.0   \n",
       "\n",
       "                                          ner_result  \n",
       "0  [{'金额＿转出': '833.33'}, {'账户账号＿自己': '...2973'}, ...  \n",
       "1  [{'金额＿应还金额': '11253'}, {'账号＿借款编号': 'xx227016'}...  \n",
       "2  [{'账户账号＿自己': 'xxxx-6164.'}, {'金额＿信用额度': '5.00....  \n",
       "3  [{'账户账号＿自己': '**1262'}, {'日期＿交易时间': '16-11-18'...  \n",
       "4  [{'银行卡号＿自己': '8176'}, {'日期＿交易时间': '27/sep/2017...  "
      ]
     },
     "execution_count": 21,
     "metadata": {},
     "output_type": "execute_result"
    }
   ],
   "source": [
    "df"
   ]
  },
  {
   "cell_type": "code",
   "execution_count": 22,
   "metadata": {},
   "outputs": [
    {
     "data": {
      "text/plain": [
       "'dear customer emi of rs 11253 shall be represented for your loan a/c xx227016 on 11-09-2018. please ensure sufficient funds in your account. please ignore if already paid.'"
      ]
     },
     "execution_count": 22,
     "metadata": {},
     "output_type": "execute_result"
    }
   ],
   "source": [
    "df.sms[1]"
   ]
  },
  {
   "cell_type": "code",
   "execution_count": 23,
   "metadata": {},
   "outputs": [
    {
     "data": {
      "text/plain": [
       "[{'金额＿应还金额': '11253'}, {'账号＿借款编号': 'xx227016'}, {'日期＿还款日期': '11-09-2018.'}]"
      ]
     },
     "execution_count": 23,
     "metadata": {},
     "output_type": "execute_result"
    }
   ],
   "source": [
    "df.ner_result[1]"
   ]
  },
  {
   "cell_type": "code",
   "execution_count": 24,
   "metadata": {},
   "outputs": [
    {
     "data": {
      "text/plain": [
       "'贷后提醒＿到期提醒'"
      ]
     },
     "execution_count": 24,
     "metadata": {},
     "output_type": "execute_result"
    }
   ],
   "source": [
    "df['class'][1]"
   ]
  },
  {
   "cell_type": "code",
   "execution_count": null,
   "metadata": {},
   "outputs": [],
   "source": []
  }
 ],
 "metadata": {
  "kernelspec": {
   "display_name": "Python 3",
   "language": "python",
   "name": "python3"
  },
  "language_info": {
   "codemirror_mode": {
    "name": "ipython",
    "version": 3
   },
   "file_extension": ".py",
   "mimetype": "text/x-python",
   "name": "python",
   "nbconvert_exporter": "python",
   "pygments_lexer": "ipython3",
   "version": "3.6.7"
  }
 },
 "nbformat": 4,
 "nbformat_minor": 2
}
