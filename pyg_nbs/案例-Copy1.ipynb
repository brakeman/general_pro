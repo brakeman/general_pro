{
 "cells": [
  {
   "cell_type": "code",
   "execution_count": 11,
   "metadata": {},
   "outputs": [],
   "source": [
    "import json\n",
    "import glob\n",
    "import numpy as np\n",
    "import pandas as pd\n",
    "import torch"
   ]
  },
  {
   "cell_type": "code",
   "execution_count": 23,
   "metadata": {},
   "outputs": [],
   "source": [
    "root ='/home/qibo/all_project/Graph反欺诈/PYG/raw'\n",
    "with open(root+'/feat.json') as json_file:\n",
    "    x = json.load(json_file)\n",
    "    \n",
    "with open(root+'/x_phone2idx.json') as json_file:\n",
    "    x_phone2idx = json.load(json_file)\n",
    "\n",
    "with open(root+'/edge.json') as json_file:\n",
    "    edge = json.load(json_file)\n",
    "    \n",
    "# y = pd.read_csv(root+'/label_reidx.csv')"
   ]
  },
  {
   "cell_type": "code",
   "execution_count": 25,
   "metadata": {},
   "outputs": [
    {
     "data": {
      "text/plain": [
       "5938366"
      ]
     },
     "execution_count": 25,
     "metadata": {},
     "output_type": "execute_result"
    }
   ],
   "source": []
  },
  {
   "cell_type": "code",
   "execution_count": 16,
   "metadata": {},
   "outputs": [],
   "source": [
    "with open(root+'/label.json') as json_file:\n",
    "    label = json.load(json_file)"
   ]
  },
  {
   "cell_type": "code",
   "execution_count": null,
   "metadata": {},
   "outputs": [],
   "source": []
  },
  {
   "cell_type": "code",
   "execution_count": 72,
   "metadata": {},
   "outputs": [],
   "source": [
    "root = '/home/tigergraph/GraphProject/OneMonthGraph/Querys/pyG/data/'\n",
    "labels = pd.read_csv(root+'temp1.csv')\n",
    "\n",
    "def get_mask_idx(labels_df):\n",
    "    train_idx = labels[labels.fundtime<'2019-06-03 00:00:00'].username.tolist()\n",
    "    test_idx = labels[labels.fundtime>='2019-06-03 00:00:00'].username.tolist()\n",
    "    return train_idx, test_idx\n",
    "\n",
    "train_idx, test_idx = get_mask_idx(labels)\n",
    "\n",
    "\n",
    "def get_final_label(labels):\n",
    "    label_dict = labels[['username', 'default_now']].set_index('username').to_dict()['default_now']\n",
    "    train_phone, test_phone = get_mask_idx(labels)\n",
    "    fake_labels = np.zeros(len(x_phone2idx))-1\n",
    "    \n",
    "    for phone in len(label_dict):\n",
    "        idx = x_phone2idx[phone]\n",
    "        fake_labels[idx] = label_dict[phone]   \n",
    "\n",
    "    train_mask = [x_phone2idx[str(phone)] for phone in train_phone]\n",
    "    fake_train_labels = np.zeros(len(x_phone2idx))\n",
    "    fake_train_labels[train_mask] = 1\n",
    "    \n",
    "    test_mask = [x_phone2idx[str(phone)] for phone in test_phone]\n",
    "    fake_test_labels = np.zeros(len(x_phone2idx))\n",
    "    fake_test_labels[test_mask] = 1\n",
    "    return fake_labels, train_mask, test_mask\n",
    "\n"
   ]
  },
  {
   "cell_type": "code",
   "execution_count": null,
   "metadata": {},
   "outputs": [],
   "source": []
  },
  {
   "cell_type": "code",
   "execution_count": null,
   "metadata": {},
   "outputs": [],
   "source": []
  },
  {
   "cell_type": "code",
   "execution_count": 4,
   "metadata": {},
   "outputs": [],
   "source": [
    "import json\n",
    "import scipy\n",
    "import pandas as pd\n",
    "import numpy as np\n",
    "from scipy.sparse import csr_matrix\n",
    "from scipy import sparse\n",
    "import pickle\n",
    "import torch\n",
    "from torch_geometric.data import Data\n",
    "import torch.nn.functional as F\n",
    "import torch_geometric.transforms as T\n",
    "from torch_geometric.nn import SplineConv,GCNConv\n",
    "from torch_geometric.data import InMemoryDataset, download_url\n",
    "\n",
    "def sample_mask(index, num_nodes):\n",
    "    mask = torch.zeros((num_nodes, ), dtype=torch.uint8)\n",
    "    mask[index] = 1\n",
    "    return mask\n",
    "\n",
    "def split_idx(y, split):\n",
    "    if isinstance(y, torch.Tensor):\n",
    "        y = torch.tensor(y)\n",
    "    x_perm = y[torch.randperm(len(y))]\n",
    "    train_end_idx = int(len(y)*split[0])\n",
    "    valid_end_idx = int(len(y)*(split[0]+split[1]))\n",
    "    train_idx = x_perm[:train_end_idx]\n",
    "    valid_idx = x_perm[train_end_idx:valid_end_idx]\n",
    "    test_idx = x_perm[valid_end_idx:]\n",
    "    return train_idx, valid_idx, test_idx\n",
    "\n",
    "def samples_split_mask(y, split=(0.6,0.2)):\n",
    "    train_idx, valid_idx, test_idx = split_idx(y, split)\n",
    "    train_mask = sample_mask(train_idx, num_nodes=y.size(0))\n",
    "    val_mask = sample_mask(valid_idx, num_nodes=y.size(0))\n",
    "    test_mask = sample_mask(test_idx, num_nodes=y.size(0))\n",
    "    return train_mask, val_mask, test_mask\n",
    "\n",
    "def read_cashbus_data(root):\n",
    "    # -- userid2idx;\n",
    "    with open(root + '/x_phone2idx.json', 'r') as f:\n",
    "        userid2idx = json.load(f)\n",
    "        \n",
    "    # -- node_fetas;  \n",
    "    with open(root + '/feat.json', 'r') as f:\n",
    "        x = json.load(f)\n",
    "    feat = list(x.values())\n",
    "    x = torch.tensor(feat, dtype =torch.float)    \n",
    "    \n",
    "    # -- labels;\n",
    "    y = pd.read_csv(root + \"/label_reidx.csv\").values\n",
    "    y = torch.tensor(y).squeeze()\n",
    "\n",
    "    # -- edges;\n",
    "    with open(root + '/edge.json', 'r') as f:\n",
    "        edges = json.load(f)\n",
    "    edge = np.array(edges).T\n",
    "    row1 = [userid2idx[str(i)] for i in edges[0]]\n",
    "    row2 = [userid2idx[str(i)] for i in edges[1]]\n",
    "    new_edges = torch.tensor(np.stack([row1, row2]))\n",
    "    \n",
    "\n",
    "    train_mask, val_mask, test_mask = samples_split_mask(y, split=(0.6,0.2))\n",
    "    data = Data(x=x, edge_index=new_edges, y=y)\n",
    "    data.train_mask = train_mask\n",
    "    data.val_mask = val_mask\n",
    "    data.test_mask = test_mask\n",
    "    return data\n",
    "\n",
    "\n",
    "class CashBus(InMemoryDataset):\n",
    "    r\"\"\"The citation network datasets \"Cora\", \"CiteSeer\" and \"PubMed\" from the\n",
    "    `\"Revisiting Semi-Supervised Learning with Graph Embeddings\"\n",
    "    <https://arxiv.org/abs/1603.08861>`_ paper.\n",
    "    Nodes represent documents and edges represent citation links.\n",
    "    Training, validation and test splits are given by binary masks.\n",
    "    Args:\n",
    "        root (string): Root directory where the dataset should be saved.\n",
    "        name (string): The name of the dataset (:obj:`\"Cora\"`,\n",
    "            :obj:`\"CiteSeer\"`, :obj:`\"PubMed\"`).\n",
    "        transform (callable, optional): A function/transform that takes in an\n",
    "            :obj:`torch_geometric.data.Data` object and returns a transformed\n",
    "            version. The data object will be transformed before every access.\n",
    "            (default: :obj:`None`)\n",
    "        pre_transform (callable, optional): A function/transform that takes in\n",
    "            an :obj:`torch_geometric.data.Data` object and returns a\n",
    "            transformed version. The data object will be transformed before\n",
    "            being saved to disk. (default: :obj:`None`)\n",
    "    \"\"\"\n",
    "\n",
    "\n",
    "    def __init__(self, root, transform=None, pre_transform=None):\n",
    "        super(CashBus, self).__init__(root, transform, pre_transform)\n",
    "        print('processed_path:{}'.format(self.processed_paths))\n",
    "        self.data, self.slices = torch.load(self.processed_paths[0])\n",
    "\n",
    "    @property\n",
    "    def raw_file_names(self):\n",
    "        return ['feat.json', 'label_reidx.csv', 'edge.json']\n",
    "\n",
    "    @property\n",
    "    def processed_file_names(self):\n",
    "        return 'data.pt'\n",
    "    \n",
    "    def download(self):\n",
    "        pass\n",
    "\n",
    "    def process(self):\n",
    "        print('go pl, raw_dir:{}'.format(self.raw_dir))\n",
    "        data = read_cashbus_data(self.raw_dir)\n",
    "        data = data if self.pre_transform is None else self.pre_transform(data)\n",
    "        data, slices = self.collate([data])\n",
    "        torch.save((data, slices), self.processed_paths[0])\n",
    "\n",
    "    def __repr__(self):\n",
    "        return '{}()'.format(self.name)"
   ]
  },
  {
   "cell_type": "code",
   "execution_count": null,
   "metadata": {},
   "outputs": [],
   "source": []
  },
  {
   "cell_type": "code",
   "execution_count": 5,
   "metadata": {},
   "outputs": [
    {
     "name": "stdout",
     "output_type": "stream",
     "text": [
      "Processing...\n",
      "go pl, raw_dir:/home/qibo/all_project/Graph反欺诈/PYG/raw\n"
     ]
    },
    {
     "name": "stderr",
     "output_type": "stream",
     "text": [
      "/home/qibo/qb_vir_env/lib/python3.6/site-packages/ipykernel_launcher.py:22: UserWarning: To copy construct from a tensor, it is recommended to use sourceTensor.clone().detach() or sourceTensor.clone().detach().requires_grad_(True), rather than torch.tensor(sourceTensor).\n"
     ]
    },
    {
     "name": "stdout",
     "output_type": "stream",
     "text": [
      "Done!\n",
      "processed_path:['/home/qibo/all_project/Graph反欺诈/PYG/processed/data.pt']\n"
     ]
    }
   ],
   "source": [
    "root ='/home/qibo/all_project/Graph反欺诈/PYG/'\n",
    "dataset = CashBus(root)\n",
    "data = dataset[0]\n"
   ]
  },
  {
   "cell_type": "code",
   "execution_count": 7,
   "metadata": {},
   "outputs": [
    {
     "data": {
      "text/plain": [
       "tensor([1, 1, 0,  ..., 0, 0, 1], dtype=torch.uint8)"
      ]
     },
     "execution_count": 7,
     "metadata": {},
     "output_type": "execute_result"
    }
   ],
   "source": [
    "data.test_mask"
   ]
  },
  {
   "cell_type": "code",
   "execution_count": 3,
   "metadata": {},
   "outputs": [
    {
     "name": "stdout",
     "output_type": "stream",
     "text": [
      "1\n",
      "Epoch: 001, Train: 0.5000, Val: 0.5000, Test: 0.5000\n",
      "2\n",
      "Epoch: 002, Train: 0.5000, Val: 0.5000, Test: 0.5000\n",
      "3\n",
      "Epoch: 003, Train: 1.0000, Val: 1.0000, Test: 1.0000\n",
      "4\n",
      "Epoch: 004, Train: 1.0000, Val: 1.0000, Test: 1.0000\n",
      "5\n",
      "Epoch: 005, Train: 1.0000, Val: 1.0000, Test: 1.0000\n",
      "6\n",
      "Epoch: 006, Train: 1.0000, Val: 1.0000, Test: 1.0000\n",
      "7\n",
      "Epoch: 007, Train: 1.0000, Val: 1.0000, Test: 1.0000\n",
      "8\n",
      "Epoch: 008, Train: 1.0000, Val: 1.0000, Test: 1.0000\n",
      "9\n",
      "Epoch: 009, Train: 1.0000, Val: 1.0000, Test: 1.0000\n",
      "10\n",
      "Epoch: 010, Train: 1.0000, Val: 1.0000, Test: 1.0000\n",
      "11\n",
      "Epoch: 011, Train: 1.0000, Val: 1.0000, Test: 1.0000\n",
      "12\n",
      "Epoch: 012, Train: 1.0000, Val: 1.0000, Test: 1.0000\n",
      "13\n",
      "Epoch: 013, Train: 1.0000, Val: 1.0000, Test: 1.0000\n",
      "14\n",
      "Epoch: 014, Train: 1.0000, Val: 1.0000, Test: 1.0000\n",
      "15\n",
      "Epoch: 015, Train: 1.0000, Val: 1.0000, Test: 1.0000\n",
      "16\n",
      "Epoch: 016, Train: 1.0000, Val: 1.0000, Test: 1.0000\n",
      "17\n",
      "Epoch: 017, Train: 1.0000, Val: 1.0000, Test: 1.0000\n",
      "18\n",
      "Epoch: 018, Train: 1.0000, Val: 1.0000, Test: 1.0000\n",
      "19\n",
      "Epoch: 019, Train: 1.0000, Val: 1.0000, Test: 1.0000\n"
     ]
    }
   ],
   "source": [
    "class Net(torch.nn.Module):\n",
    "    def __init__(self):\n",
    "        super(Net, self).__init__()\n",
    "        self.conv1 = GCNConv(dataset.num_features, 16, cached=True)\n",
    "        self.conv2 = GCNConv(16, dataset.num_classes, cached=True)\n",
    "\n",
    "    def forward(self):\n",
    "        x, edge_index = data.x, data.edge_index\n",
    "        x = F.relu(self.conv1(x, edge_index))\n",
    "        x = F.dropout(x, training=self.training)\n",
    "        x = self.conv2(x, edge_index)\n",
    "        return F.log_softmax(x, dim=1)\n",
    "\n",
    "device = torch.device('cuda' if torch.cuda.is_available() else 'cpu')\n",
    "model, data = Net().to(device), data.to(device)\n",
    "optimizer = torch.optim.Adam(model.parameters(), lr=0.01, weight_decay=5e-4)\n",
    "\n",
    "\n",
    "def train():\n",
    "    model.train()\n",
    "    optimizer.zero_grad()\n",
    "    F.nll_loss(model()[data.train_mask], data.y[data.train_mask]).backward()\n",
    "    optimizer.step()\n",
    "\n",
    "def test():\n",
    "    model.eval()\n",
    "    logits, accs = model(), []\n",
    "    for _, mask in data('train_mask', 'val_mask', 'test_mask'):\n",
    "        pred = logits[mask].max(1)[1]\n",
    "        acc = pred.eq(data.y[mask]).sum().item() / mask.sum().item()\n",
    "        accs.append(acc)\n",
    "    return accs\n",
    "\n",
    "\n",
    "best_val_acc = test_acc = 0\n",
    "for epoch in range(1, 20):\n",
    "    print(epoch)\n",
    "    train()\n",
    "    train_acc, val_acc, tmp_test_acc = test()\n",
    "    if val_acc > best_val_acc:\n",
    "        best_val_acc = val_acc\n",
    "        test_acc = tmp_test_acc\n",
    "    log = 'Epoch: {:03d}, Train: {:.4f}, Val: {:.4f}, Test: {:.4f}'\n",
    "    print(log.format(epoch, train_acc, best_val_acc, test_acc))"
   ]
  },
  {
   "cell_type": "code",
   "execution_count": null,
   "metadata": {},
   "outputs": [],
   "source": []
  }
 ],
 "metadata": {
  "kernelspec": {
   "display_name": "Python 3",
   "language": "python",
   "name": "python3"
  },
  "language_info": {
   "codemirror_mode": {
    "name": "ipython",
    "version": 3
   },
   "file_extension": ".py",
   "mimetype": "text/x-python",
   "name": "python",
   "nbconvert_exporter": "python",
   "pygments_lexer": "ipython3",
   "version": "3.6.7"
  }
 },
 "nbformat": 4,
 "nbformat_minor": 2
}
