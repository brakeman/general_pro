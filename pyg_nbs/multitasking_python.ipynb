{
 "cells": [
  {
   "cell_type": "code",
   "execution_count": 3,
   "metadata": {},
   "outputs": [
    {
     "name": "stdout",
     "output_type": "stream",
     "text": [
      "Collecting package metadata: done\n",
      "Solving environment: done\n",
      "\n",
      "## Package Plan ##\n",
      "\n",
      "  environment location: /home/qibo/anaconda3\n",
      "\n",
      "  added / updated specs:\n",
      "    - pil\n",
      "\n",
      "\n",
      "The following packages will be downloaded:\n",
      "\n",
      "    package                    |            build\n",
      "    ---------------------------|-----------------\n",
      "    _anaconda_depends-5.1.0    |           py27_2           5 KB\n",
      "    _ipyw_jlab_nb_ext_conf-0.1.0|           py27_0           4 KB\n",
      "    absl-py-0.7.1              |           py27_0         154 KB\n",
      "    alabaster-0.7.12           |           py27_0          17 KB\n",
      "    anaconda-custom            |           py27_1           3 KB\n",
      "    anaconda-client-1.7.2      |           py27_0         140 KB\n",
      "    anaconda-navigator-1.9.7   |           py27_0         4.8 MB\n",
      "    anaconda-project-0.8.3     |             py_0         212 KB\n",
      "    asn1crypto-0.24.0          |           py27_0         155 KB\n",
      "    astor-0.8.0                |           py27_0          44 KB\n",
      "    astroid-1.6.5              |           py27_0         402 KB\n",
      "    astropy-2.0.9              |   py27hdd07704_0         6.8 MB\n",
      "    atomicwrites-1.3.0         |           py27_1          13 KB\n",
      "    attrs-19.1.0               |           py27_1          56 KB\n",
      "    babel-2.7.0                |             py_0         5.8 MB\n",
      "    backports-1.0              |             py_2         139 KB\n",
      "    backports.functools_lru_cache-1.5|             py_2           9 KB\n",
      "    backports.os-0.1.1         |           py27_0          15 KB\n",
      "    backports.shutil_get_terminal_size-1.0.0|           py27_2           8 KB\n",
      "    backports.tempfile-1.0     |             py_1          12 KB\n",
      "    backports.weakref-1.0.post1|             py_1           7 KB\n",
      "    backports_abc-0.5          |             py_0          13 KB\n",
      "    beautifulsoup4-4.8.0       |           py27_0         143 KB\n",
      "    bitarray-1.0.1             |   py27h7b6447c_0          60 KB\n",
      "    bkcharts-0.2               |           py27_0         124 KB\n",
      "    blaze-0.11.3               |           py27_0         604 KB\n",
      "    bleach-3.1.0               |           py27_0         228 KB\n",
      "    bokeh-0.13.0               |           py27_0         5.1 MB\n",
      "    boto-2.49.0                |           py27_0         1.4 MB\n",
      "    bottleneck-1.2.1           |   py27h035aef0_1         127 KB\n",
      "    c-ares-1.15.0              |    h7b6447c_1001         102 KB\n",
      "    ca-certificates-2019.5.15  |                1         134 KB\n",
      "    cairo-1.12.18              |                6         594 KB\n",
      "    cdecimal-2.3               |   py27h14c3975_3         141 KB\n",
      "    certifi-2019.6.16          |           py27_1         156 KB\n",
      "    cffi-1.12.3                |   py27h2e261b9_0         218 KB\n",
      "    chardet-3.0.4              |        py27_1003         186 KB\n",
      "    click-7.0                  |           py27_0         116 KB\n",
      "    cloudpickle-1.2.1          |             py_0          28 KB\n",
      "    clyent-1.2.2               |           py27_1          18 KB\n",
      "    colorama-0.4.1             |           py27_0          24 KB\n",
      "    conda-4.7.11               |           py27_0         3.0 MB\n",
      "    conda-build-3.18.9         |           py27_3         533 KB\n",
      "    conda-package-handling-1.3.11|           py27_0         260 KB\n",
      "    conda-verify-3.4.2         |             py_1          25 KB\n",
      "    configparser-3.7.4         |           py27_0          41 KB\n",
      "    contextlib2-0.5.5          |           py27_0          15 KB\n",
      "    cryptography-2.3.1         |   py27hc365091_0         576 KB\n",
      "    cycler-0.10.0              |           py27_0          13 KB\n",
      "    cython-0.29.13             |   py27he6710b0_0         2.2 MB\n",
      "    cytoolz-0.10.0             |   py27h7b6447c_0         422 KB\n",
      "    dask-1.2.2                 |             py_0          11 KB\n",
      "    dask-core-1.2.2            |             py_0         539 KB\n",
      "    datashape-0.5.4            |           py27_1          97 KB\n",
      "    decorator-4.4.0            |           py27_1          18 KB\n",
      "    defusedxml-0.6.0           |             py_0          23 KB\n",
      "    distributed-1.28.1         |           py27_0         852 KB\n",
      "    docutils-0.15.2            |           py27_0         742 KB\n",
      "    entrypoints-0.3            |           py27_0          12 KB\n",
      "    enum34-1.1.6               |           py27_1          57 KB\n",
      "    et_xmlfile-1.0.1           |           py27_0          20 KB\n",
      "    fastcache-1.1.0            |   py27h7b6447c_0          31 KB\n",
      "    filelock-3.0.12            |             py_0          12 KB\n",
      "    flask-1.1.1                |             py_0          73 KB\n",
      "    flask-cors-3.0.8           |             py_0          17 KB\n",
      "    fontconfig-2.11.1          |                6         405 KB\n",
      "    freetype-2.5.5             |                2         2.5 MB\n",
      "    funcsigs-1.0.2             |           py27_0          20 KB\n",
      "    functools32-3.2.3.2        |           py27_1          23 KB\n",
      "    future-0.17.1              |           py27_0         710 KB\n",
      "    futures-3.3.0              |           py27_0          28 KB\n",
      "    gast-0.2.2                 |           py27_0         138 KB\n",
      "    gevent-1.4.0               |   py27h7b6447c_0         2.5 MB\n",
      "    glob2-0.7                  |             py_0          14 KB\n",
      "    gmpy2-2.0.8                |   py27h4cf3fa8_2         168 KB\n",
      "    greenlet-0.4.15            |   py27h7b6447c_0          20 KB\n",
      "    grin-1.2.1                 |           py27_4          27 KB\n",
      "    grpcio-1.14.1              |   py27h9ba97e2_0        1024 KB\n",
      "    h5py-2.7.1                 |   py27h2697762_0         1.0 MB\n",
      "    harfbuzz-0.9.39            |                1         1.1 MB\n",
      "    heapdict-1.0.0             |           py27_2           8 KB\n",
      "    html5lib-1.0.1             |             py_0          89 KB\n",
      "    icu-54.1                   |                0        11.3 MB\n",
      "    idna-2.8                   |           py27_0         133 KB\n",
      "    imageio-2.5.0              |           py27_0         3.3 MB\n",
      "    imagesize-1.1.0            |           py27_0           9 KB\n",
      "    importlib_metadata-0.19    |           py27_0          40 KB\n",
      "    ipaddress-1.0.22           |           py27_0          32 KB\n",
      "    ipykernel-4.10.0           |           py27_0         145 KB\n",
      "    ipython-5.8.0              |           py27_0         1.0 MB\n",
      "    ipython_genutils-0.2.0     |           py27_0          38 KB\n",
      "    ipywidgets-7.5.1           |             py_0         107 KB\n",
      "    isort-4.3.21               |           py27_0          68 KB\n",
      "    itsdangerous-1.1.0         |           py27_0          26 KB\n",
      "    jdcal-1.4.1                |             py_0          11 KB\n",
      "    jedi-0.15.1                |           py27_0         709 KB\n",
      "    jinja2-2.10.1              |           py27_0         181 KB\n",
      "    jpeg-8d                    |                2         806 KB\n",
      "    jsonschema-3.0.2           |           py27_0          89 KB\n",
      "    jupyter-1.0.0              |           py27_7           6 KB\n",
      "    jupyter_client-5.3.1       |             py_0          69 KB\n",
      "    jupyter_console-5.2.0      |           py27_1          35 KB\n",
      "    jupyter_core-4.5.0         |             py_0          48 KB\n",
      "    jupyterlab-0.33.11         |           py27_0        10.0 MB\n",
      "    jupyterlab_launcher-0.11.2 |   py27h28b3542_0          32 KB\n",
      "    lazy-object-proxy-1.4.1    |   py27h7b6447c_0          29 KB\n",
      "    lcms-1.19                  |                0         595 KB\n",
      "    libarchive-3.3.3           |       h7d0bbab_1         1.5 MB\n",
      "    libcurl-7.61.1             |       heec0ca6_0         496 KB\n",
      "    libgcc-7.2.0               |       h69d50b8_2         304 KB\n",
      "    liblief-0.9.0              |       h7725739_2         4.4 MB\n",
      "    libtiff-4.0.6              |                2         1.5 MB\n",
      "    libxml2-2.9.9              |       hea5a465_1         2.0 MB\n",
      "    libxslt-1.1.28             |                0         1.1 MB\n",
      "    llvmlite-0.29.0            |   py27hd408876_0        17.7 MB\n",
      "    locket-0.2.0               |           py27_1           8 KB\n",
      "    lxml-4.1.1                 |   py27hdd00cef_0         1.5 MB\n",
      "    lz4-c-1.8.1.2              |       h14c3975_0         158 KB\n",
      "    markdown-3.1.1             |           py27_0         112 KB\n",
      "    markupsafe-1.1.1           |   py27h7b6447c_0          29 KB\n",
      "    matplotlib-2.0.2           |      np113py27_0        10.6 MB\n",
      "    mccabe-0.6.1               |           py27_1          13 KB\n",
      "    mistune-0.8.4              |   py27h7b6447c_0          53 KB\n",
      "    mkl-service-1.1.2          |   py27h651fb7a_4          11 KB\n",
      "    mock-3.0.5                 |           py27_0          46 KB\n",
      "    more-itertools-5.0.0       |           py27_0          86 KB\n",
      "    mpmath-1.1.0               |           py27_0         972 KB\n",
      "    msgpack-python-0.6.1       |   py27hfd86e86_1          90 KB\n",
      "    multipledispatch-0.6.0     |           py27_0          21 KB\n",
      "    navigator-updater-0.2.1    |           py27_0         1.2 MB\n",
      "    nbconvert-5.5.0            |             py_0         381 KB\n",
      "    nbformat-4.4.0             |           py27_0         139 KB\n",
      "    networkx-2.2               |           py27_1         2.0 MB\n",
      "    nltk-3.4.4                 |           py27_0         2.1 MB\n",
      "    nose-1.3.7                 |           py27_2         213 KB\n",
      "    notebook-5.4.1             |           py27_0         6.6 MB\n",
      "    numba-0.45.1               |   py27h962f231_0         3.0 MB\n",
      "    numexpr-2.6.2              |   py27h9521900_2         179 KB\n",
      "    numpy-1.13.3               |   py27ha266831_3         3.8 MB\n",
      "    numpydoc-0.9.1             |             py_0          31 KB\n",
      "    odo-0.5.1                  |           py27_0         198 KB\n",
      "    olefile-0.46               |           py27_0          48 KB\n",
      "    openpyxl-2.6.2             |             py_0         157 KB\n",
      "    openssl-1.0.2s             |       h7b6447c_0         3.1 MB\n",
      "    packaging-19.1             |           py27_0          45 KB\n",
      "    pandas-0.24.2              |   py27he6710b0_0        10.9 MB\n",
      "    pandocfilters-1.4.2        |           py27_1          13 KB\n",
      "    pango-1.39.0               |                0         777 KB\n",
      "    parso-0.5.1                |             py_0          68 KB\n",
      "    partd-1.0.0                |             py_0          19 KB\n",
      "    path.py-11.5.0             |           py27_0          54 KB\n",
      "    pathlib2-2.3.4             |           py27_0          35 KB\n",
      "    patsy-0.5.1                |           py27_0         375 KB\n",
      "    pep8-1.7.1                 |           py27_0          51 KB\n",
      "    pexpect-4.7.0              |           py27_0          80 KB\n",
      "    pickleshare-0.7.5          |           py27_0          12 KB\n",
      "    pil-1.1.7                  |           py27_2         681 KB\n",
      "    pillow-3.4.2               |           py27_0         852 KB\n",
      "    pip-19.2.2                 |           py27_0         1.9 MB\n",
      "    pixman-0.32.6              |                0         2.4 MB\n",
      "    pkginfo-1.5.0.1            |           py27_0          41 KB\n",
      "    pluggy-0.12.0              |             py_0          20 KB\n",
      "    ply-3.11                   |           py27_0          79 KB\n",
      "    prompt_toolkit-1.0.15      |           py27_0         333 KB\n",
      "    protobuf-3.7.1             |   py27he6710b0_0         657 KB\n",
      "    psutil-5.6.3               |   py27h7b6447c_0         321 KB\n",
      "    ptyprocess-0.6.0           |           py27_0          22 KB\n",
      "    py-1.8.0                   |           py27_0         137 KB\n",
      "    py-lief-0.9.0              |   py27h7725739_2         1.6 MB\n",
      "    pycairo-1.10.0             |           py27_0          81 KB\n",
      "    pycodestyle-2.5.0          |           py27_0          60 KB\n",
      "    pycosat-0.6.3              |   py27h14c3975_0         103 KB\n",
      "    pycparser-2.19             |           py27_0         173 KB\n",
      "    pycrypto-2.6.1             |   py27h14c3975_9         460 KB\n",
      "    pycurl-7.43.0.2            |   py27hb7f436b_0          60 KB\n",
      "    pyflakes-2.1.1             |           py27_0         100 KB\n",
      "    pygments-2.4.2             |             py_0         664 KB\n",
      "    pylint-1.9.2               |           py27_0         772 KB\n",
      "    pyodbc-4.0.22              |   py27hf484d3e_0          65 KB\n",
      "    pyopenssl-19.0.0           |           py27_0          80 KB\n",
      "    pyparsing-2.4.2            |             py_0          61 KB\n",
      "    pyqt-5.6.0                 |   py27h22d08a2_6         5.3 MB\n",
      "    pyrsistent-0.14.11         |   py27h7b6447c_0          88 KB\n",
      "    pysocks-1.7.0              |           py27_0          29 KB\n",
      "    pytables-3.4.2             |   py27h1f7bffc_2         2.3 MB\n",
      "    pytest-4.6.2               |           py27_0         358 KB\n",
      "    python-2.7.14              |      h1571d57_29        11.8 MB\n",
      "    python-dateutil-2.8.0      |           py27_0         279 KB\n",
      "    python-libarchive-c-2.8    |          py27_13          23 KB\n",
      "    pytz-2019.2                |             py_0         245 KB\n",
      "    pywavelets-1.0.3           |   py27hdd07704_1         4.4 MB\n",
      "    pyyaml-5.1.2               |   py27h7b6447c_0         178 KB\n",
      "    pyzmq-16.0.3               |   py27hc579512_0         411 KB\n",
      "    qt-5.6.2                   |                0        43.4 MB\n",
      "    qtawesome-0.5.7            |           py27_1         615 KB\n",
      "    qtconsole-4.5.4            |             py_0          94 KB\n",
      "    qtpy-1.9.0                 |             py_0          39 KB\n",
      "    requests-2.22.0            |           py27_0          89 KB\n",
      "    ripgrep-0.10.0             |       hc07d326_0         1.4 MB\n",
      "    rope-0.14.0                |             py_0         113 KB\n",
      "    ruamel_yaml-0.15.46        |   py27h14c3975_0         241 KB\n",
      "    scandir-1.10.0             |   py27h7b6447c_0          32 KB\n",
      "    scikit-image-0.13.1        |   py27h14c3975_1        23.2 MB\n",
      "    scikit-learn-0.19.1        |   py27h445a80a_0         5.3 MB\n",
      "    scipy-1.0.0                |   py27hf5f0f52_0        17.8 MB\n",
      "    seaborn-0.9.0              |           py27_0         374 KB\n",
      "    send2trash-1.5.0           |           py27_0          16 KB\n",
      "    setuptools-41.0.1          |           py27_0         640 KB\n",
      "    simplegeneric-0.8.1        |           py27_2           9 KB\n",
      "    singledispatch-3.4.0.3     |           py27_0          15 KB\n",
      "    sip-4.18.1                 |   py27hf484d3e_2         279 KB\n",
      "    six-1.12.0                 |           py27_0          22 KB\n",
      "    snowballstemmer-1.9.0      |             py_0          53 KB\n",
      "    sortedcollections-1.1.2    |           py27_0          17 KB\n",
      "    sortedcontainers-2.1.0     |           py27_0          44 KB\n",
      "    soupsieve-1.9.2            |           py27_0          60 KB\n",
      "    sphinx-1.8.5               |           py27_0         1.9 MB\n",
      "    sphinxcontrib-1.0          |           py27_1           3 KB\n",
      "    sphinxcontrib-websupport-1.1.2|             py_0          35 KB\n",
      "    spyder-3.2.8               |           py27_0         2.6 MB\n",
      "    sqlalchemy-1.3.7           |   py27h7b6447c_0         1.7 MB\n",
      "    ssl_match_hostname-3.7.0.1 |           py27_0          13 KB\n",
      "    statsmodels-0.10.1         |   py27hdd07704_0         9.6 MB\n",
      "    subprocess32-3.5.4         |   py27h7b6447c_0          49 KB\n",
      "    sympy-1.4                  |           py27_0         9.9 MB\n",
      "    tblib-1.4.0                |             py_0          14 KB\n",
      "    tensorboard-1.13.1         |   py27hf484d3e_0         3.3 MB\n",
      "    tensorflow-1.13.1          |gpu_py27hcb41dfa_0           4 KB\n",
      "    tensorflow-base-1.13.1     |gpu_py27h8d69cac_0       294.1 MB\n",
      "    termcolor-1.1.0            |           py27_1           7 KB\n",
      "    terminado-0.8.2            |           py27_0          22 KB\n",
      "    testpath-0.4.2             |           py27_0          91 KB\n",
      "    toolz-0.10.0               |             py_0          50 KB\n",
      "    tornado-5.1.1              |   py27h7b6447c_0         643 KB\n",
      "    tqdm-4.32.1                |             py_0          48 KB\n",
      "    traitlets-4.3.2            |           py27_0         128 KB\n",
      "    typing-3.7.4               |           py27_0          49 KB\n",
      "    unicodecsv-0.14.1          |           py27_0          24 KB\n",
      "    urllib3-1.24.2             |           py27_0         151 KB\n",
      "    wcwidth-0.1.7              |           py27_0          25 KB\n",
      "    webencodings-0.5.1         |           py27_1          19 KB\n",
      "    werkzeug-0.15.5            |             py_0         256 KB\n",
      "    wheel-0.33.4               |           py27_0          39 KB\n",
      "    widgetsnbextension-3.5.1   |           py27_0         1.8 MB\n",
      "    wrapt-1.11.2               |   py27h7b6447c_0          48 KB\n",
      "    xlrd-1.2.0                 |           py27_0         187 KB\n",
      "    xlsxwriter-1.1.8           |             py_0         105 KB\n",
      "    xlwt-1.3.0                 |           py27_0         160 KB\n",
      "    zict-1.0.0                 |             py_0          12 KB\n",
      "    zipp-0.5.2                 |             py_0           8 KB\n",
      "    zstd-1.3.3                 |       h84994c4_0         840 KB\n",
      "    ------------------------------------------------------------\n",
      "                                           Total:       612.6 MB\n",
      "\n",
      "The following NEW packages will be INSTALLED:\n",
      "\n",
      "  _anaconda_depends  pkgs/main/linux-64::_anaconda_depends-5.1.0-py27_2\n",
      "  atomicwrites       pkgs/main/linux-64::atomicwrites-1.3.0-py27_1\n",
      "  attrs              pkgs/main/linux-64::attrs-19.1.0-py27_1\n",
      "  backports.functoo~ pkgs/main/noarch::backports.functools_lru_cache-1.5-py_2\n",
      "  backports.os       pkgs/main/linux-64::backports.os-0.1.1-py27_0\n",
      "  backports.tempfile pkgs/main/noarch::backports.tempfile-1.0-py_1\n",
      "  backports.weakref  pkgs/main/noarch::backports.weakref-1.0.post1-py_1\n",
      "  backports_abc      pkgs/main/noarch::backports_abc-0.5-py_0\n",
      "  c-ares             pkgs/main/linux-64::c-ares-1.15.0-h7b6447c_1001\n",
      "  cdecimal           pkgs/main/linux-64::cdecimal-2.3-py27h14c3975_3\n",
      "  conda-package-han~ pkgs/main/linux-64::conda-package-handling-1.3.11-py27_0\n",
      "  configparser       pkgs/main/linux-64::configparser-3.7.4-py27_0\n",
      "  defusedxml         pkgs/main/noarch::defusedxml-0.6.0-py_0\n",
      "  enum34             pkgs/main/linux-64::enum34-1.1.6-py27_1\n",
      "  funcsigs           pkgs/main/linux-64::funcsigs-1.0.2-py27_0\n",
      "  functools32        pkgs/main/linux-64::functools32-3.2.3.2-py27_1\n",
      "  future             pkgs/main/linux-64::future-0.17.1-py27_0\n",
      "  futures            pkgs/main/linux-64::futures-3.3.0-py27_0\n",
      "  grin               pkgs/main/linux-64::grin-1.2.1-py27_4\n",
      "  importlib_metadata pkgs/main/linux-64::importlib_metadata-0.19-py27_0\n",
      "  ipaddress          pkgs/main/linux-64::ipaddress-1.0.22-py27_0\n",
      "  lcms               pkgs/free/linux-64::lcms-1.19-0\n",
      "  libarchive         pkgs/main/linux-64::libarchive-3.3.3-h7d0bbab_1\n",
      "  libcurl            pkgs/main/linux-64::libcurl-7.61.1-heec0ca6_0\n",
      "  libgcc             pkgs/main/linux-64::libgcc-7.2.0-h69d50b8_2\n",
      "  liblief            pkgs/main/linux-64::liblief-0.9.0-h7725739_2\n",
      "  lz4-c              pkgs/main/linux-64::lz4-c-1.8.1.2-h14c3975_0\n",
      "  more-itertools     pkgs/main/linux-64::more-itertools-5.0.0-py27_0\n",
      "  parso              pkgs/main/noarch::parso-0.5.1-py_0\n",
      "  pil                pkgs/free/linux-64::pil-1.1.7-py27_2\n",
      "  pluggy             pkgs/main/noarch::pluggy-0.12.0-py_0\n",
      "  py-lief            pkgs/main/linux-64::py-lief-0.9.0-py27h7725739_2\n",
      "  pycairo            pkgs/free/linux-64::pycairo-1.10.0-py27_0\n",
      "  pyrsistent         pkgs/main/linux-64::pyrsistent-0.14.11-py27h7b6447c_0\n",
      "  python-libarchive~ pkgs/main/linux-64::python-libarchive-c-2.8-py27_13\n",
      "  ripgrep            pkgs/main/linux-64::ripgrep-0.10.0-hc07d326_0\n",
      "  scandir            pkgs/main/linux-64::scandir-1.10.0-py27h7b6447c_0\n",
      "  send2trash         pkgs/main/linux-64::send2trash-1.5.0-py27_0\n",
      "  soupsieve          pkgs/main/linux-64::soupsieve-1.9.2-py27_0\n",
      "  ssl_match_hostname pkgs/main/linux-64::ssl_match_hostname-3.7.0.1-py27_0\n",
      "  subprocess32       pkgs/main/linux-64::subprocess32-3.5.4-py27h7b6447c_0\n",
      "  tqdm               pkgs/main/noarch::tqdm-4.32.1-py_0\n",
      "  zipp               pkgs/main/noarch::zipp-0.5.2-py_0\n",
      "  zstd               pkgs/main/linux-64::zstd-1.3.3-h84994c4_0\n",
      "\n",
      "The following packages will be UPDATED:\n",
      "\n",
      "  alabaster                           0.7.10-py36h306e16b_0 --> 0.7.12-py27_0\n",
      "  anaconda           anaconda::anaconda-custom-py36hbbc8b6~ --> pkgs/main::anaconda-custom-py27_1\n",
      "  anaconda-client                      1.6.5-py36h19c0dcd_0 --> 1.7.2-py27_0\n",
      "  anaconda-navigator                   1.6.9-py36h11ddaaa_0 --> 1.9.7-py27_0\n",
      "  anaconda-project   pkgs/main/linux-64::anaconda-project-~ --> pkgs/main/noarch::anaconda-project-0.8.3-py_0\n",
      "  asn1crypto                          0.22.0-py36h265ca7c_1 --> 0.24.0-py27_0\n",
      "  astor                        anaconda::astor-0.7.1-py36_0 --> pkgs/main::astor-0.8.0-py27_0\n",
      "  astroid                              1.5.3-py36hbdb9df2_0 --> 1.6.5-py27_0\n",
      "  astropy                              2.0.2-py36ha51211e_4 --> 2.0.9-py27hdd07704_0\n",
      "  babel              pkgs/main/linux-64::babel-2.5.0-py36h~ --> pkgs/main/noarch::babel-2.7.0-py_0\n",
      "  backports          pkgs/main/linux-64::backports-1.0-py3~ --> pkgs/main/noarch::backports-1.0-py_2\n",
      "  beautifulsoup4                       4.6.0-py36h49b8c8c_1 --> 4.8.0-py27_0\n",
      "  bitarray                             0.8.1-py36h5834eb8_0 --> 1.0.1-py27h7b6447c_0\n",
      "  bleach                               2.0.0-py36h688b259_0 --> 3.1.0-py27_0\n",
      "  bokeh                              0.12.10-py36hbb0e44a_0 --> 0.13.0-py27_0\n",
      "  boto                                2.48.0-py36h6e4cd66_1 --> 2.49.0-py27_0\n",
      "  bottleneck                           1.2.1-py36haac1ea0_0 --> 1.2.1-py27h035aef0_1\n",
      "  ca-certificates                     2017.08.26-h1d4fec5_0 --> 2019.5.15-1\n",
      "  certifi                        2017.7.27.1-py36h8b7b77e_0 --> 2019.6.16-py27_1\n",
      "  cffi                                1.10.0-py36had8d393_1 --> 1.12.3-py27h2e261b9_0\n",
      "  chardet                              3.0.4-py36h0f667ec_1 --> 3.0.4-py27_1003\n",
      "  click                                  6.7-py36h5253387_0 --> 7.0-py27_0\n",
      "  cloudpickle        pkgs/main/linux-64::cloudpickle-0.4.0~ --> pkgs/main/noarch::cloudpickle-1.2.1-py_0\n",
      "  colorama                             0.3.9-py36h489cec4_0 --> 0.4.1-py27_0\n",
      "  conda                       anaconda::conda-4.6.14-py36_0 --> pkgs/main::conda-4.7.11-py27_0\n",
      "  conda-build                         3.0.27-py36h940a66d_0 --> 3.18.9-py27_3\n",
      "  conda-verify       pkgs/main/linux-64::conda-verify-2.0.~ --> pkgs/main/noarch::conda-verify-3.4.2-py_1\n",
      "  cryptography                         2.0.3-py36ha225213_1 --> 2.3.1-py27hc365091_0\n",
      "  cython                              0.26.1-py36h21c49d0_0 --> 0.29.13-py27he6710b0_0\n",
      "  cytoolz                              0.8.2-py36h708bfd4_0 --> 0.10.0-py27h7b6447c_0\n",
      "  dask               pkgs/main/linux-64::dask-0.15.3-py36h~ --> pkgs/main/noarch::dask-1.2.2-py_0\n",
      "  dask-core          pkgs/main/linux-64::dask-core-0.15.3-~ --> pkgs/main/noarch::dask-core-1.2.2-py_0\n",
      "  datashape                            0.5.4-py36h3ad6b5c_0 --> 0.5.4-py27_1\n",
      "  decorator                            4.1.2-py36hd076ac8_0 --> 4.4.0-py27_1\n",
      "  distributed                         1.19.1-py36h25f3894_0 --> 1.28.1-py27_0\n",
      "  docutils                              0.14-py36hb0f60f5_0 --> 0.15.2-py27_0\n",
      "  entrypoints                          0.2.3-py36h1aec115_2 --> 0.3-py27_0\n",
      "  fastcache                            1.0.2-py36h5b0c431_0 --> 1.1.0-py27h7b6447c_0\n",
      "  filelock           pkgs/main/linux-64::filelock-2.0.12-p~ --> pkgs/main/noarch::filelock-3.0.12-py_0\n",
      "  flask              pkgs/main/linux-64::flask-0.12.2-py36~ --> pkgs/main/noarch::flask-1.1.1-py_0\n",
      "  flask-cors         pkgs/main/linux-64::flask-cors-3.0.3-~ --> pkgs/main/noarch::flask-cors-3.0.8-py_0\n",
      "  gevent                               1.2.2-py36h2fe25dc_0 --> 1.4.0-py27h7b6447c_0\n",
      "  glob2              pkgs/main/linux-64::glob2-0.5-py36h2c~ --> pkgs/main/noarch::glob2-0.7-py_0\n",
      "  gmpy2                                2.0.8-py36h55090d7_1 --> 2.0.8-py27h4cf3fa8_2\n",
      "  greenlet                            0.4.12-py36h2d503a6_0 --> 0.4.15-py27h7b6447c_0\n",
      "  grpcio             anaconda::grpcio-1.12.1-py36hdbcaa40_0 --> pkgs/main::grpcio-1.14.1-py27h9ba97e2_0\n",
      "  h5py                                 2.7.0-py36he81ebca_1 --> 2.7.1-py27h2697762_0\n",
      "  heapdict                             1.0.0-py36h79797d7_0 --> 1.0.0-py27_2\n",
      "  html5lib           pkgs/main/linux-64::html5lib-0.999999~ --> pkgs/main/noarch::html5lib-1.0.1-py_0\n",
      "  idna                                   2.6-py36h82fb2a8_1 --> 2.8-py27_0\n",
      "  imageio                              2.2.0-py36he555465_0 --> 2.5.0-py27_0\n",
      "  imagesize                            0.7.1-py36h52d8127_0 --> 1.1.0-py27_0\n",
      "  ipykernel                            4.6.1-py36hbf841aa_0 --> 4.10.0-py27_0\n",
      "  ipywidgets         pkgs/main/linux-64::ipywidgets-7.0.0-~ --> pkgs/main/noarch::ipywidgets-7.5.1-py_0\n",
      "  isort                               4.2.15-py36had401c0_0 --> 4.3.21-py27_0\n",
      "  itsdangerous                          0.24-py36h93cc618_1 --> 1.1.0-py27_0\n",
      "  jdcal              pkgs/main/linux-64::jdcal-1.3-py36h4c~ --> pkgs/main/noarch::jdcal-1.4.1-py_0\n",
      "  jedi                                0.10.2-py36h552def0_0 --> 0.15.1-py27_0\n",
      "  jinja2                               2.9.6-py36h489bce4_1 --> 2.10.1-py27_0\n",
      "  jsonschema                           2.6.0-py36h006f8b5_0 --> 3.0.2-py27_0\n",
      "  jupyter                              1.0.0-py36h9896ce5_0 --> 1.0.0-py27_7\n",
      "  jupyter_client     pkgs/main/linux-64::jupyter_client-5.~ --> pkgs/main/noarch::jupyter_client-5.3.1-py_0\n",
      "  jupyter_core       pkgs/main/linux-64::jupyter_core-4.3.~ --> pkgs/main/noarch::jupyter_core-4.5.0-py_0\n",
      "  jupyterlab                          0.27.0-py36h86377d0_2 --> 0.33.11-py27_0\n",
      "  jupyterlab_launch~                   0.4.0-py36h4d8058d_0 --> 0.11.2-py27h28b3542_0\n",
      "  lazy-object-proxy                    1.3.1-py36h10fcdad_0 --> 1.4.1-py27h7b6447c_0\n",
      "  libxml2                                  2.9.4-h6b072ca_5 --> 2.9.9-hea5a465_1\n",
      "  llvmlite                                    0.20.0-py36_0 --> 0.29.0-py27hd408876_0\n",
      "  lxml                                 4.1.0-py36h5b66e50_0 --> 4.1.1-py27hdd00cef_0\n",
      "  markdown                    anaconda::markdown-3.1-py36_0 --> pkgs/main::markdown-3.1.1-py27_0\n",
      "  markupsafe                             1.0-py36hd9260cd_1 --> 1.1.1-py27h7b6447c_0\n",
      "  mistune                              0.7.4-py36hbab8784_0 --> 0.8.4-py27h7b6447c_0\n",
      "  mpmath                                0.19-py36h8cc018b_2 --> 1.1.0-py27_0\n",
      "  msgpack-python                       0.4.8-py36hec4c5d1_0 --> 0.6.1-py27hfd86e86_1\n",
      "  multipledispatch                     0.4.9-py36h41da3fb_0 --> 0.6.0-py27_0\n",
      "  navigator-updater                    0.1.0-py36h14770f7_0 --> 0.2.1-py27_0\n",
      "  nbconvert          pkgs/main/linux-64::nbconvert-5.3.1-p~ --> pkgs/main/noarch::nbconvert-5.5.0-py_0\n",
      "  networkx                               2.0-py36h7e96fb8_0 --> 2.2-py27_1\n",
      "  nltk                                 3.2.4-py36h1a0979f_0 --> 3.4.4-py27_0\n",
      "  notebook                             5.0.0-py36h0b20546_2 --> 5.4.1-py27_0\n",
      "  numba                                 0.35.0-np113py36_10 --> 0.45.1-py27h962f231_0\n",
      "  numexpr                              2.6.2-py36hdd3393f_1 --> 2.6.2-py27h9521900_2\n",
      "  numpy                               1.13.3-py36ha12f23b_0 --> 1.13.3-py27ha266831_3\n",
      "  numpydoc           pkgs/main/linux-64::numpydoc-0.7.0-py~ --> pkgs/main/noarch::numpydoc-0.9.1-py_0\n",
      "  olefile                               0.44-py36h79f9f78_0 --> 0.46-py27_0\n",
      "  openpyxl           pkgs/main/linux-64::openpyxl-2.4.8-py~ --> pkgs/main/noarch::openpyxl-2.6.2-py_0\n",
      "  openssl                                 1.0.2l-h077ae2c_5 --> 1.0.2s-h7b6447c_0\n",
      "  packaging                             16.8-py36ha668100_1 --> 19.1-py27_0\n",
      "  pandas                              0.20.3-py36h842e28d_2 --> 0.24.2-py27he6710b0_0\n",
      "  partd              pkgs/main/linux-64::partd-0.3.8-py36h~ --> pkgs/main/noarch::partd-1.0.0-py_0\n",
      "  path.py                             10.3.1-py36he0c6f6d_0 --> 11.5.0-py27_0\n",
      "  pathlib2                             2.3.0-py36h49efa8e_0 --> 2.3.4-py27_0\n",
      "  patsy                                0.4.1-py36ha3be15e_0 --> 0.5.1-py27_0\n",
      "  pep8                                 1.7.0-py36h26ade29_0 --> 1.7.1-py27_0\n",
      "  pexpect                              4.2.1-py36h3b9d41b_0 --> 4.7.0-py27_0\n",
      "  pickleshare                          0.7.4-py36h63277f8_0 --> 0.7.5-py27_0\n",
      "  pip                                  9.0.1-py36h8ec8b28_3 --> 19.2.2-py27_0\n",
      "  pkginfo                              1.4.1-py36h215d178_1 --> 1.5.0.1-py27_0\n",
      "  ply                                   3.10-py36hed35086_0 --> 3.11-py27_0\n",
      "  psutil                               5.4.0-py36h84c53db_0 --> 5.6.3-py27h7b6447c_0\n",
      "  ptyprocess                           0.5.2-py36h69acd42_0 --> 0.6.0-py27_0\n",
      "  py                                  1.4.34-py36h0712aa3_1 --> 1.8.0-py27_0\n",
      "  pycodestyle                          2.3.1-py36hf609f19_0 --> 2.5.0-py27_0\n",
      "  pycparser                             2.18-py36hf9f622e_1 --> 2.19-py27_0\n",
      "  pycrypto                             2.6.1-py36h6998063_1 --> 2.6.1-py27h14c3975_9\n",
      "  pycurl                              7.43.0-py36h5e72054_3 --> 7.43.0.2-py27hb7f436b_0\n",
      "  pyflakes                             1.6.0-py36h7bd6a15_0 --> 2.1.1-py27_0\n",
      "  pygments           pkgs/main/linux-64::pygments-2.2.0-py~ --> pkgs/main/noarch::pygments-2.4.2-py_0\n",
      "  pylint                               1.7.4-py36hb9d4533_0 --> 1.9.2-py27_0\n",
      "  pyodbc                              4.0.17-py36h999153c_0 --> 4.0.22-py27hf484d3e_0\n",
      "  pyopenssl                           17.2.0-py36h5cc804b_0 --> 19.0.0-py27_0\n",
      "  pyparsing          pkgs/main/linux-64::pyparsing-2.2.0-p~ --> pkgs/main/noarch::pyparsing-2.4.2-py_0\n",
      "  pyqt                                 5.6.0-py36h0386399_5 --> 5.6.0-py27h22d08a2_6\n",
      "  pysocks                              1.6.7-py36hd97a5b1_1 --> 1.7.0-py27_0\n",
      "  pytest                               3.2.1-py36h11ad3bb_1 --> 4.6.2-py27_0\n",
      "  python-dateutil                      2.6.1-py36h88d3b88_1 --> 2.8.0-py27_0\n",
      "  pytz               pkgs/main/linux-64::pytz-2017.2-py36h~ --> pkgs/main/noarch::pytz-2019.2-py_0\n",
      "  pywavelets                           0.5.2-py36he602eb0_0 --> 1.0.3-py27hdd07704_1\n",
      "  pyyaml                                3.12-py36hafb9ca4_1 --> 5.1.2-py27h7b6447c_0\n",
      "  pyzmq                               16.0.2-py36h3b0cf96_2 --> 16.0.3-py27hc579512_0\n",
      "  qtawesome                            0.4.4-py36h609ed8c_0 --> 0.5.7-py27_1\n",
      "  qtconsole          pkgs/main/linux-64::qtconsole-4.3.1-p~ --> pkgs/main/noarch::qtconsole-4.5.4-py_0\n",
      "  qtpy               pkgs/main/linux-64::qtpy-1.3.1-py36h3~ --> pkgs/main/noarch::qtpy-1.9.0-py_0\n",
      "  requests                            2.18.4-py36he2e5f8d_1 --> 2.22.0-py27_0\n",
      "  rope               pkgs/main/linux-64::rope-0.10.5-py36h~ --> pkgs/main/noarch::rope-0.14.0-py_0\n",
      "  ruamel_yaml                        0.11.14-py36ha2fb22d_2 --> 0.15.46-py27h14c3975_0\n",
      "  scikit-image                        0.13.0-py36had3c07a_1 --> 0.13.1-py27h14c3975_1\n",
      "  scipy                               0.19.1-py36h9976243_3 --> 1.0.0-py27hf5f0f52_0\n",
      "  seaborn                              0.8.0-py36h197244f_0 --> 0.9.0-py27_0\n",
      "  setuptools                          36.5.0-py36he42e2e1_0 --> 41.0.1-py27_0\n",
      "  simplegeneric                        0.8.1-py36h2cb9092_0 --> 0.8.1-py27_2\n",
      "  six                                 1.11.0-py36h372c433_1 --> 1.12.0-py27_0\n",
      "  snowballstemmer    pkgs/main/linux-64::snowballstemmer-1~ --> pkgs/main/noarch::snowballstemmer-1.9.0-py_0\n",
      "  sortedcollections                    0.5.3-py36h3c761f9_0 --> 1.1.2-py27_0\n",
      "  sortedcontainers                     1.5.7-py36hdf89491_0 --> 2.1.0-py27_0\n",
      "  sphinx                               1.6.3-py36he5f0bdb_0 --> 1.8.5-py27_0\n",
      "  sphinxcontrib-web~ pkgs/main/linux-64::sphinxcontrib-web~ --> pkgs/main/noarch::sphinxcontrib-websupport-1.1.2-py_0\n",
      "  spyder                               3.2.4-py36hbe6152b_0 --> 3.2.8-py27_0\n",
      "  sqlalchemy                          1.1.13-py36hfb5efd7_0 --> 1.3.7-py27h7b6447c_0\n",
      "  statsmodels                          0.8.0-py36h8533d0b_0 --> 0.10.1-py27hdd07704_0\n",
      "  sympy                                1.1.1-py36hc6d1c1c_0 --> 1.4-py27_0\n",
      "  tblib              pkgs/main/linux-64::tblib-1.3.2-py36h~ --> pkgs/main/noarch::tblib-1.4.0-py_0\n",
      "  terminado                              0.6-py36ha25a19f_0 --> 0.8.2-py27_0\n",
      "  testpath                             0.3.1-py36h8cadb63_0 --> 0.4.2-py27_0\n",
      "  toolz              pkgs/main/linux-64::toolz-0.8.2-py36h~ --> pkgs/main/noarch::toolz-0.10.0-py_0\n",
      "  tornado                              4.5.2-py36h1283b2a_0 --> 5.1.1-py27h7b6447c_0\n",
      "  typing                               3.6.2-py36h7da032a_0 --> 3.7.4-py27_0\n",
      "  urllib3                               1.22-py36hbe7ace6_0 --> 1.24.2-py27_0\n",
      "  werkzeug           pkgs/main/linux-64::werkzeug-0.12.2-p~ --> pkgs/main/noarch::werkzeug-0.15.5-py_0\n",
      "  wheel                               0.29.0-py36he7f4e38_1 --> 0.33.4-py27_0\n",
      "  widgetsnbextension                   3.0.2-py36hd01bb71_1 --> 3.5.1-py27_0\n",
      "  wrapt                              1.10.11-py36h28b7045_0 --> 1.11.2-py27h7b6447c_0\n",
      "  xlrd                                 1.1.0-py36h1db9f0c_1 --> 1.2.0-py27_0\n",
      "  xlsxwriter         pkgs/main/linux-64::xlsxwriter-1.0.2-~ --> pkgs/main/noarch::xlsxwriter-1.1.8-py_0\n",
      "  xz                                       5.2.3-h2bcbf08_1 --> 5.2.4-h14c3975_4\n",
      "  zict               pkgs/main/linux-64::zict-0.1.3-py36h3~ --> pkgs/main/noarch::zict-1.0.0-py_0\n",
      "\n",
      "The following packages will be SUPERSEDED by a higher-priority channel:\n",
      "\n",
      "  absl-py                    anaconda::absl-py-0.7.1-py36_0 --> pkgs/main::absl-py-0.7.1-py27_0\n",
      "  cairo                 pkgs/main::cairo-1.14.10-haa5651f_5 --> pkgs/free::cairo-1.12.18-6\n",
      "  fontconfig         pkgs/main::fontconfig-2.12.4-h88586e7~ --> pkgs/free::fontconfig-2.11.1-6\n",
      "  freetype               pkgs/main::freetype-2.8-h52ed37b_0 --> pkgs/free::freetype-2.5.5-2\n",
      "  gast                          anaconda::gast-0.2.2-py36_0 --> pkgs/main::gast-0.2.2-py27_0\n",
      "  harfbuzz             pkgs/main::harfbuzz-1.5.0-h2545bd6_0 --> pkgs/free::harfbuzz-0.9.39-1\n",
      "  icu                        pkgs/main::icu-58.2-h211956c_0 --> pkgs/free::icu-54.1-0\n",
      "  jpeg                        pkgs/main::jpeg-9b-habf39ab_1 --> pkgs/free::jpeg-8d-2\n",
      "  libtiff               pkgs/main::libtiff-4.0.8-h90200ff_9 --> pkgs/free::libtiff-4.0.6-2\n",
      "  libxslt              pkgs/main::libxslt-1.1.29-hcf9102b_5 --> pkgs/free::libxslt-1.1.28-0\n",
      "  matplotlib         pkgs/main::matplotlib-2.1.0-py36hba5d~ --> pkgs/free::matplotlib-2.0.2-np113py27_0\n",
      "  mock                          anaconda::mock-3.0.5-py36_0 --> pkgs/main::mock-3.0.5-py27_0\n",
      "  pango                 pkgs/main::pango-1.40.11-h8191d47_0 --> pkgs/free::pango-1.39.0-0\n",
      "  pillow             pkgs/main::pillow-4.2.1-py36h9119f52_0 --> pkgs/free::pillow-3.4.2-py27_0\n",
      "  pixman                pkgs/main::pixman-0.34.0-h83dc358_2 --> pkgs/free::pixman-0.32.6-0\n",
      "  protobuf           anaconda::protobuf-3.7.1-py36he6710b0~ --> pkgs/main::protobuf-3.7.1-py27he6710b0_0\n",
      "  pycosat            anaconda::pycosat-0.6.3-py36h14c3975_0 --> pkgs/main::pycosat-0.6.3-py27h14c3975_0\n",
      "  qt                        pkgs/main::qt-5.6.2-h974d657_12 --> pkgs/free::qt-5.6.2-0\n",
      "  tensorboard        anaconda::tensorboard-1.13.1-py36hf48~ --> pkgs/main::tensorboard-1.13.1-py27hf484d3e_0\n",
      "  tensorflow         anaconda::tensorflow-1.13.1-gpu_py36h~ --> pkgs/main::tensorflow-1.13.1-gpu_py27hcb41dfa_0\n",
      "  tensorflow-base    anaconda::tensorflow-base-1.13.1-gpu_~ --> pkgs/main::tensorflow-base-1.13.1-gpu_py27h8d69cac_0\n",
      "  termcolor                anaconda::termcolor-1.1.0-py36_1 --> pkgs/main::termcolor-1.1.0-py27_1\n",
      "\n",
      "The following packages will be DOWNGRADED:\n",
      "\n",
      "  _ipyw_jlab_nb_ext~                   0.1.0-py36he11e457_0 --> 0.1.0-py27_0\n",
      "  backports.shutil_~                   1.0.0-py36hfea85ff_2 --> 1.0.0-py27_2\n",
      "  bkcharts                               0.2-py36h735825a_0 --> 0.2-py27_0\n",
      "  blaze                               0.11.3-py36h4e06776_0 --> 0.11.3-py27_0\n",
      "  clyent                               1.2.2-py36h7e57e65_1 --> 1.2.2-py27_1\n",
      "  contextlib2                          0.5.5-py36h6c84a62_0 --> 0.5.5-py27_0\n",
      "  cycler                              0.10.0-py36h93f1223_0 --> 0.10.0-py27_0\n",
      "  et_xmlfile                           1.0.1-py36hd6bccc3_0 --> 1.0.1-py27_0\n",
      "  ipython                              6.1.0-py36hc72a948_1 --> 5.8.0-py27_0\n",
      "  ipython_genutils                     0.2.0-py36hb52b0d5_0 --> 0.2.0-py27_0\n",
      "  jupyter_console                      5.2.0-py36he59e554_1 --> 5.2.0-py27_1\n",
      "  locket                               0.2.0-py36h787c0ad_1 --> 0.2.0-py27_1\n",
      "  mccabe                               0.6.1-py36h5ad9710_1 --> 0.6.1-py27_1\n",
      "  mkl-service                          1.1.2-py36h17a0993_4 --> 1.1.2-py27h651fb7a_4\n",
      "  nbformat                             4.4.0-py36h31c9010_0 --> 4.4.0-py27_0\n",
      "  nose                                 1.3.7-py36hcdf7029_2 --> 1.3.7-py27_2\n",
      "  odo                                  0.5.1-py36h90ed295_0 --> 0.5.1-py27_0\n",
      "  pandocfilters                        1.4.2-py36ha6701b7_1 --> 1.4.2-py27_1\n",
      "  prompt_toolkit                      1.0.15-py36h17d85b1_0 --> 1.0.15-py27_0\n",
      "  pytables                             3.4.2-py36h3b5282a_2 --> 3.4.2-py27h1f7bffc_2\n",
      "  python                                   3.6.3-hc9025b9_1 --> 2.7.14-h1571d57_29\n",
      "  scikit-learn                        0.19.1-py36h7aa7ec6_0 --> 0.19.1-py27h445a80a_0\n",
      "  singledispatch                     3.4.0.3-py36h7a266c3_0 --> 3.4.0.3-py27_0\n",
      "  sip                                 4.18.1-py36h51ed4ed_2 --> 4.18.1-py27hf484d3e_2\n",
      "  sphinxcontrib                          1.0-py36h6d0f590_1 --> 1.0-py27_1\n",
      "  traitlets                            4.3.2-py36h674d592_0 --> 4.3.2-py27_0\n",
      "  unicodecsv                          0.14.1-py36ha668878_0 --> 0.14.1-py27_0\n",
      "  wcwidth                              0.1.7-py36hdf4376a_0 --> 0.1.7-py27_0\n",
      "  webencodings                         0.5.1-py36h800622e_1 --> 0.5.1-py27_1\n",
      "  xlwt                                 1.3.0-py36h7b00a1f_0 --> 1.3.0-py27_0\n",
      "\n",
      "\n"
     ]
    },
    {
     "name": "stdout",
     "output_type": "stream",
     "text": [
      "Proceed ([y]/n)? ^C\r\n",
      "\r\n",
      "CondaSystemExit: \r\n",
      "Operation aborted.  Exiting.\r\n",
      "\r\n"
     ]
    }
   ],
   "source": [
    "!conda install PIL"
   ]
  },
  {
   "cell_type": "code",
   "execution_count": 1,
   "metadata": {},
   "outputs": [
    {
     "ename": "ModuleNotFoundError",
     "evalue": "No module named 'PIL'",
     "output_type": "error",
     "traceback": [
      "\u001b[0;31m---------------------------------------------------------------------------\u001b[0m",
      "\u001b[0;31mModuleNotFoundError\u001b[0m                       Traceback (most recent call last)",
      "\u001b[0;32m<ipython-input-1-de932436cb1f>\u001b[0m in \u001b[0;36m<module>\u001b[0;34m\u001b[0m\n\u001b[1;32m      4\u001b[0m \u001b[0;32mimport\u001b[0m \u001b[0mmatplotlib\u001b[0m\u001b[0;34m.\u001b[0m\u001b[0mpyplot\u001b[0m \u001b[0;32mas\u001b[0m \u001b[0mplt\u001b[0m\u001b[0;34m\u001b[0m\u001b[0;34m\u001b[0m\u001b[0m\n\u001b[1;32m      5\u001b[0m \u001b[0;32mimport\u001b[0m \u001b[0mglob\u001b[0m\u001b[0;34m\u001b[0m\u001b[0;34m\u001b[0m\u001b[0m\n\u001b[0;32m----> 6\u001b[0;31m \u001b[0;32mfrom\u001b[0m \u001b[0mPIL\u001b[0m \u001b[0;32mimport\u001b[0m \u001b[0mImage\u001b[0m\u001b[0;34m\u001b[0m\u001b[0;34m\u001b[0m\u001b[0m\n\u001b[0m\u001b[1;32m      7\u001b[0m \u001b[0;32mimport\u001b[0m \u001b[0mrandom\u001b[0m\u001b[0;34m\u001b[0m\u001b[0;34m\u001b[0m\u001b[0m\n\u001b[1;32m      8\u001b[0m \u001b[0;32mimport\u001b[0m \u001b[0mstring\u001b[0m\u001b[0;34m\u001b[0m\u001b[0;34m\u001b[0m\u001b[0m\n",
      "\u001b[0;31mModuleNotFoundError\u001b[0m: No module named 'PIL'"
     ]
    }
   ],
   "source": [
    "from concurrent.futures import ProcessPoolExecutor, ThreadPoolExecutor\n",
    "import numpy as np\n",
    "import time\n",
    "import matplotlib.pyplot as plt\n",
    "import glob\n",
    "from PIL import Image\n",
    "import random\n",
    "import string\n",
    "%matplotlib inline"
   ]
  },
  {
   "cell_type": "code",
   "execution_count": null,
   "metadata": {},
   "outputs": [],
   "source": [
    "MULTITHREADING_TITLE=\"Multithreading\"\n",
    "MULTIPROCESSING_TITLE=\"Multiprocessing\"\n",
    "\n",
    "def visualize_runtimes(results, title):\n",
    "    start,stop = np.array(results).T\n",
    "    plt.barh(range(len(start)),stop-start,left=start)\n",
    "    plt.grid(axis='x')\n",
    "    plt.ylabel(\"Tasks\")\n",
    "    plt.xlabel(\"Seconds\")\n",
    "    plt.title(title)\n",
    "    return stop[-1]-start[0]"
   ]
  },
  {
   "cell_type": "code",
   "execution_count": 3,
   "metadata": {
    "collapsed": true
   },
   "outputs": [],
   "source": [
    "def multithreading(func, args, workers):\n",
    "    begin_time = time.time()\n",
    "    with ThreadPoolExecutor(max_workers=workers) as executor:\n",
    "        res = executor.map(func, args, [begin_time for i in range(len(args))])\n",
    "    return list(res)\n",
    "        \n",
    "def multiprocessing(func, args, workers):\n",
    "    begin_time = time.time()\n",
    "    with ProcessPoolExecutor(max_workers=workers) as executor:\n",
    "        res = executor.map(func, args, [begin_time for i in range(len(args))])\n",
    "    return list(res)"
   ]
  },
  {
   "cell_type": "markdown",
   "metadata": {},
   "source": [
    "# API Calls"
   ]
  },
  {
   "cell_type": "code",
   "execution_count": 4,
   "metadata": {},
   "outputs": [],
   "source": [
    "from urllib.request import urlopen\n",
    "\n",
    "def download(url, base):\n",
    "    start = time.time() - base\n",
    "    try:\n",
    "        resp = urlopen(url)\n",
    "    except Exception as e:\n",
    "        print ('ERROR: %s' % e)\n",
    "    stop = time.time() - base\n",
    "    return start,stop"
   ]
  },
  {
   "cell_type": "code",
   "execution_count": 5,
   "metadata": {},
   "outputs": [],
   "source": [
    "N = 16\n",
    "URL = 'http://scholar.princeton.edu/sites/default/files/oversize_pdf_test_0.pdf'\n",
    "urls = [URL for i in range(N)]"
   ]
  },
  {
   "cell_type": "markdown",
   "metadata": {},
   "source": [
    "#### Serial"
   ]
  },
  {
   "cell_type": "code",
   "execution_count": 99,
   "metadata": {},
   "outputs": [
    {
     "name": "stdout",
     "output_type": "stream",
     "text": [
      "1 loop, best of 3: 6.36 s per loop\n"
     ]
    }
   ],
   "source": [
    "%timeit -n 1 [download(url, 1) for url in urls]"
   ]
  },
  {
   "cell_type": "markdown",
   "metadata": {},
   "source": [
    "#### Multithreading"
   ]
  },
  {
   "cell_type": "code",
   "execution_count": 124,
   "metadata": {},
   "outputs": [
    {
     "data": {
      "text/plain": [
       "5.8347444534301758"
      ]
     },
     "execution_count": 124,
     "metadata": {},
     "output_type": "execute_result"
    },
    {
     "data": {
      "image/png": "[encoded data removed]",
      "text/plain": [
       "<matplotlib.figure.Figure at 0x7fe26040ffd0>"
      ]
     },
     "metadata": {},
     "output_type": "display_data"
    }
   ],
   "source": [
    "visualize_runtimes(multithreading(download, urls, 1), \"Single Thread\")"
   ]
  },
  {
   "cell_type": "code",
   "execution_count": 8,
   "metadata": {},
   "outputs": [
    {
     "data": {
      "text/plain": [
       "3.7525379657745361"
      ]
     },
     "execution_count": 8,
     "metadata": {},
     "output_type": "execute_result"
    },
    {
     "data": {
      "image/png": "[encoded data removed]",
      "text/plain": [
       "<matplotlib.figure.Figure at 0x7ff1445d8278>"
      ]
     },
     "metadata": {},
     "output_type": "display_data"
    }
   ],
   "source": [
    "visualize_runtimes(multithreading(download, urls, 2),MULTITHREADING_TITLE)"
   ]
  },
  {
   "cell_type": "code",
   "execution_count": 9,
   "metadata": {},
   "outputs": [
    {
     "data": {
      "text/plain": [
       "2.0224919319152832"
      ]
     },
     "execution_count": 9,
     "metadata": {},
     "output_type": "execute_result"
    },
    {
     "data": {
      "image/png": "[encoded data removed]",
      "text/plain": [
       "<matplotlib.figure.Figure at 0x7ff144674048>"
      ]
     },
     "metadata": {},
     "output_type": "display_data"
    }
   ],
   "source": [
    "visualize_runtimes(multithreading(download, urls, 4),MULTITHREADING_TITLE)"
   ]
  },
  {
   "cell_type": "markdown",
   "metadata": {},
   "source": [
    "#### Multiprocessing"
   ]
  },
  {
   "cell_type": "code",
   "execution_count": 121,
   "metadata": {},
   "outputs": [
    {
     "data": {
      "text/plain": [
       "6.8083174228668213"
      ]
     },
     "execution_count": 121,
     "metadata": {},
     "output_type": "execute_result"
    },
    {
     "data": {
      "image/png": "[encoded data removed]",
      "text/plain": [
       "<matplotlib.figure.Figure at 0x7fe261bb83c8>"
      ]
     },
     "metadata": {},
     "output_type": "display_data"
    }
   ],
   "source": [
    "visualize_runtimes(multiprocessing(download, urls, 1), \"Single Process\")"
   ]
  },
  {
   "cell_type": "code",
   "execution_count": 11,
   "metadata": {},
   "outputs": [
    {
     "data": {
      "text/plain": [
       "3.5206444263458252"
      ]
     },
     "execution_count": 11,
     "metadata": {},
     "output_type": "execute_result"
    },
    {
     "data": {
      "image/png": "[encoded data removed]",
      "text/plain": [
       "<matplotlib.figure.Figure at 0x7ff14438de80>"
      ]
     },
     "metadata": {},
     "output_type": "display_data"
    }
   ],
   "source": [
    "visualize_runtimes(multiprocessing(download, urls, 2), MULTIPROCESSING_TITLE)"
   ]
  },
  {
   "cell_type": "code",
   "execution_count": 12,
   "metadata": {},
   "outputs": [
    {
     "data": {
      "text/plain": [
       "2.1228179931640625"
      ]
     },
     "execution_count": 12,
     "metadata": {},
     "output_type": "execute_result"
    },
    {
     "data": {
      "image/png": "[encoded data removed]",
      "text/plain": [
       "<matplotlib.figure.Figure at 0x7ff144296198>"
      ]
     },
     "metadata": {},
     "output_type": "display_data"
    }
   ],
   "source": [
    "visualize_runtimes(multiprocessing(download, urls, 4), MULTIPROCESSING_TITLE)"
   ]
  },
  {
   "cell_type": "markdown",
   "metadata": {},
   "source": [
    "# IO Heavy"
   ]
  },
  {
   "cell_type": "code",
   "execution_count": 103,
   "metadata": {},
   "outputs": [],
   "source": [
    "def io_heavy(text,base):\n",
    "    start = time.time() - base\n",
    "    f = open('output.txt', 'wt', encoding='utf-8')\n",
    "    f.write(text)\n",
    "    f.close()\n",
    "    stop = time.time() - base\n",
    "    return start,stop"
   ]
  },
  {
   "cell_type": "code",
   "execution_count": 104,
   "metadata": {},
   "outputs": [],
   "source": [
    "N=12\n",
    "TEXT = ''.join(random.choice(string.ascii_lowercase) for i in range(10**7*5))"
   ]
  },
  {
   "cell_type": "markdown",
   "metadata": {},
   "source": [
    "#### Serial"
   ]
  },
  {
   "cell_type": "code",
   "execution_count": 15,
   "metadata": {},
   "outputs": [
    {
     "name": "stdout",
     "output_type": "stream",
     "text": [
      "1 loop, best of 3: 1.37 s per loop\n"
     ]
    }
   ],
   "source": [
    "%timeit -n 1 [io_heavy(TEXT,1) for i in range(N)]"
   ]
  },
  {
   "cell_type": "markdown",
   "metadata": {},
   "source": [
    "#### Multithreading\n",
    "\n",
    "Should see good benefit from this"
   ]
  },
  {
   "cell_type": "code",
   "execution_count": 105,
   "metadata": {},
   "outputs": [
    {
     "data": {
      "text/plain": [
       "1.2725670337677002"
      ]
     },
     "execution_count": 105,
     "metadata": {},
     "output_type": "execute_result"
    },
    {
     "data": {
      "image/png": "[encoded data removed]",
      "text/plain": [
       "<matplotlib.figure.Figure at 0x7fe2627a9da0>"
      ]
     },
     "metadata": {},
     "output_type": "display_data"
    }
   ],
   "source": [
    "visualize_runtimes(multithreading(io_heavy, [TEXT for i in range(N)], 1),\"Single Thread\")"
   ]
  },
  {
   "cell_type": "code",
   "execution_count": 17,
   "metadata": {},
   "outputs": [
    {
     "data": {
      "text/plain": [
       "0.68187546730041504"
      ]
     },
     "execution_count": 17,
     "metadata": {},
     "output_type": "execute_result"
    },
    {
     "data": {
      "image/png": "[encoded data removed]",
      "text/plain": [
       "<matplotlib.figure.Figure at 0x7ff14414d390>"
      ]
     },
     "metadata": {},
     "output_type": "display_data"
    }
   ],
   "source": [
    "visualize_runtimes(multithreading(io_heavy, [TEXT for i in range(N)], 2),MULTITHREADING_TITLE)"
   ]
  },
  {
   "cell_type": "code",
   "execution_count": 18,
   "metadata": {},
   "outputs": [
    {
     "data": {
      "text/plain": [
       "0.59884214401245117"
      ]
     },
     "execution_count": 18,
     "metadata": {},
     "output_type": "execute_result"
    },
    {
     "data": {
      "image/png": "[encoded data removed]",
      "text/plain": [
       "<matplotlib.figure.Figure at 0x7ff14414d470>"
      ]
     },
     "metadata": {},
     "output_type": "display_data"
    }
   ],
   "source": [
    "visualize_runtimes(multithreading(io_heavy, [TEXT for i in range(N)], 4),MULTITHREADING_TITLE)"
   ]
  },
  {
   "cell_type": "markdown",
   "metadata": {},
   "source": [
    "#### Multiprocessing\n",
    "\n",
    "Should see good benefit from this"
   ]
  },
  {
   "cell_type": "code",
   "execution_count": 106,
   "metadata": {},
   "outputs": [
    {
     "data": {
      "text/plain": [
       "1.3357248306274414"
      ]
     },
     "execution_count": 106,
     "metadata": {},
     "output_type": "execute_result"
    },
    {
     "data": {
      "image/png": "[encoded data removed]",
      "text/plain": [
       "<matplotlib.figure.Figure at 0x7fe2586f5a58>"
      ]
     },
     "metadata": {},
     "output_type": "display_data"
    }
   ],
   "source": [
    "visualize_runtimes(multiprocessing(io_heavy, [TEXT for i in range(N)], 1),\"Single Process\")"
   ]
  },
  {
   "cell_type": "code",
   "execution_count": 20,
   "metadata": {},
   "outputs": [
    {
     "data": {
      "text/plain": [
       "0.9419243335723877"
      ]
     },
     "execution_count": 20,
     "metadata": {},
     "output_type": "execute_result"
    },
    {
     "data": {
      "image/png": "[encoded data removed]",
      "text/plain": [
       "<matplotlib.figure.Figure at 0x7ff1445e6f28>"
      ]
     },
     "metadata": {},
     "output_type": "display_data"
    }
   ],
   "source": [
    "visualize_runtimes(multiprocessing(io_heavy, [TEXT for i in range(N)], 2),MULTIPROCESSING_TITLE)"
   ]
  },
  {
   "cell_type": "code",
   "execution_count": 21,
   "metadata": {},
   "outputs": [
    {
     "data": {
      "text/plain": [
       "0.89698147773742676"
      ]
     },
     "execution_count": 21,
     "metadata": {},
     "output_type": "execute_result"
    },
    {
     "data": {
      "image/png": "[encoded data removed]",
      "text/plain": [
       "<matplotlib.figure.Figure at 0x7ff144385390>"
      ]
     },
     "metadata": {},
     "output_type": "display_data"
    }
   ],
   "source": [
    "visualize_runtimes(multiprocessing(io_heavy, [TEXT for i in range(N)], 4),MULTIPROCESSING_TITLE)"
   ]
  },
  {
   "cell_type": "markdown",
   "metadata": {
    "collapsed": true
   },
   "source": [
    "# Numpy Functions"
   ]
  },
  {
   "cell_type": "markdown",
   "metadata": {},
   "source": [
    "### Numpy Addition"
   ]
  },
  {
   "cell_type": "code",
   "execution_count": 109,
   "metadata": {
    "collapsed": true
   },
   "outputs": [],
   "source": [
    "#Does not use parallel processing by default\n",
    "#But will see speedups if multiprocessing used\n",
    "#Because numpy sidesteps python's GIL\n",
    "def addition(i, base):\n",
    "    start = time.time() - base\n",
    "    res = a + b\n",
    "    stop = time.time() - base\n",
    "    return start,stop"
   ]
  },
  {
   "cell_type": "code",
   "execution_count": 110,
   "metadata": {
    "collapsed": true
   },
   "outputs": [],
   "source": [
    "DIMS = 20000\n",
    "N = 20\n",
    "DIMS_ARR = [DIMS for i in range(N)]\n",
    "a = np.random.rand(DIMS,DIMS)\n",
    "b = np.random.rand(DIMS,DIMS)"
   ]
  },
  {
   "cell_type": "markdown",
   "metadata": {},
   "source": [
    "#### Serial"
   ]
  },
  {
   "cell_type": "code",
   "execution_count": 24,
   "metadata": {},
   "outputs": [
    {
     "name": "stdout",
     "output_type": "stream",
     "text": [
      "1 loop, best of 3: 14.9 s per loop\n"
     ]
    }
   ],
   "source": [
    "%timeit -n 1 [addition(i, time.time()) for i in range(N)]"
   ]
  },
  {
   "cell_type": "markdown",
   "metadata": {},
   "source": [
    "#### Multithreading\n",
    "\n",
    "Some benefit for numpy addition (operation avoids GIL, but not parallel by default)"
   ]
  },
  {
   "cell_type": "code",
   "execution_count": 111,
   "metadata": {},
   "outputs": [
    {
     "data": {
      "text/plain": [
       "14.84851598739624"
      ]
     },
     "execution_count": 111,
     "metadata": {},
     "output_type": "execute_result"
    },
    {
     "data": {
      "image/png": "[encoded data removed]",
      "text/plain": [
       "<matplotlib.figure.Figure at 0x7fe25807a6d8>"
      ]
     },
     "metadata": {},
     "output_type": "display_data"
    }
   ],
   "source": [
    "visualize_runtimes(multithreading(addition, [i for i in range(N)], 1),\"Single Thread\")"
   ]
  },
  {
   "cell_type": "code",
   "execution_count": 26,
   "metadata": {},
   "outputs": [
    {
     "data": {
      "text/plain": [
       "11.119851350784302"
      ]
     },
     "execution_count": 26,
     "metadata": {},
     "output_type": "execute_result"
    },
    {
     "data": {
      "image/png": "[encoded data removed]",
      "text/plain": [
       "<matplotlib.figure.Figure at 0x7ff144070940>"
      ]
     },
     "metadata": {},
     "output_type": "display_data"
    }
   ],
   "source": [
    "visualize_runtimes(multithreading(addition, [i for i in range(N)], 2),MULTITHREADING_TITLE)"
   ]
  },
  {
   "cell_type": "code",
   "execution_count": 27,
   "metadata": {},
   "outputs": [
    {
     "data": {
      "text/plain": [
       "16.048599004745483"
      ]
     },
     "execution_count": 27,
     "metadata": {},
     "output_type": "execute_result"
    },
    {
     "data": {
      "image/png": "[encoded data removed]",
      "text/plain": [
       "<matplotlib.figure.Figure at 0x7ff144022ba8>"
      ]
     },
     "metadata": {},
     "output_type": "display_data"
    }
   ],
   "source": [
    "visualize_runtimes(multithreading(addition, [i for i in range(N)], 4),MULTITHREADING_TITLE)"
   ]
  },
  {
   "cell_type": "markdown",
   "metadata": {},
   "source": [
    "#### Multiprocessing\n",
    "\n",
    "Some benefit for numpy addition (operation avoids GIL, but not parallel by default)"
   ]
  },
  {
   "cell_type": "code",
   "execution_count": 112,
   "metadata": {},
   "outputs": [
    {
     "data": {
      "text/plain": [
       "14.817286252975464"
      ]
     },
     "execution_count": 112,
     "metadata": {},
     "output_type": "execute_result"
    },
    {
     "data": {
      "image/png": "[encoded data removed]",
      "text/plain": [
       "<matplotlib.figure.Figure at 0x7fe2580701d0>"
      ]
     },
     "metadata": {},
     "output_type": "display_data"
    }
   ],
   "source": [
    "visualize_runtimes(multiprocessing(addition, [i for i in range(N)], 1),\"Single Process\")"
   ]
  },
  {
   "cell_type": "code",
   "execution_count": 30,
   "metadata": {},
   "outputs": [
    {
     "data": {
      "text/plain": [
       "14.861897945404053"
      ]
     },
     "execution_count": 30,
     "metadata": {},
     "output_type": "execute_result"
    },
    {
     "data": {
      "image/png": "[encoded data removed]",
      "text/plain": [
       "<matplotlib.figure.Figure at 0x7ff14442d9e8>"
      ]
     },
     "metadata": {},
     "output_type": "display_data"
    }
   ],
   "source": [
    "visualize_runtimes(multiprocessing(addition, [i for i in range(N)], 1),MULTIPROCESSING_TITLE)"
   ]
  },
  {
   "cell_type": "code",
   "execution_count": 31,
   "metadata": {},
   "outputs": [
    {
     "data": {
      "text/plain": [
       "14.71403169631958"
      ]
     },
     "execution_count": 31,
     "metadata": {},
     "output_type": "execute_result"
    },
    {
     "data": {
      "image/png": "[encoded data removed]",
      "text/plain": [
       "<matplotlib.figure.Figure at 0x7ff144458860>"
      ]
     },
     "metadata": {},
     "output_type": "display_data"
    }
   ],
   "source": [
    "visualize_runtimes(multiprocessing(addition, [i for i in range(N)], 1),MULTIPROCESSING_TITLE)"
   ]
  },
  {
   "cell_type": "markdown",
   "metadata": {},
   "source": [
    "### Dot Product"
   ]
  },
  {
   "cell_type": "code",
   "execution_count": 113,
   "metadata": {
    "collapsed": true
   },
   "outputs": [],
   "source": [
    "#Automatic parallel processing built works out of the box\n",
    "#Depending on BLAS impl, MKL (default with anaconda3) does\n",
    "#Should NOT see speedups with multithreading/processing\n",
    "def dot_product(i, base):\n",
    "    start = time.time() - base\n",
    "    res = np.dot(a,b)\n",
    "    stop = time.time() - base\n",
    "    return start,stop\n",
    "\n",
    "DIMS = 3000\n",
    "N = 10\n",
    "DIMS_ARR = [DIMS for i in range(N)]\n",
    "a = np.random.rand(DIMS,DIMS)\n",
    "b = np.random.rand(DIMS,DIMS)"
   ]
  },
  {
   "cell_type": "markdown",
   "metadata": {},
   "source": [
    "#### Serial"
   ]
  },
  {
   "cell_type": "code",
   "execution_count": 33,
   "metadata": {},
   "outputs": [
    {
     "name": "stdout",
     "output_type": "stream",
     "text": [
      "1 loop, best of 3: 2.87 s per loop\n"
     ]
    }
   ],
   "source": [
    "%timeit -n 1 [dot_product(i, time.time()) for i in range(N)]"
   ]
  },
  {
   "cell_type": "markdown",
   "metadata": {},
   "source": [
    "#### Multithreading\n",
    "\n",
    "No benefit on dot product (since already parallel)"
   ]
  },
  {
   "cell_type": "code",
   "execution_count": 114,
   "metadata": {},
   "outputs": [
    {
     "data": {
      "text/plain": [
       "4.197455883026123"
      ]
     },
     "execution_count": 114,
     "metadata": {},
     "output_type": "execute_result"
    },
    {
     "data": {
      "image/png": "[encoded data removed]",
      "text/plain": [
       "<matplotlib.figure.Figure at 0x7fe28434a9b0>"
      ]
     },
     "metadata": {},
     "output_type": "display_data"
    }
   ],
   "source": [
    "visualize_runtimes(multithreading(dot_product, [i for i in range(N)], 1),\"Single Thread\")"
   ]
  },
  {
   "cell_type": "code",
   "execution_count": 35,
   "metadata": {},
   "outputs": [
    {
     "data": {
      "text/plain": [
       "3.3708603382110596"
      ]
     },
     "execution_count": 35,
     "metadata": {},
     "output_type": "execute_result"
    },
    {
     "data": {
      "image/png": "[encoded data removed]",
      "text/plain": [
       "<matplotlib.figure.Figure at 0x7ff1442dce48>"
      ]
     },
     "metadata": {},
     "output_type": "display_data"
    }
   ],
   "source": [
    "visualize_runtimes(multithreading(dot_product, [i for i in range(N)], 2),MULTITHREADING_TITLE)"
   ]
  },
  {
   "cell_type": "code",
   "execution_count": 36,
   "metadata": {},
   "outputs": [
    {
     "data": {
      "text/plain": [
       "3.5823237895965576"
      ]
     },
     "execution_count": 36,
     "metadata": {},
     "output_type": "execute_result"
    },
    {
     "data": {
      "image/png": "[encoded data removed]",
      "text/plain": [
       "<matplotlib.figure.Figure at 0x7ff1444633c8>"
      ]
     },
     "metadata": {},
     "output_type": "display_data"
    }
   ],
   "source": [
    "visualize_runtimes(multithreading(dot_product, [i for i in range(N)], 4),MULTITHREADING_TITLE)"
   ]
  },
  {
   "cell_type": "markdown",
   "metadata": {},
   "source": [
    "#### Multiprocessing\n",
    "\n",
    "No benefit on dot product (since already parallel)"
   ]
  },
  {
   "cell_type": "code",
   "execution_count": 115,
   "metadata": {},
   "outputs": [
    {
     "data": {
      "text/plain": [
       "3.1076877117156982"
      ]
     },
     "execution_count": 115,
     "metadata": {},
     "output_type": "execute_result"
    },
    {
     "data": {
      "image/png": "[encoded data removed]",
      "text/plain": [
       "<matplotlib.figure.Figure at 0x7fe25855e438>"
      ]
     },
     "metadata": {},
     "output_type": "display_data"
    }
   ],
   "source": [
    "visualize_runtimes(multiprocessing(dot_product, [i for i in range(N)], 1),\"Single Process\")"
   ]
  },
  {
   "cell_type": "code",
   "execution_count": 38,
   "metadata": {},
   "outputs": [
    {
     "data": {
      "text/plain": [
       "3.2974824905395508"
      ]
     },
     "execution_count": 38,
     "metadata": {},
     "output_type": "execute_result"
    },
    {
     "data": {
      "image/png": "[encoded data removed]",
      "text/plain": [
       "<matplotlib.figure.Figure at 0x7ff14441b160>"
      ]
     },
     "metadata": {},
     "output_type": "display_data"
    }
   ],
   "source": [
    "visualize_runtimes(multiprocessing(dot_product, [i for i in range(N)], 2),MULTIPROCESSING_TITLE)"
   ]
  },
  {
   "cell_type": "code",
   "execution_count": 39,
   "metadata": {},
   "outputs": [
    {
     "data": {
      "text/plain": [
       "3.5308358669281006"
      ]
     },
     "execution_count": 39,
     "metadata": {},
     "output_type": "execute_result"
    },
    {
     "data": {
      "image/png": "[encoded data removed]",
      "text/plain": [
       "<matplotlib.figure.Figure at 0x7ff1441ed358>"
      ]
     },
     "metadata": {},
     "output_type": "display_data"
    }
   ],
   "source": [
    "visualize_runtimes(multiprocessing(dot_product, [i for i in range(N)], 4),MULTIPROCESSING_TITLE)"
   ]
  },
  {
   "cell_type": "markdown",
   "metadata": {},
   "source": [
    "### CPU Intensive"
   ]
  },
  {
   "cell_type": "code",
   "execution_count": 116,
   "metadata": {
    "collapsed": true
   },
   "outputs": [],
   "source": [
    "def cpu_heavy(n,base):\n",
    "    start = time.time() - base\n",
    "    count = 0\n",
    "    for i in range(n):\n",
    "        count += i\n",
    "    stop = time.time() - base\n",
    "    return start,stop"
   ]
  },
  {
   "cell_type": "code",
   "execution_count": 117,
   "metadata": {
    "collapsed": true
   },
   "outputs": [],
   "source": [
    "N = 10**7\n",
    "ITERS = 10"
   ]
  },
  {
   "cell_type": "markdown",
   "metadata": {},
   "source": [
    "#### Serial"
   ]
  },
  {
   "cell_type": "code",
   "execution_count": 42,
   "metadata": {},
   "outputs": [
    {
     "name": "stdout",
     "output_type": "stream",
     "text": [
      "1 loop, best of 3: 4.22 s per loop\n"
     ]
    }
   ],
   "source": [
    "%timeit -n 1 [cpu_heavy(N, time.time()) for i in range(ITERS)]"
   ]
  },
  {
   "cell_type": "markdown",
   "metadata": {},
   "source": [
    "#### Multithreading\n",
    "\n",
    "No benefit on CPU-intensive tasks"
   ]
  },
  {
   "cell_type": "code",
   "execution_count": 118,
   "metadata": {},
   "outputs": [
    {
     "data": {
      "text/plain": [
       "3.9721176624298096"
      ]
     },
     "execution_count": 118,
     "metadata": {},
     "output_type": "execute_result"
    },
    {
     "data": {
      "image/png": "[encoded data removed]",
      "text/plain": [
       "<matplotlib.figure.Figure at 0x7fe2621276d8>"
      ]
     },
     "metadata": {},
     "output_type": "display_data"
    }
   ],
   "source": [
    "visualize_runtimes(multithreading(cpu_heavy, [N for i in range(ITERS)], 1),\"Single Thread\")"
   ]
  },
  {
   "cell_type": "code",
   "execution_count": 44,
   "metadata": {},
   "outputs": [
    {
     "data": {
      "text/plain": [
       "6.8206055164337158"
      ]
     },
     "execution_count": 44,
     "metadata": {},
     "output_type": "execute_result"
    },
    {
     "data": {
      "image/png": "[encoded data removed]",
      "text/plain": [
       "<matplotlib.figure.Figure at 0x7ff14412b278>"
      ]
     },
     "metadata": {},
     "output_type": "display_data"
    }
   ],
   "source": [
    "visualize_runtimes(multithreading(cpu_heavy, [N for i in range(ITERS)], 2),MULTITHREADING_TITLE)"
   ]
  },
  {
   "cell_type": "code",
   "execution_count": 45,
   "metadata": {},
   "outputs": [
    {
     "data": {
      "text/plain": [
       "6.4440646171569824"
      ]
     },
     "execution_count": 45,
     "metadata": {},
     "output_type": "execute_result"
    },
    {
     "data": {
      "image/png": "[encoded data removed]",
      "text/plain": [
       "<matplotlib.figure.Figure at 0x7ff1440666d8>"
      ]
     },
     "metadata": {},
     "output_type": "display_data"
    }
   ],
   "source": [
    "visualize_runtimes(multithreading(cpu_heavy, [N for i in range(ITERS)], 4),MULTITHREADING_TITLE)"
   ]
  },
  {
   "cell_type": "markdown",
   "metadata": {},
   "source": [
    "#### Multiprocessing\n",
    "\n",
    "Shows benefits on CPU-intensive tasks"
   ]
  },
  {
   "cell_type": "code",
   "execution_count": 119,
   "metadata": {},
   "outputs": [
    {
     "data": {
      "text/plain": [
       "3.9965052604675293"
      ]
     },
     "execution_count": 119,
     "metadata": {},
     "output_type": "execute_result"
    },
    {
     "data": {
      "image/png": "[encoded data removed]",
      "text/plain": [
       "<matplotlib.figure.Figure at 0x7fe26205e400>"
      ]
     },
     "metadata": {},
     "output_type": "display_data"
    }
   ],
   "source": [
    "visualize_runtimes(multiprocessing(cpu_heavy, [N for i in range(ITERS)], 1),\"Single Process\")"
   ]
  },
  {
   "cell_type": "code",
   "execution_count": 47,
   "metadata": {},
   "outputs": [
    {
     "data": {
      "text/plain": [
       "4.5963289737701416"
      ]
     },
     "execution_count": 47,
     "metadata": {},
     "output_type": "execute_result"
    },
    {
     "data": {
      "image/png": "[encoded data removed]",
      "text/plain": [
       "<matplotlib.figure.Figure at 0x7ff13404a6d8>"
      ]
     },
     "metadata": {},
     "output_type": "display_data"
    }
   ],
   "source": [
    "visualize_runtimes(multiprocessing(cpu_heavy, [N for i in range(ITERS)], 2),MULTIPROCESSING_TITLE)"
   ]
  },
  {
   "cell_type": "code",
   "execution_count": 48,
   "metadata": {},
   "outputs": [
    {
     "data": {
      "text/plain": [
       "1.8979084491729736"
      ]
     },
     "execution_count": 48,
     "metadata": {},
     "output_type": "execute_result"
    },
    {
     "data": {
      "image/png": "[encoded data removed]",
      "text/plain": [
       "<matplotlib.figure.Figure at 0x7ff134045a90>"
      ]
     },
     "metadata": {},
     "output_type": "display_data"
    }
   ],
   "source": [
    "visualize_runtimes(multiprocessing(cpu_heavy, [N for i in range(ITERS)], 4),MULTIPROCESSING_TITLE)"
   ]
  },
  {
   "cell_type": "markdown",
   "metadata": {},
   "source": [
    "# Resize Images\n",
    "\n",
    "* https://github.com/python-pillow/Pillow/blob/c9f54c98a5dc18685a9bf8c8822f770492a796d6/_imagingtk.c"
   ]
  },
  {
   "cell_type": "code",
   "execution_count": 76,
   "metadata": {
    "collapsed": true
   },
   "outputs": [],
   "source": [
    "#This one takes IO so multithreading might be better?\n",
    "def resize_img(fpath, base):\n",
    "    img = Image.open(fpath)\n",
    "    rimg = img.resize((224,224))\n",
    "    img.close()\n",
    "    return rimg"
   ]
  },
  {
   "cell_type": "code",
   "execution_count": 85,
   "metadata": {},
   "outputs": [],
   "source": [
    "DATA_PATH='/home/bfortuner/workplace/data/imagenet_sample/'\n",
    "fnames = list(glob.iglob(DATA_PATH+'*/*.JPEG'))\n",
    "N = 5000"
   ]
  },
  {
   "cell_type": "markdown",
   "metadata": {},
   "source": [
    "#### Serial"
   ]
  },
  {
   "cell_type": "code",
   "execution_count": 86,
   "metadata": {},
   "outputs": [
    {
     "name": "stdout",
     "output_type": "stream",
     "text": [
      "1 loop, best of 3: 14.1 s per loop\n"
     ]
    }
   ],
   "source": [
    "%timeit -n 1 [resize_img(f,1) for f in fnames[:N]]"
   ]
  },
  {
   "cell_type": "markdown",
   "metadata": {},
   "source": [
    "#### Multithreading"
   ]
  },
  {
   "cell_type": "code",
   "execution_count": 87,
   "metadata": {},
   "outputs": [
    {
     "name": "stdout",
     "output_type": "stream",
     "text": [
      "1 loop, best of 3: 7.57 s per loop\n"
     ]
    }
   ],
   "source": [
    "%timeit -n 1 multithreading(resize_img, fnames[:N], 2)"
   ]
  },
  {
   "cell_type": "code",
   "execution_count": 88,
   "metadata": {},
   "outputs": [
    {
     "name": "stdout",
     "output_type": "stream",
     "text": [
      "1 loop, best of 3: 4.01 s per loop\n"
     ]
    }
   ],
   "source": [
    "%timeit -n 1 multithreading(resize_img, fnames[:N], 4)"
   ]
  },
  {
   "cell_type": "code",
   "execution_count": 89,
   "metadata": {},
   "outputs": [
    {
     "name": "stdout",
     "output_type": "stream",
     "text": [
      "1 loop, best of 3: 3.26 s per loop\n"
     ]
    }
   ],
   "source": [
    "%timeit -n 1 multithreading(resize_img, fnames[:N], 8)"
   ]
  },
  {
   "cell_type": "markdown",
   "metadata": {},
   "source": [
    "#### Multiprocessing"
   ]
  },
  {
   "cell_type": "code",
   "execution_count": 90,
   "metadata": {},
   "outputs": [
    {
     "name": "stdout",
     "output_type": "stream",
     "text": [
      "1 loop, best of 3: 7.93 s per loop\n"
     ]
    }
   ],
   "source": [
    "%timeit -n 1 multiprocessing(resize_img, fnames[:N], 2)"
   ]
  },
  {
   "cell_type": "code",
   "execution_count": 91,
   "metadata": {},
   "outputs": [
    {
     "name": "stdout",
     "output_type": "stream",
     "text": [
      "1 loop, best of 3: 5.02 s per loop\n"
     ]
    }
   ],
   "source": [
    "%timeit -n 1 multiprocessing(resize_img, fnames[:N], 4)"
   ]
  },
  {
   "cell_type": "code",
   "execution_count": 92,
   "metadata": {},
   "outputs": [
    {
     "name": "stdout",
     "output_type": "stream",
     "text": [
      "1 loop, best of 3: 4.21 s per loop\n"
     ]
    }
   ],
   "source": [
    "%timeit -n 1 multiprocessing(resize_img, fnames[:N], 8)"
   ]
  },
  {
   "cell_type": "code",
   "execution_count": null,
   "metadata": {
    "collapsed": true
   },
   "outputs": [],
   "source": []
  }
 ],
 "metadata": {
  "kernelspec": {
   "display_name": "Python 3",
   "language": "python",
   "name": "python3"
  },
  "language_info": {
   "codemirror_mode": {
    "name": "ipython",
    "version": 3
   },
   "file_extension": ".py",
   "mimetype": "text/x-python",
   "name": "python",
   "nbconvert_exporter": "python",
   "pygments_lexer": "ipython3",
   "version": "3.6.7"
  }
 },
 "nbformat": 4,
 "nbformat_minor": 2
}
