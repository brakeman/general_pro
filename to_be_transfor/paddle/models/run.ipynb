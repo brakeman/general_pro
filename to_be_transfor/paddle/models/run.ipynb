{
 "cells": [
  {
   "cell_type": "code",
   "execution_count": 1,
   "metadata": {
    "collapsed": false
   },
   "outputs": [
    {
     "data": {
      "text/plain": [
       "'/home/aistudio'"
      ]
     },
     "execution_count": 1,
     "metadata": {},
     "output_type": "execute_result"
    }
   ],
   "source": [
    "%pwd"
   ]
  },
  {
   "cell_type": "code",
   "execution_count": 2,
   "metadata": {
    "collapsed": false
   },
   "outputs": [],
   "source": [
    "# 测试paddle conv2d 参数;  \n",
    "# 完成 整个 conv+pool block;  finish 测试\n",
    "# 本周开始搭建视觉模型；paper list;\n",
    "# 整体训练框架;\n",
    "# alex next \n",
    "# vgg \n",
    "# googleNet \n",
    "# resnet \n",
    "# inception \n",
    "# dpn \n",
    "# SE-ResNeXt \n",
    "# https://www.cnblogs.com/vincent1997/p/10901875.html\n",
    "# https://cloud.tencent.com/developer/article/1382720\n",
    "# https://blog.csdn.net/hua111hua/article/details/89422661#PaddlePaddleVisualDL_132 可视化\n",
    "# https://aistudio.baidu.com/bdvgpu/user/127073/136105/visualdl/static/index.html 最后几项改成这个"
   ]
  },
  {
   "cell_type": "code",
   "execution_count": 3,
   "metadata": {
    "collapsed": false
   },
   "outputs": [],
   "source": [
    "import sys\n",
    "sys.path.append('/home/aistudio/work')\n",
    "from models.model import conv_pool_layer, alex_net\n",
    "from models.utils import load_image, to_rgb_img\n",
    "from models.data import image_reader_creator, train_valid_split\n",
    "\n",
    "from visualdl import LogWriter\n",
    "import paddle.fluid as fluid\n",
    "import paddle\n",
    "from paddle.fluid.initializer import TruncatedNormalInitializer\n",
    "import numpy as np\n",
    "import sys\n",
    "import os\n",
    "from glob import glob\n",
    "from multiprocessing import cpu_count\n",
    "import matplotlib.pyplot as pyplot\n",
    "import subprocess"
   ]
  },
  {
   "cell_type": "code",
   "execution_count": 4,
   "metadata": {
    "collapsed": false
   },
   "outputs": [],
   "source": [
    "gt_dir = '/home/aistudio/work/task3/train/truth_pic/'\n",
    "fk_dir = '/home/aistudio/work/task3/train/rumor_pic/'\n",
    "revert_gt_dir = '/home/aistudio/work/task3/train/truth_revert/'\n",
    "revert_fk_dir = '/home/aistudio/work/task3/train/fake_revert/'\n",
    "truth_samples = [(i, 1) for i in glob(gt_dir+'*')[10:20]]\n",
    "fake_samples = [(i, 0) for i in glob(fk_dir+'*')]\n",
    "truth_revert_samples = [(i, 1) for i in glob(revert_gt_dir+'*')]\n",
    "fake_revert_samples = [(i, 0) for i in glob(revert_fk_dir+'*')]\n",
    "all_samples = [sample for sub_lis in [truth_samples, fake_samples, truth_revert_samples, fake_revert_samples] for sample in sub_lis]\n",
    "num_cls = 2\n",
    "EPOCH = 100\n",
    "bs = 400\n",
    "buf_size = 4000"
   ]
  },
  {
   "cell_type": "code",
   "execution_count": 6,
   "metadata": {
    "collapsed": false
   },
   "outputs": [
    {
     "name": "stdout",
     "output_type": "stream",
     "text": [
      "chnnels:3\n",
      "chnnels:64\n",
      "chnnels:192\n",
      "chnnels:384\n",
      "conv4 shape:(-1, 256, 3, 3)\n"
     ]
    }
   ],
   "source": [
    "main_program = fluid.Program()\n",
    "startup_program = fluid.Program()\n",
    "with fluid.program_guard(main_program=main_program, startup_program=startup_program):\n",
    "    data = fluid.layers.data(name='data', shape=[3,100,100], dtype='float32')\n",
    "    label = fluid.layers.data(name=\"label\", shape=[1], dtype='int64')\n",
    "    net_out = alex_net(data)\n",
    "    pred = fluid.layers.fc(input=net_out, size=num_cls, act='softmax',\n",
    "                            param_attr=paddle.fluid.ParamAttr(name=\"param1\", initializer=TruncatedNormalInitializer()))\n",
    "    \n",
    "    loss = fluid.layers.cross_entropy(input=pred, label=label)\n",
    "    ave_loss = fluid.layers.mean(loss)\n",
    "\n",
    "    # batch_size = fluid.layers.create_tensor(dtype='int64')\n",
    "    # print('bs:{}'.format(batch_size))\n",
    "    \n",
    "    acc = fluid.layers.accuracy(input=pred, label=label)\n",
    "    auc,_,_ = fluid.layers.auc(input=pred, label=label)\n",
    "    test_program = main_program.clone(for_test=True)\n",
    "    sgd = fluid.optimizer.AdamOptimizer(learning_rate=0.001)\n",
    "    sgd.minimize(ave_loss)\n",
    "        "
   ]
  },
  {
   "cell_type": "code",
   "execution_count": 7,
   "metadata": {
    "collapsed": false
   },
   "outputs": [],
   "source": [
    "logwriter = LogWriter(\"./log\", sync_cycle=10)\n",
    "\n",
    "with logwriter.mode(\"train\") as writer:\n",
    "    train_loss_scalar = writer.scalar(\"loss\")\n",
    "\n",
    "with logwriter.mode(\"train\") as writer:\n",
    "    train_acc_scalar = writer.scalar(\"acc\")\n",
    "\n",
    "with logwriter.mode(\"train\") as writer:\n",
    "    train_acc2_scalar = writer.scalar(\"acc2\")\n",
    "    \n",
    "with logwriter.mode(\"train\") as writer:\n",
    "    train_auc_scalar = writer.scalar(\"auc\")\n",
    "\n",
    "with logwriter.mode(\"train\") as writer:\n",
    "    train_auc2_scalar = writer.scalar(\"auc2\")\n",
    "\n",
    "with logwriter.mode(\"test\") as writer:\n",
    "    test_loss_scalar = writer.scalar(\"loss\")\n",
    "\n",
    "with logwriter.mode(\"test\") as writer:\n",
    "    test_acc_scalar = writer.scalar(\"acc\")\n",
    "\n",
    "with logwriter.mode(\"test\") as writer:\n",
    "    test_acc2_scalar = writer.scalar(\"acc2\")\n",
    "    \n",
    "with logwriter.mode(\"test\") as writer:\n",
    "    test_auc_scalar = writer.scalar(\"auc\")\n",
    "\n",
    "with logwriter.mode(\"test\") as writer:\n",
    "    test_auc2_scalar = writer.scalar(\"auc2\")\n",
    "    \n"
   ]
  },
  {
   "cell_type": "code",
   "execution_count": 8,
   "metadata": {
    "collapsed": false
   },
   "outputs": [
    {
     "data": {
      "text/plain": [
       "8"
      ]
     },
     "execution_count": 8,
     "metadata": {},
     "output_type": "execute_result"
    }
   ],
   "source": [
    "train, test = train_valid_split(all_samples, 0.8)\n",
    "len([i for i in test if i[1]==1])"
   ]
  },
  {
   "cell_type": "code",
   "execution_count": 9,
   "metadata": {
    "collapsed": false
   },
   "outputs": [],
   "source": [
    "use_cuda = True\n",
    "place = fluid.CUDAPlace(0) if use_cuda else fluid.CPUPlace()\n",
    "exe = fluid.Executor(place)\n",
    "\n",
    "train_reader = image_reader_creator(train, len(train))\n",
    "test_reader = image_reader_creator(test, len(test))\n",
    "batch_train_reader = paddle.batch(train_reader, bs)\n",
    "batch_test_reader = paddle.batch(test_reader, bs)\n",
    "\n",
    "feeder = fluid.DataFeeder(place=place, feed_list=[data, label])\n",
    "\n",
    "train_step = 0\n",
    "test_step = 0\n",
    "\n",
    "exe.run(startup_program)\n",
    "\n",
    "train_acc_metric = fluid.metrics.Accuracy()\n",
    "train_auc_metric = fluid.metrics.Auc(\"ROC\")\n",
    "test_acc_metric = fluid.metrics.Accuracy()\n",
    "test_auc_metric = fluid.metrics.Auc(\"ROC\")\n",
    "\n",
    "\n",
    "for epoch in range(EPOCH):\n",
    "    for bs_data in batch_train_reader():\n",
    "        tra_pred, tra_label, tra_loss, tra_acc, tra_auc = exe.run(main_program, feed=feeder.feed(bs_data),\n",
    "                                                fetch_list=[pred, label, ave_loss, acc, auc])\n",
    "           \n",
    "        train_acc_metric.update(value=tra_acc, weight=bs)  \n",
    "        train_auc_metric.update(tra_pred, tra_label)\n",
    "        \n",
    "        train_loss_scalar.add_record(train_step, tra_loss[0])\n",
    "        train_acc_scalar.add_record(train_step, tra_acc[0])\n",
    "        train_acc2_scalar.add_record(train_step, train_acc_metric.eval())\n",
    "        train_auc_scalar.add_record(train_step, tra_auc[0])\n",
    "        train_auc2_scalar.add_record(train_step, train_auc_metric.eval())\n",
    "        train_step+=1\n",
    "\n",
    "\n",
    "    for batch_id, data in enumerate(batch_test_reader()):\n",
    "        test_pred, test_label, test_loss, test_acc, test_auc = exe.run(program=test_program, feed=feeder.feed(data),            \n",
    "                                      fetch_list=[pred, label, ave_loss, acc, auc])     \n",
    "        test_acc_metric.update(value=test_acc, weight=bs)  \n",
    "        test_auc_metric.update(test_pred, test_label)\n",
    "        \n",
    "        test_loss_scalar.add_record(test_step, test_loss[0])\n",
    "        test_acc_scalar.add_record(test_step, test_acc[0])\n",
    "        test_acc2_scalar.add_record(test_step, test_acc_metric.eval())\n",
    "        test_auc_scalar.add_record(test_step, test_auc[0])\n",
    "        test_auc2_scalar.add_record(test_step, test_auc_metric.eval())\n",
    "        test_step+=1\n"
   ]
  },
  {
   "cell_type": "code",
   "execution_count": 10,
   "metadata": {
    "collapsed": false
   },
   "outputs": [],
   "source": [
    "https://aistudio.baidu.com/bdvgpu/user/127073/136105/visualdl/static/index.html"
   ]
  },
  {
   "cell_type": "code",
   "execution_count": 11,
   "metadata": {
    "collapsed": false
   },
   "outputs": [],
   "source": [
    "https://aistudio.baidu.com/bdvgpu/user/127073/136105/visualdl/static/index.html"
   ]
  },
  {
   "cell_type": "code",
   "execution_count": null,
   "metadata": {
    "collapsed": false
   },
   "outputs": [],
   "source": [
    "https://aistudio.baidu.com/bdvgpu/user/127073/136105/notebooks/136105.ipynb?redirects=1"
   ]
  },
  {
   "cell_type": "code",
   "execution_count": null,
   "metadata": {
    "collapsed": false
   },
   "outputs": [],
   "source": []
  },
  {
   "cell_type": "code",
   "execution_count": null,
   "metadata": {
    "collapsed": false
   },
   "outputs": [],
   "source": []
  },
  {
   "cell_type": "code",
   "execution_count": null,
   "metadata": {
    "collapsed": false
   },
   "outputs": [],
   "source": []
  }
 ],
 "metadata": {
  "kernelspec": {
   "display_name": "PaddlePaddle 1.5.1 (Python 3.5)",
   "language": "python",
   "name": "py35-paddle1.2.0"
  },
  "language_info": {
   "codemirror_mode": {
    "name": "ipython",
    "version": 3
   },
   "file_extension": ".py",
   "mimetype": "text/x-python",
   "name": "python",
   "nbconvert_exporter": "python",
   "pygments_lexer": "ipython3",
   "version": "3.5.5"
  }
 },
 "nbformat": 4,
 "nbformat_minor": 1
}
