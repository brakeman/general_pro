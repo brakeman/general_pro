{
 "cells": [
  {
   "cell_type": "code",
   "execution_count": 1,
   "metadata": {},
   "outputs": [],
   "source": [
    "import os\n",
    "import torch\n",
    "import pandas as pd\n",
    "import numpy as np\n",
    "from torch.utils.data import DataLoader\n",
    "from data import WhaleData\n",
    "from model import Net\n",
    "from loss import FocalLossQb, bce_loss\n",
    "from eval import do_valid"
   ]
  },
  {
   "cell_type": "code",
   "execution_count": 2,
   "metadata": {},
   "outputs": [],
   "source": [
    "batch_size = 32\n",
    "\n",
    "out_dir = os.path.join('./models/', 'resnet101')\n",
    "if not os.path.exists(out_dir):\n",
    "    os.makedirs(out_dir)\n",
    "if not os.path.exists(os.path.join(out_dir,'checkpoint')):\n",
    "    os.makedirs(os.path.join(out_dir,'checkpoint'))\n",
    "if not os.path.exists(os.path.join(out_dir,'train')):\n",
    "    os.makedirs(os.path.join(out_dir,'train'))\n",
    "\n",
    "        \n",
    "train_dataset = WhaleData(mode='train')\n",
    "valid_0 = WhaleData(mode='valid', fold_id=0)\n",
    "valid_1 = WhaleData(mode='valid', fold_id=1)\n",
    "valid_2 = WhaleData(mode='valid', fold_id=2)\n",
    "valid_3 = WhaleData(mode='valid', fold_id=3)\n",
    "valid_4 = WhaleData(mode='valid', fold_id=4)\n",
    "valid_5 = WhaleData(mode='valid', fold_id=5)"
   ]
  },
  {
   "cell_type": "code",
   "execution_count": 3,
   "metadata": {},
   "outputs": [],
   "source": [
    "valid_loader0  = DataLoader(valid_0, batch_size=batch_size, drop_last=False, num_workers=16)\n",
    "valid_loader1  = DataLoader(valid_1, batch_size=batch_size, drop_last=False, num_workers=16)\n",
    "valid_loader2  = DataLoader(valid_2, batch_size=batch_size, drop_last=False, num_workers=16)\n",
    "valid_loader3  = DataLoader(valid_3, batch_size=batch_size, drop_last=False, num_workers=16)\n",
    "valid_loader4  = DataLoader(valid_4, batch_size=batch_size, drop_last=False, num_workers=16)\n",
    "valid_loader5  = DataLoader(valid_4, batch_size=batch_size, drop_last=False, num_workers=16)"
   ]
  },
  {
   "cell_type": "code",
   "execution_count": 4,
   "metadata": {},
   "outputs": [],
   "source": [
    "use_cuda = True\n",
    "device = torch.device(\"cuda\" if use_cuda else \"cpu\")\n",
    "\n",
    "net = Net(num_class=5005)\n",
    "for p in net.basemodel.layer0.parameters(): \n",
    "    p.requires_grad = False\n",
    "    \n",
    "for p in net.basemodel.layer1.parameters(): \n",
    "    p.requires_grad = False\n",
    "    \n",
    "for p in net.basemodel.layer2.parameters(): \n",
    "    p.requires_grad = False\n",
    "    \n",
    "net = torch.nn.DataParallel(net)\n",
    "net = net.to(device)\n",
    "optimizer = torch.optim.Adam(filter(lambda p: p.requires_grad, net.parameters()),\n",
    "                             lr=0.0001, betas=(0.9, 0.999),\n",
    "                             eps=1e-08, weight_decay=0.0002)"
   ]
  },
  {
   "cell_type": "code",
   "execution_count": null,
   "metadata": {},
   "outputs": [],
   "source": [
    "EPOCH=10\n",
    "i=0\n",
    "batch_size=32\n",
    "device = 'cuda'\n",
    "\n",
    "for epoch in range(EPOCH):\n",
    "    train_loader = DataLoader(train_dataset, shuffle=True, batch_size=batch_size, drop_last=False, num_workers=16)\n",
    "    for input, truth_ in train_loader:\n",
    "        i+=1\n",
    "        input = input.to(device)\n",
    "        truth_ = truth_.to(device)\n",
    "        optimizer.zero_grad()\n",
    "        logit = net(input)\n",
    "        batch_loss1 = FocalLossQb(gamma=2)(logit, truth_)\n",
    "        batch_loss2 = bce_loss(logit, truth_)\n",
    "        loss = batch_loss1+batch_loss2\n",
    "        loss.backward()\n",
    "        optimizer.step()\n",
    "        \n",
    "        if i % 10 == 0:\n",
    "            net.eval()\n",
    "            train_loss1, train_loss2, train_loss, train_acc, label_5, pred_5 = do_valid(net, train_loader, device=device) \n",
    "            valid_loss1, valid_loss2, valid_loss, valid_acc, label_5_val, pred_5_val = do_valid(net, valid_loader0, device=device)\n",
    "            net.train()\n",
    "            print('--------------------------------------------------------------------')\n",
    "            print('train_loss1:{:.4f} || train_loss2:{:.4f} || train_loss:{:.4f} || train_acc:{:.4f} ||'.format(train_loss1, train_loss2, train_loss, train_acc))\n",
    "            print('valid_loss1:{:.4f} || valid_loss2:{:.4f} || valid_loss:{:.4f} || valid_acc:{:.4f} ||'.format(valid_loss1, valid_loss2, valid_loss, valid_acc))\n",
    "            print('five_sample_label:\\n{}\\nfive_sample_predict:\\n{}\\n'.format(label_5, pred_5))\n",
    "            "
   ]
  },
  {
   "cell_type": "code",
   "execution_count": null,
   "metadata": {},
   "outputs": [],
   "source": []
  }
 ],
 "metadata": {
  "kernelspec": {
   "display_name": "Python 3",
   "language": "python",
   "name": "python3"
  },
  "language_info": {
   "codemirror_mode": {
    "name": "ipython",
    "version": 3
   },
   "file_extension": ".py",
   "mimetype": "text/x-python",
   "name": "python",
   "nbconvert_exporter": "python",
   "pygments_lexer": "ipython3",
   "version": "3.6.7"
  }
 },
 "nbformat": 4,
 "nbformat_minor": 2
}
